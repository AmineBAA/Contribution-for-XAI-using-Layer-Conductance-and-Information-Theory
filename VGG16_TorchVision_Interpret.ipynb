{
  "cells": [
    {
      "cell_type": "markdown",
      "metadata": {
        "id": "IigRlmI8siv7"
      },
      "source": [
        "# Model Interpretation for Pretrained VGG-16 Model: Neural activation classification with Autoencoder"
      ]
    },
    {
      "cell_type": "markdown",
      "metadata": {
        "id": "yiTZe7yasiwA"
      },
      "source": [
        "This notebook demonstrates how to apply model interpretability algorithms on pretrained ResNet model using a handpicked image and visualizes the attributions for each pixel by overlaying them on the image.\n",
        "\n",
        "Captum library privides function of Layer Conductance, that helps to evaluate importance of each neuron within a given Layer"
      ]
    },
    {
      "cell_type": "code",
      "execution_count": null,
      "metadata": {
        "colab": {
          "base_uri": "https://localhost:8080/"
        },
        "id": "S0EeH6IIs9MF",
        "outputId": "0b24b07f-b914-4ce3-d718-6c8957f722d0"
      },
      "outputs": [
        {
          "output_type": "stream",
          "name": "stdout",
          "text": [
            "Collecting captum\n",
            "  Downloading captum-0.7.0-py3-none-any.whl (1.3 MB)\n",
            "\u001b[?25l     \u001b[90m━━━━━━━━━━━━━━━━━━━━━━━━━━━━━━━━━━━━━━━━\u001b[0m \u001b[32m0.0/1.3 MB\u001b[0m \u001b[31m?\u001b[0m eta \u001b[36m-:--:--\u001b[0m\r\u001b[2K     \u001b[91m━━━━━━━━━━━━━\u001b[0m\u001b[91m╸\u001b[0m\u001b[90m━━━━━━━━━━━━━━━━━━━━━━━━━━\u001b[0m \u001b[32m0.5/1.3 MB\u001b[0m \u001b[31m13.5 MB/s\u001b[0m eta \u001b[36m0:00:01\u001b[0m\r\u001b[2K     \u001b[91m━━━━━━━━━━━━━━━━━━━━━━━━━━━━━━━━━━━━━━━\u001b[0m\u001b[91m╸\u001b[0m \u001b[32m1.3/1.3 MB\u001b[0m \u001b[31m20.3 MB/s\u001b[0m eta \u001b[36m0:00:01\u001b[0m\r\u001b[2K     \u001b[90m━━━━━━━━━━━━━━━━━━━━━━━━━━━━━━━━━━━━━━━━\u001b[0m \u001b[32m1.3/1.3 MB\u001b[0m \u001b[31m16.7 MB/s\u001b[0m eta \u001b[36m0:00:00\u001b[0m\n",
            "\u001b[?25hRequirement already satisfied: matplotlib in /usr/local/lib/python3.10/dist-packages (from captum) (3.7.1)\n",
            "Requirement already satisfied: numpy in /usr/local/lib/python3.10/dist-packages (from captum) (1.23.5)\n",
            "Requirement already satisfied: torch>=1.6 in /usr/local/lib/python3.10/dist-packages (from captum) (2.1.0+cu121)\n",
            "Requirement already satisfied: tqdm in /usr/local/lib/python3.10/dist-packages (from captum) (4.66.1)\n",
            "Requirement already satisfied: filelock in /usr/local/lib/python3.10/dist-packages (from torch>=1.6->captum) (3.13.1)\n",
            "Requirement already satisfied: typing-extensions in /usr/local/lib/python3.10/dist-packages (from torch>=1.6->captum) (4.5.0)\n",
            "Requirement already satisfied: sympy in /usr/local/lib/python3.10/dist-packages (from torch>=1.6->captum) (1.12)\n",
            "Requirement already satisfied: networkx in /usr/local/lib/python3.10/dist-packages (from torch>=1.6->captum) (3.2.1)\n",
            "Requirement already satisfied: jinja2 in /usr/local/lib/python3.10/dist-packages (from torch>=1.6->captum) (3.1.2)\n",
            "Requirement already satisfied: fsspec in /usr/local/lib/python3.10/dist-packages (from torch>=1.6->captum) (2023.6.0)\n",
            "Requirement already satisfied: triton==2.1.0 in /usr/local/lib/python3.10/dist-packages (from torch>=1.6->captum) (2.1.0)\n",
            "Requirement already satisfied: contourpy>=1.0.1 in /usr/local/lib/python3.10/dist-packages (from matplotlib->captum) (1.2.0)\n",
            "Requirement already satisfied: cycler>=0.10 in /usr/local/lib/python3.10/dist-packages (from matplotlib->captum) (0.12.1)\n",
            "Requirement already satisfied: fonttools>=4.22.0 in /usr/local/lib/python3.10/dist-packages (from matplotlib->captum) (4.46.0)\n",
            "Requirement already satisfied: kiwisolver>=1.0.1 in /usr/local/lib/python3.10/dist-packages (from matplotlib->captum) (1.4.5)\n",
            "Requirement already satisfied: packaging>=20.0 in /usr/local/lib/python3.10/dist-packages (from matplotlib->captum) (23.2)\n",
            "Requirement already satisfied: pillow>=6.2.0 in /usr/local/lib/python3.10/dist-packages (from matplotlib->captum) (9.4.0)\n",
            "Requirement already satisfied: pyparsing>=2.3.1 in /usr/local/lib/python3.10/dist-packages (from matplotlib->captum) (3.1.1)\n",
            "Requirement already satisfied: python-dateutil>=2.7 in /usr/local/lib/python3.10/dist-packages (from matplotlib->captum) (2.8.2)\n",
            "Requirement already satisfied: six>=1.5 in /usr/local/lib/python3.10/dist-packages (from python-dateutil>=2.7->matplotlib->captum) (1.16.0)\n",
            "Requirement already satisfied: MarkupSafe>=2.0 in /usr/local/lib/python3.10/dist-packages (from jinja2->torch>=1.6->captum) (2.1.3)\n",
            "Requirement already satisfied: mpmath>=0.19 in /usr/local/lib/python3.10/dist-packages (from sympy->torch>=1.6->captum) (1.3.0)\n",
            "Installing collected packages: captum\n",
            "Successfully installed captum-0.7.0\n"
          ]
        }
      ],
      "source": [
        "pip install captum"
      ]
    },
    {
      "cell_type": "code",
      "execution_count": null,
      "metadata": {
        "id": "k8J2PydasiwB"
      },
      "outputs": [],
      "source": [
        "import torch\n",
        "import torch.nn.functional as F\n",
        "\n",
        "from PIL import Image\n",
        "\n",
        "import os\n",
        "import json\n",
        "import numpy as np\n",
        "from matplotlib.colors import LinearSegmentedColormap\n",
        "import matplotlib.pyplot as plt\n",
        "\n",
        "import torchvision\n",
        "from torchvision import models\n",
        "from torchvision import transforms\n",
        "\n",
        "from captum.attr import IntegratedGradients\n",
        "from captum.attr import GradientShap\n",
        "from captum.attr import Occlusion\n",
        "from captum.attr import NoiseTunnel\n",
        "from captum.attr import visualization as viz"
      ]
    },
    {
      "cell_type": "markdown",
      "metadata": {
        "id": "D8EpTB_ysiwD"
      },
      "source": [
        "## 1- Loading the model and the dataset\n"
      ]
    },
    {
      "cell_type": "markdown",
      "metadata": {
        "id": "s97qQ39fsiwE"
      },
      "source": [
        "Loads pretrained Resnet model and sets it to eval mode"
      ]
    },
    {
      "cell_type": "code",
      "execution_count": null,
      "metadata": {
        "colab": {
          "base_uri": "https://localhost:8080/"
        },
        "id": "CavnkdmesiwE",
        "outputId": "68a1fb4b-25f1-4573-be2c-1382030103ad"
      },
      "outputs": [
        {
          "output_type": "stream",
          "name": "stderr",
          "text": [
            "/usr/local/lib/python3.10/dist-packages/torchvision/models/_utils.py:208: UserWarning: The parameter 'pretrained' is deprecated since 0.13 and may be removed in the future, please use 'weights' instead.\n",
            "  warnings.warn(\n",
            "/usr/local/lib/python3.10/dist-packages/torchvision/models/_utils.py:223: UserWarning: Arguments other than a weight enum or `None` for 'weights' are deprecated since 0.13 and may be removed in the future. The current behavior is equivalent to passing `weights=VGG16_Weights.IMAGENET1K_V1`. You can also use `weights=VGG16_Weights.DEFAULT` to get the most up-to-date weights.\n",
            "  warnings.warn(msg)\n",
            "Downloading: \"https://download.pytorch.org/models/vgg16-397923af.pth\" to /root/.cache/torch/hub/checkpoints/vgg16-397923af.pth\n",
            "100%|██████████| 528M/528M [00:01<00:00, 300MB/s]\n"
          ]
        }
      ],
      "source": [
        "model = models.vgg16(pretrained=True)\n",
        "model = model.eval()"
      ]
    },
    {
      "cell_type": "markdown",
      "metadata": {
        "id": "afQl4211siwF"
      },
      "source": [
        "Downloads the list of classes/labels for ImageNet dataset and reads them into the memory"
      ]
    },
    {
      "cell_type": "code",
      "execution_count": null,
      "metadata": {
        "colab": {
          "base_uri": "https://localhost:8080/"
        },
        "id": "Q0brGoEQsiwF",
        "outputId": "5fe78508-1435-4d78-8077-7b7f493aa694"
      },
      "outputs": [
        {
          "output_type": "stream",
          "name": "stdout",
          "text": [
            "--2023-12-25 07:53:34--  https://s3.amazonaws.com/deep-learning-models/image-models/imagenet_class_index.json\n",
            "Resolving s3.amazonaws.com (s3.amazonaws.com)... 54.231.225.200, 52.216.115.45, 54.231.164.168, ...\n",
            "Connecting to s3.amazonaws.com (s3.amazonaws.com)|54.231.225.200|:443... connected.\n",
            "HTTP request sent, awaiting response... 200 OK\n",
            "Length: 35363 (35K) [application/octet-stream]\n",
            "Saving to: ‘/root/.torch/models/imagenet_class_index.json’\n",
            "\n",
            "imagenet_class_inde 100%[===================>]  34.53K  --.-KB/s    in 0.09s   \n",
            "\n",
            "2023-12-25 07:53:34 (403 KB/s) - ‘/root/.torch/models/imagenet_class_index.json’ saved [35363/35363]\n",
            "\n"
          ]
        }
      ],
      "source": [
        "!wget -P $HOME/.torch/models https://s3.amazonaws.com/deep-learning-models/image-models/imagenet_class_index.json"
      ]
    },
    {
      "cell_type": "code",
      "execution_count": null,
      "metadata": {
        "id": "qX5Nbt_9siwH"
      },
      "outputs": [],
      "source": [
        "labels_path = os.getenv(\"HOME\") + '/.torch/models/imagenet_class_index.json'\n",
        "with open(labels_path) as json_data:\n",
        "    idx_to_labels = json.load(json_data)"
      ]
    },
    {
      "cell_type": "code",
      "execution_count": null,
      "metadata": {
        "colab": {
          "base_uri": "https://localhost:8080/"
        },
        "id": "yr2yLA-uk0mJ",
        "outputId": "5dc2c82d-c110-4a26-8c07-cc27f0a1c483"
      },
      "outputs": [
        {
          "output_type": "stream",
          "name": "stdout",
          "text": [
            "Files renamed successfully.\n"
          ]
        }
      ],
      "source": [
        "### Rename files\n",
        "\n",
        "import os\n",
        "import glob\n",
        "\n",
        "# Replace these values with your desired folder and renaming criteria\n",
        "folder_path = '/content'\n",
        "file_extension = '.jpg'  # Change to the desired file extension\n",
        "name_pattern = 'animal_{}'  # Change to your preferred name pattern\n",
        "\n",
        "# Get a list of files that match the criteria\n",
        "files_to_rename = glob.glob(os.path.join(folder_path, f\"*{file_extension}\"))\n",
        "\n",
        "# Iterate through the files and rename them\n",
        "for index, old_file_path in enumerate(files_to_rename):\n",
        "    # Extract the file's base name without extension\n",
        "    base_name = os.path.splitext(os.path.basename(old_file_path))[0]\n",
        "\n",
        "    # Construct the new name using the pattern\n",
        "    new_name = name_pattern.format(index + 1)\n",
        "\n",
        "    # Create the new file path with the same extension as the old file\n",
        "    new_file_path = os.path.join(folder_path, f\"{new_name}{file_extension}\")\n",
        "\n",
        "    # Rename the file\n",
        "    os.rename(old_file_path, new_file_path)\n",
        "\n",
        "print(\"Files renamed successfully.\")"
      ]
    },
    {
      "cell_type": "markdown",
      "metadata": {
        "id": "I1frMEODsiwH"
      },
      "source": [
        "Defines transformers and normalizing functions for the image.\n",
        "It also loads an image from the `img/resnet/` folder that will be used for interpretation purposes."
      ]
    },
    {
      "cell_type": "code",
      "execution_count": null,
      "metadata": {
        "id": "TOcXPDP4siwI"
      },
      "outputs": [],
      "source": [
        "transform = transforms.Compose([\n",
        " transforms.Resize(256),\n",
        " transforms.CenterCrop(224),\n",
        " transforms.ToTensor()\n",
        "])\n",
        "\n",
        "transform_normalize = transforms.Normalize(\n",
        "     mean=[0.485, 0.456, 0.406],\n",
        "     std=[0.229, 0.224, 0.225]\n",
        " )\n",
        "\n",
        "img = Image.open('/content/animal_1.jpg')\n",
        "\n",
        "transformed_img = transform(img)\n",
        "\n",
        "input = transform_normalize(transformed_img)\n",
        "input = input.unsqueeze(0)"
      ]
    },
    {
      "cell_type": "markdown",
      "metadata": {
        "id": "vNZJG6CAsiwI"
      },
      "source": [
        "Predict the class of the input image"
      ]
    },
    {
      "cell_type": "code",
      "execution_count": null,
      "metadata": {
        "colab": {
          "base_uri": "https://localhost:8080/"
        },
        "id": "R-ZSeZBGsiwI",
        "outputId": "63a1faed-9366-4646-c0e9-ca310fe2705f"
      },
      "outputs": [
        {
          "output_type": "stream",
          "name": "stdout",
          "text": [
            "Predicted: fox_squirrel ( 0.38104650378227234 )\n"
          ]
        }
      ],
      "source": [
        "output = model(input)\n",
        "output = F.softmax(output, dim=1)\n",
        "prediction_score, pred_label_idx = torch.topk(output, 1)\n",
        "\n",
        "pred_label_idx.squeeze_()\n",
        "predicted_label = idx_to_labels[str(pred_label_idx.item())][1]\n",
        "print('Predicted:', predicted_label, '(', prediction_score.squeeze().item(), ')')\n"
      ]
    },
    {
      "cell_type": "code",
      "execution_count": null,
      "metadata": {
        "colab": {
          "base_uri": "https://localhost:8080/"
        },
        "id": "6fYC_z4-psCS",
        "outputId": "95301273-f5f9-4ecc-a163-a5d1f40bfeab"
      },
      "outputs": [
        {
          "data": {
            "text/plain": [
              "281"
            ]
          },
          "execution_count": 180,
          "metadata": {},
          "output_type": "execute_result"
        }
      ],
      "source": [
        "pred_label_idx.item()"
      ]
    },
    {
      "cell_type": "code",
      "execution_count": null,
      "metadata": {
        "id": "6hT9CiTgdBm_"
      },
      "outputs": [],
      "source": [
        "layer_conv=model.features[14] # Corresponds to the 7th layer"
      ]
    },
    {
      "cell_type": "markdown",
      "metadata": {
        "id": "upGS-IL4dg75"
      },
      "source": [
        "## 3- Layer Conductance"
      ]
    },
    {
      "cell_type": "code",
      "execution_count": null,
      "metadata": {
        "id": "tA1azY7WtvwX"
      },
      "outputs": [],
      "source": [
        "from captum.attr import LayerConductance\n",
        "cond =LayerConductance(model, layer_conv)"
      ]
    },
    {
      "cell_type": "code",
      "execution_count": null,
      "metadata": {
        "id": "_AoVgOMouoaE"
      },
      "outputs": [],
      "source": [
        "cond =LayerConductance(model,layer_conv)\n",
        "cond_vals = cond.attribute(input,target=291)\n",
        "cond_vals = cond_vals.detach().numpy()\n",
        "p=cond_vals.shape[1]\n",
        "q=cond_vals.shape[2]*cond_vals.shape[3]\n",
        "cond_vals_flatten_conv=cond_vals.reshape((p,q))"
      ]
    },
    {
      "cell_type": "code",
      "execution_count": null,
      "metadata": {
        "colab": {
          "base_uri": "https://localhost:8080/"
        },
        "id": "N-ZZhRJur9cc",
        "outputId": "a61b3ed8-e042-41c0-8d9f-8c5c62817a78"
      },
      "outputs": [
        {
          "data": {
            "text/plain": [
              "(256, 3136)"
            ]
          },
          "execution_count": 14,
          "metadata": {},
          "output_type": "execute_result"
        }
      ],
      "source": [
        "cond_vals_flatten_conv.shape"
      ]
    },
    {
      "cell_type": "code",
      "execution_count": null,
      "metadata": {
        "id": "hbK_69jsu9gn"
      },
      "outputs": [],
      "source": [
        "# Helper method to print importances and visualize distribution\n",
        "def visualize_importances(feature_names, importances, title=\"Average Feature Importances\", plot=True, axis_title=\"Features\"):\n",
        "    print(title)\n",
        "    for i in range(len(feature_names)):\n",
        "        print(feature_names[i], \": \", '%.4f'%(importances[i]))\n",
        "    x_pos = (np.arange(len(feature_names)))\n",
        "    if plot:\n",
        "        plt.figure(figsize=(12,6))\n",
        "        cmap = plt.get_cmap('copper')\n",
        "        norm = plt.Normalize(importances.min(), importances.max())\n",
        "        colors = cmap(norm(importances))\n",
        "        plt.bar(x_pos, importances, align='center',color=colors)\n",
        "        plt.xticks(x_pos, feature_names, wrap=True)\n",
        "        plt.xlabel(axis_title)\n",
        "        plt.title(title)\n"
      ]
    },
    {
      "cell_type": "code",
      "execution_count": null,
      "metadata": {
        "id": "vWENOWSwqYsI"
      },
      "outputs": [],
      "source": [
        "visualize_importances(range(256),np.mean(cond_vals_flatten_conv, axis=1),title=\"Average Neuron Importances\", axis_title=\"Neurons\")"
      ]
    },
    {
      "cell_type": "code",
      "execution_count": null,
      "metadata": {
        "colab": {
          "base_uri": "https://localhost:8080/"
        },
        "id": "K82LxQiyqfHH",
        "outputId": "2df2883b-8b6d-40ab-f543-a8d615794a45"
      },
      "outputs": [
        {
          "data": {
            "text/plain": [
              "(array([110]),)"
            ]
          },
          "execution_count": 18,
          "metadata": {},
          "output_type": "execute_result"
        }
      ],
      "source": [
        "importance=np.mean(cond_vals_flatten_conv, axis=1)\n",
        "np.where(importance==np.max(importance))"
      ]
    },
    {
      "cell_type": "code",
      "execution_count": null,
      "metadata": {
        "id": "MyIc4MfwylQC"
      },
      "outputs": [],
      "source": [
        "vector=[]\n",
        "\n",
        "for i in range(256):\n",
        "  vector.append(np.mean(cond_vals_flatten_conv[i,]))"
      ]
    },
    {
      "cell_type": "code",
      "execution_count": null,
      "metadata": {
        "id": "g-ZIdBJru9d4"
      },
      "outputs": [],
      "source": [
        "################################################################################"
      ]
    },
    {
      "cell_type": "code",
      "execution_count": null,
      "metadata": {
        "id": "mk30eHGzwFoK"
      },
      "outputs": [],
      "source": [
        "merged_array=vector\n",
        "y=[prediction_score.squeeze().item()]\n",
        "label=['lion']\n",
        "for i in range(2,536):\n",
        "  transform = transforms.Compose([ transforms.Resize(256),transforms.CenterCrop(224),transforms.ToTensor()])\n",
        "  transform_normalize = transforms.Normalize(mean=[0.485, 0.456, 0.406],std=[0.229, 0.224, 0.225])\n",
        "  img = Image.open('/content/animal_'+str(i)+'.jpg')\n",
        "  transformed_img = transform(img)\n",
        "  input = transform_normalize(transformed_img)\n",
        "  input = input.unsqueeze(0)\n",
        "  output = model(input)\n",
        "  output = F.softmax(output, dim=1)\n",
        "  prediction_score, pred_label_idx = torch.topk(output, 1)\n",
        "  pred_label_idx.squeeze_()\n",
        "  predicted_label = idx_to_labels[str(pred_label_idx.item())][1]\n",
        "  y.append(prediction_score.squeeze().item())\n",
        "  label.append(predicted_label)\n",
        "  index=pred_label_idx.item()\n",
        "  cond =LayerConductance(model,layer_conv)\n",
        "  cond_vals = cond.attribute(input,target=291)\n",
        "  cond_vals = cond_vals.detach().numpy()\n",
        "  p=cond_vals.shape[1]\n",
        "  q=cond_vals.shape[2]*cond_vals.shape[3]\n",
        "  cond_vals_flatten=cond_vals.reshape((p,q))\n",
        "  var=[]\n",
        "  for j in range(256):\n",
        "    var.append(np.mean(cond_vals_flatten[j,]))\n",
        "\n",
        "\n",
        "  merged_array = np.column_stack((merged_array,var))"
      ]
    },
    {
      "cell_type": "code",
      "execution_count": null,
      "metadata": {
        "colab": {
          "base_uri": "https://localhost:8080/"
        },
        "id": "ul45TEVvwIZc",
        "outputId": "85d8ddf0-0824-4662-e56f-62e258aeb629"
      },
      "outputs": [
        {
          "output_type": "execute_result",
          "data": {
            "text/plain": [
              "(256, 535)"
            ]
          },
          "metadata": {},
          "execution_count": 14
        }
      ],
      "source": [
        "merged_array.shape"
      ]
    },
    {
      "cell_type": "code",
      "execution_count": null,
      "metadata": {
        "colab": {
          "base_uri": "https://localhost:8080/"
        },
        "id": "CdM1F-Hx8NrE",
        "outputId": "fcfc2b11-2f2a-4e47-f6fd-5ba48a9c5211"
      },
      "outputs": [
        {
          "output_type": "execute_result",
          "data": {
            "text/plain": [
              "535"
            ]
          },
          "metadata": {},
          "execution_count": 15
        }
      ],
      "source": [
        "len(label)"
      ]
    },
    {
      "cell_type": "code",
      "execution_count": null,
      "metadata": {
        "id": "_4PEjkS6wFj4"
      },
      "outputs": [],
      "source": [
        "############################################################################"
      ]
    },
    {
      "cell_type": "code",
      "execution_count": null,
      "metadata": {
        "id": "zJF5ILhIFs6J"
      },
      "outputs": [],
      "source": [
        "All_data=merged_array"
      ]
    },
    {
      "cell_type": "code",
      "execution_count": null,
      "metadata": {
        "id": "HmOMdM8o4wL2"
      },
      "outputs": [],
      "source": [
        "#########################################"
      ]
    },
    {
      "cell_type": "code",
      "execution_count": null,
      "metadata": {
        "id": "MVr36BmwJtq2"
      },
      "outputs": [],
      "source": [
        "All_data=np.concatenate((All_data,merged_array))"
      ]
    },
    {
      "cell_type": "code",
      "execution_count": null,
      "metadata": {
        "colab": {
          "base_uri": "https://localhost:8080/"
        },
        "id": "i8VzB2vDFvZI",
        "outputId": "552dd815-0da7-4b3f-b5f4-d0bb89fcdb0b"
      },
      "outputs": [
        {
          "data": {
            "text/plain": [
              "(4480, 299)"
            ]
          },
          "execution_count": 65,
          "metadata": {},
          "output_type": "execute_result"
        }
      ],
      "source": [
        "All_data.shape"
      ]
    },
    {
      "cell_type": "code",
      "execution_count": null,
      "metadata": {
        "id": "M64xsQ4LU9tE"
      },
      "outputs": [],
      "source": [
        "X=pd.DataFrame(np.transpose(All_data))"
      ]
    },
    {
      "cell_type": "markdown",
      "metadata": {
        "id": "zModE7Ua9c1y"
      },
      "source": [
        "## 4- Data processing"
      ]
    },
    {
      "cell_type": "code",
      "execution_count": null,
      "metadata": {
        "id": "5fq09AxE9BFE"
      },
      "outputs": [],
      "source": [
        "import pandas as pd"
      ]
    },
    {
      "cell_type": "code",
      "execution_count": null,
      "metadata": {
        "id": "cRJGDP2y84D9"
      },
      "outputs": [],
      "source": [
        "X=pd.DataFrame(np.transpose(merged_array))"
      ]
    },
    {
      "cell_type": "code",
      "execution_count": null,
      "metadata": {
        "colab": {
          "base_uri": "https://localhost:8080/",
          "height": 342
        },
        "id": "I3tW1XjM83ii",
        "outputId": "0e503119-5a1f-4612-b7b6-29db939513be"
      },
      "outputs": [
        {
          "output_type": "execute_result",
          "data": {
            "text/plain": [
              "        0             1         2         3         4             5    \\\n",
              "0 -0.000005  3.151410e-08 -0.000026  0.000022 -0.000010  3.126666e-05   \n",
              "1  0.000005 -6.914782e-06  0.000074 -0.000030  0.000035 -1.843757e-07   \n",
              "2  0.000012 -3.425074e-05  0.000050  0.000121  0.000045  1.344594e-05   \n",
              "3 -0.000044  1.402564e-05  0.000062 -0.000036  0.000034  3.226129e-05   \n",
              "4 -0.000027 -8.629571e-07  0.000142  0.000016  0.000086 -9.520526e-06   \n",
              "\n",
              "        6         7         8         9    ...       246       247  \\\n",
              "0  0.000039 -0.000018 -0.000073  0.000179  ... -0.000054 -0.000039   \n",
              "1  0.000061  0.000010  0.000064  0.000165  ... -0.000093  0.000046   \n",
              "2  0.000027  0.000010 -0.000010 -0.000048  ... -0.000082  0.000071   \n",
              "3  0.000032 -0.000020 -0.000028  0.000070  ... -0.000050  0.000012   \n",
              "4  0.000088  0.000012  0.000033 -0.000101  ... -0.000160  0.000352   \n",
              "\n",
              "            248       249       250       251       252       253       254  \\\n",
              "0  7.484285e-07 -0.000017 -0.000047  0.000062 -0.000007 -0.000084 -0.000020   \n",
              "1  1.124068e-05  0.000003 -0.000132 -0.000028 -0.000046 -0.000087 -0.000007   \n",
              "2  2.171570e-06 -0.000033 -0.000069  0.000014  0.000039 -0.000090 -0.000014   \n",
              "3  2.602491e-05 -0.000030 -0.000036  0.000003  0.000033  0.000002 -0.000013   \n",
              "4 -2.847330e-06  0.000022  0.000047  0.000077 -0.000053  0.000037  0.000002   \n",
              "\n",
              "        255  \n",
              "0 -0.000085  \n",
              "1 -0.000025  \n",
              "2 -0.000005  \n",
              "3 -0.000114  \n",
              "4 -0.000037  \n",
              "\n",
              "[5 rows x 256 columns]"
            ],
            "text/html": [
              "\n",
              "  <div id=\"df-f36f7caf-ec4f-42bf-9803-ac845bf6a61f\" class=\"colab-df-container\">\n",
              "    <div>\n",
              "<style scoped>\n",
              "    .dataframe tbody tr th:only-of-type {\n",
              "        vertical-align: middle;\n",
              "    }\n",
              "\n",
              "    .dataframe tbody tr th {\n",
              "        vertical-align: top;\n",
              "    }\n",
              "\n",
              "    .dataframe thead th {\n",
              "        text-align: right;\n",
              "    }\n",
              "</style>\n",
              "<table border=\"1\" class=\"dataframe\">\n",
              "  <thead>\n",
              "    <tr style=\"text-align: right;\">\n",
              "      <th></th>\n",
              "      <th>0</th>\n",
              "      <th>1</th>\n",
              "      <th>2</th>\n",
              "      <th>3</th>\n",
              "      <th>4</th>\n",
              "      <th>5</th>\n",
              "      <th>6</th>\n",
              "      <th>7</th>\n",
              "      <th>8</th>\n",
              "      <th>9</th>\n",
              "      <th>...</th>\n",
              "      <th>246</th>\n",
              "      <th>247</th>\n",
              "      <th>248</th>\n",
              "      <th>249</th>\n",
              "      <th>250</th>\n",
              "      <th>251</th>\n",
              "      <th>252</th>\n",
              "      <th>253</th>\n",
              "      <th>254</th>\n",
              "      <th>255</th>\n",
              "    </tr>\n",
              "  </thead>\n",
              "  <tbody>\n",
              "    <tr>\n",
              "      <th>0</th>\n",
              "      <td>-0.000005</td>\n",
              "      <td>3.151410e-08</td>\n",
              "      <td>-0.000026</td>\n",
              "      <td>0.000022</td>\n",
              "      <td>-0.000010</td>\n",
              "      <td>3.126666e-05</td>\n",
              "      <td>0.000039</td>\n",
              "      <td>-0.000018</td>\n",
              "      <td>-0.000073</td>\n",
              "      <td>0.000179</td>\n",
              "      <td>...</td>\n",
              "      <td>-0.000054</td>\n",
              "      <td>-0.000039</td>\n",
              "      <td>7.484285e-07</td>\n",
              "      <td>-0.000017</td>\n",
              "      <td>-0.000047</td>\n",
              "      <td>0.000062</td>\n",
              "      <td>-0.000007</td>\n",
              "      <td>-0.000084</td>\n",
              "      <td>-0.000020</td>\n",
              "      <td>-0.000085</td>\n",
              "    </tr>\n",
              "    <tr>\n",
              "      <th>1</th>\n",
              "      <td>0.000005</td>\n",
              "      <td>-6.914782e-06</td>\n",
              "      <td>0.000074</td>\n",
              "      <td>-0.000030</td>\n",
              "      <td>0.000035</td>\n",
              "      <td>-1.843757e-07</td>\n",
              "      <td>0.000061</td>\n",
              "      <td>0.000010</td>\n",
              "      <td>0.000064</td>\n",
              "      <td>0.000165</td>\n",
              "      <td>...</td>\n",
              "      <td>-0.000093</td>\n",
              "      <td>0.000046</td>\n",
              "      <td>1.124068e-05</td>\n",
              "      <td>0.000003</td>\n",
              "      <td>-0.000132</td>\n",
              "      <td>-0.000028</td>\n",
              "      <td>-0.000046</td>\n",
              "      <td>-0.000087</td>\n",
              "      <td>-0.000007</td>\n",
              "      <td>-0.000025</td>\n",
              "    </tr>\n",
              "    <tr>\n",
              "      <th>2</th>\n",
              "      <td>0.000012</td>\n",
              "      <td>-3.425074e-05</td>\n",
              "      <td>0.000050</td>\n",
              "      <td>0.000121</td>\n",
              "      <td>0.000045</td>\n",
              "      <td>1.344594e-05</td>\n",
              "      <td>0.000027</td>\n",
              "      <td>0.000010</td>\n",
              "      <td>-0.000010</td>\n",
              "      <td>-0.000048</td>\n",
              "      <td>...</td>\n",
              "      <td>-0.000082</td>\n",
              "      <td>0.000071</td>\n",
              "      <td>2.171570e-06</td>\n",
              "      <td>-0.000033</td>\n",
              "      <td>-0.000069</td>\n",
              "      <td>0.000014</td>\n",
              "      <td>0.000039</td>\n",
              "      <td>-0.000090</td>\n",
              "      <td>-0.000014</td>\n",
              "      <td>-0.000005</td>\n",
              "    </tr>\n",
              "    <tr>\n",
              "      <th>3</th>\n",
              "      <td>-0.000044</td>\n",
              "      <td>1.402564e-05</td>\n",
              "      <td>0.000062</td>\n",
              "      <td>-0.000036</td>\n",
              "      <td>0.000034</td>\n",
              "      <td>3.226129e-05</td>\n",
              "      <td>0.000032</td>\n",
              "      <td>-0.000020</td>\n",
              "      <td>-0.000028</td>\n",
              "      <td>0.000070</td>\n",
              "      <td>...</td>\n",
              "      <td>-0.000050</td>\n",
              "      <td>0.000012</td>\n",
              "      <td>2.602491e-05</td>\n",
              "      <td>-0.000030</td>\n",
              "      <td>-0.000036</td>\n",
              "      <td>0.000003</td>\n",
              "      <td>0.000033</td>\n",
              "      <td>0.000002</td>\n",
              "      <td>-0.000013</td>\n",
              "      <td>-0.000114</td>\n",
              "    </tr>\n",
              "    <tr>\n",
              "      <th>4</th>\n",
              "      <td>-0.000027</td>\n",
              "      <td>-8.629571e-07</td>\n",
              "      <td>0.000142</td>\n",
              "      <td>0.000016</td>\n",
              "      <td>0.000086</td>\n",
              "      <td>-9.520526e-06</td>\n",
              "      <td>0.000088</td>\n",
              "      <td>0.000012</td>\n",
              "      <td>0.000033</td>\n",
              "      <td>-0.000101</td>\n",
              "      <td>...</td>\n",
              "      <td>-0.000160</td>\n",
              "      <td>0.000352</td>\n",
              "      <td>-2.847330e-06</td>\n",
              "      <td>0.000022</td>\n",
              "      <td>0.000047</td>\n",
              "      <td>0.000077</td>\n",
              "      <td>-0.000053</td>\n",
              "      <td>0.000037</td>\n",
              "      <td>0.000002</td>\n",
              "      <td>-0.000037</td>\n",
              "    </tr>\n",
              "  </tbody>\n",
              "</table>\n",
              "<p>5 rows × 256 columns</p>\n",
              "</div>\n",
              "    <div class=\"colab-df-buttons\">\n",
              "\n",
              "  <div class=\"colab-df-container\">\n",
              "    <button class=\"colab-df-convert\" onclick=\"convertToInteractive('df-f36f7caf-ec4f-42bf-9803-ac845bf6a61f')\"\n",
              "            title=\"Convert this dataframe to an interactive table.\"\n",
              "            style=\"display:none;\">\n",
              "\n",
              "  <svg xmlns=\"http://www.w3.org/2000/svg\" height=\"24px\" viewBox=\"0 -960 960 960\">\n",
              "    <path d=\"M120-120v-720h720v720H120Zm60-500h600v-160H180v160Zm220 220h160v-160H400v160Zm0 220h160v-160H400v160ZM180-400h160v-160H180v160Zm440 0h160v-160H620v160ZM180-180h160v-160H180v160Zm440 0h160v-160H620v160Z\"/>\n",
              "  </svg>\n",
              "    </button>\n",
              "\n",
              "  <style>\n",
              "    .colab-df-container {\n",
              "      display:flex;\n",
              "      gap: 12px;\n",
              "    }\n",
              "\n",
              "    .colab-df-convert {\n",
              "      background-color: #E8F0FE;\n",
              "      border: none;\n",
              "      border-radius: 50%;\n",
              "      cursor: pointer;\n",
              "      display: none;\n",
              "      fill: #1967D2;\n",
              "      height: 32px;\n",
              "      padding: 0 0 0 0;\n",
              "      width: 32px;\n",
              "    }\n",
              "\n",
              "    .colab-df-convert:hover {\n",
              "      background-color: #E2EBFA;\n",
              "      box-shadow: 0px 1px 2px rgba(60, 64, 67, 0.3), 0px 1px 3px 1px rgba(60, 64, 67, 0.15);\n",
              "      fill: #174EA6;\n",
              "    }\n",
              "\n",
              "    .colab-df-buttons div {\n",
              "      margin-bottom: 4px;\n",
              "    }\n",
              "\n",
              "    [theme=dark] .colab-df-convert {\n",
              "      background-color: #3B4455;\n",
              "      fill: #D2E3FC;\n",
              "    }\n",
              "\n",
              "    [theme=dark] .colab-df-convert:hover {\n",
              "      background-color: #434B5C;\n",
              "      box-shadow: 0px 1px 3px 1px rgba(0, 0, 0, 0.15);\n",
              "      filter: drop-shadow(0px 1px 2px rgba(0, 0, 0, 0.3));\n",
              "      fill: #FFFFFF;\n",
              "    }\n",
              "  </style>\n",
              "\n",
              "    <script>\n",
              "      const buttonEl =\n",
              "        document.querySelector('#df-f36f7caf-ec4f-42bf-9803-ac845bf6a61f button.colab-df-convert');\n",
              "      buttonEl.style.display =\n",
              "        google.colab.kernel.accessAllowed ? 'block' : 'none';\n",
              "\n",
              "      async function convertToInteractive(key) {\n",
              "        const element = document.querySelector('#df-f36f7caf-ec4f-42bf-9803-ac845bf6a61f');\n",
              "        const dataTable =\n",
              "          await google.colab.kernel.invokeFunction('convertToInteractive',\n",
              "                                                    [key], {});\n",
              "        if (!dataTable) return;\n",
              "\n",
              "        const docLinkHtml = 'Like what you see? Visit the ' +\n",
              "          '<a target=\"_blank\" href=https://colab.research.google.com/notebooks/data_table.ipynb>data table notebook</a>'\n",
              "          + ' to learn more about interactive tables.';\n",
              "        element.innerHTML = '';\n",
              "        dataTable['output_type'] = 'display_data';\n",
              "        await google.colab.output.renderOutput(dataTable, element);\n",
              "        const docLink = document.createElement('div');\n",
              "        docLink.innerHTML = docLinkHtml;\n",
              "        element.appendChild(docLink);\n",
              "      }\n",
              "    </script>\n",
              "  </div>\n",
              "\n",
              "\n",
              "<div id=\"df-a2ef4b7d-2161-4895-8a41-71b99435db6a\">\n",
              "  <button class=\"colab-df-quickchart\" onclick=\"quickchart('df-a2ef4b7d-2161-4895-8a41-71b99435db6a')\"\n",
              "            title=\"Suggest charts\"\n",
              "            style=\"display:none;\">\n",
              "\n",
              "<svg xmlns=\"http://www.w3.org/2000/svg\" height=\"24px\"viewBox=\"0 0 24 24\"\n",
              "     width=\"24px\">\n",
              "    <g>\n",
              "        <path d=\"M19 3H5c-1.1 0-2 .9-2 2v14c0 1.1.9 2 2 2h14c1.1 0 2-.9 2-2V5c0-1.1-.9-2-2-2zM9 17H7v-7h2v7zm4 0h-2V7h2v10zm4 0h-2v-4h2v4z\"/>\n",
              "    </g>\n",
              "</svg>\n",
              "  </button>\n",
              "\n",
              "<style>\n",
              "  .colab-df-quickchart {\n",
              "      --bg-color: #E8F0FE;\n",
              "      --fill-color: #1967D2;\n",
              "      --hover-bg-color: #E2EBFA;\n",
              "      --hover-fill-color: #174EA6;\n",
              "      --disabled-fill-color: #AAA;\n",
              "      --disabled-bg-color: #DDD;\n",
              "  }\n",
              "\n",
              "  [theme=dark] .colab-df-quickchart {\n",
              "      --bg-color: #3B4455;\n",
              "      --fill-color: #D2E3FC;\n",
              "      --hover-bg-color: #434B5C;\n",
              "      --hover-fill-color: #FFFFFF;\n",
              "      --disabled-bg-color: #3B4455;\n",
              "      --disabled-fill-color: #666;\n",
              "  }\n",
              "\n",
              "  .colab-df-quickchart {\n",
              "    background-color: var(--bg-color);\n",
              "    border: none;\n",
              "    border-radius: 50%;\n",
              "    cursor: pointer;\n",
              "    display: none;\n",
              "    fill: var(--fill-color);\n",
              "    height: 32px;\n",
              "    padding: 0;\n",
              "    width: 32px;\n",
              "  }\n",
              "\n",
              "  .colab-df-quickchart:hover {\n",
              "    background-color: var(--hover-bg-color);\n",
              "    box-shadow: 0 1px 2px rgba(60, 64, 67, 0.3), 0 1px 3px 1px rgba(60, 64, 67, 0.15);\n",
              "    fill: var(--button-hover-fill-color);\n",
              "  }\n",
              "\n",
              "  .colab-df-quickchart-complete:disabled,\n",
              "  .colab-df-quickchart-complete:disabled:hover {\n",
              "    background-color: var(--disabled-bg-color);\n",
              "    fill: var(--disabled-fill-color);\n",
              "    box-shadow: none;\n",
              "  }\n",
              "\n",
              "  .colab-df-spinner {\n",
              "    border: 2px solid var(--fill-color);\n",
              "    border-color: transparent;\n",
              "    border-bottom-color: var(--fill-color);\n",
              "    animation:\n",
              "      spin 1s steps(1) infinite;\n",
              "  }\n",
              "\n",
              "  @keyframes spin {\n",
              "    0% {\n",
              "      border-color: transparent;\n",
              "      border-bottom-color: var(--fill-color);\n",
              "      border-left-color: var(--fill-color);\n",
              "    }\n",
              "    20% {\n",
              "      border-color: transparent;\n",
              "      border-left-color: var(--fill-color);\n",
              "      border-top-color: var(--fill-color);\n",
              "    }\n",
              "    30% {\n",
              "      border-color: transparent;\n",
              "      border-left-color: var(--fill-color);\n",
              "      border-top-color: var(--fill-color);\n",
              "      border-right-color: var(--fill-color);\n",
              "    }\n",
              "    40% {\n",
              "      border-color: transparent;\n",
              "      border-right-color: var(--fill-color);\n",
              "      border-top-color: var(--fill-color);\n",
              "    }\n",
              "    60% {\n",
              "      border-color: transparent;\n",
              "      border-right-color: var(--fill-color);\n",
              "    }\n",
              "    80% {\n",
              "      border-color: transparent;\n",
              "      border-right-color: var(--fill-color);\n",
              "      border-bottom-color: var(--fill-color);\n",
              "    }\n",
              "    90% {\n",
              "      border-color: transparent;\n",
              "      border-bottom-color: var(--fill-color);\n",
              "    }\n",
              "  }\n",
              "</style>\n",
              "\n",
              "  <script>\n",
              "    async function quickchart(key) {\n",
              "      const quickchartButtonEl =\n",
              "        document.querySelector('#' + key + ' button');\n",
              "      quickchartButtonEl.disabled = true;  // To prevent multiple clicks.\n",
              "      quickchartButtonEl.classList.add('colab-df-spinner');\n",
              "      try {\n",
              "        const charts = await google.colab.kernel.invokeFunction(\n",
              "            'suggestCharts', [key], {});\n",
              "      } catch (error) {\n",
              "        console.error('Error during call to suggestCharts:', error);\n",
              "      }\n",
              "      quickchartButtonEl.classList.remove('colab-df-spinner');\n",
              "      quickchartButtonEl.classList.add('colab-df-quickchart-complete');\n",
              "    }\n",
              "    (() => {\n",
              "      let quickchartButtonEl =\n",
              "        document.querySelector('#df-a2ef4b7d-2161-4895-8a41-71b99435db6a button');\n",
              "      quickchartButtonEl.style.display =\n",
              "        google.colab.kernel.accessAllowed ? 'block' : 'none';\n",
              "    })();\n",
              "  </script>\n",
              "</div>\n",
              "\n",
              "    </div>\n",
              "  </div>\n"
            ]
          },
          "metadata": {},
          "execution_count": 75
        }
      ],
      "source": [
        "X.head()"
      ]
    },
    {
      "cell_type": "code",
      "execution_count": null,
      "metadata": {
        "id": "HIWWKzhW9IPP"
      },
      "outputs": [],
      "source": [
        "label=pd.DataFrame(label)"
      ]
    },
    {
      "cell_type": "code",
      "execution_count": null,
      "metadata": {
        "id": "_Gw80iNX83dr"
      },
      "outputs": [],
      "source": [
        "label.columns = ['y']"
      ]
    },
    {
      "cell_type": "code",
      "execution_count": null,
      "metadata": {
        "id": "xM1zny3583Xb"
      },
      "outputs": [],
      "source": [
        "data=[X,label]"
      ]
    },
    {
      "cell_type": "code",
      "execution_count": null,
      "metadata": {
        "id": "VZzLCVX_9SKE"
      },
      "outputs": [],
      "source": [
        "X_data=pd.concat(data,axis=1)"
      ]
    },
    {
      "cell_type": "code",
      "execution_count": null,
      "metadata": {
        "colab": {
          "base_uri": "https://localhost:8080/",
          "height": 342
        },
        "id": "Ymh01evG9SF6",
        "outputId": "d940f9f9-7422-45d1-9fdb-f591581cf2fe"
      },
      "outputs": [
        {
          "output_type": "execute_result",
          "data": {
            "text/plain": [
              "          0             1         2         3         4             5  \\\n",
              "0 -0.000005  3.151410e-08 -0.000026  0.000022 -0.000010  3.126666e-05   \n",
              "1  0.000005 -6.914782e-06  0.000074 -0.000030  0.000035 -1.843757e-07   \n",
              "2  0.000012 -3.425074e-05  0.000050  0.000121  0.000045  1.344594e-05   \n",
              "3 -0.000044  1.402564e-05  0.000062 -0.000036  0.000034  3.226129e-05   \n",
              "4 -0.000027 -8.629571e-07  0.000142  0.000016  0.000086 -9.520526e-06   \n",
              "\n",
              "          6         7         8         9  ...       247           248  \\\n",
              "0  0.000039 -0.000018 -0.000073  0.000179  ... -0.000039  7.484285e-07   \n",
              "1  0.000061  0.000010  0.000064  0.000165  ...  0.000046  1.124068e-05   \n",
              "2  0.000027  0.000010 -0.000010 -0.000048  ...  0.000071  2.171570e-06   \n",
              "3  0.000032 -0.000020 -0.000028  0.000070  ...  0.000012  2.602491e-05   \n",
              "4  0.000088  0.000012  0.000033 -0.000101  ...  0.000352 -2.847330e-06   \n",
              "\n",
              "        249       250       251       252       253       254       255  \\\n",
              "0 -0.000017 -0.000047  0.000062 -0.000007 -0.000084 -0.000020 -0.000085   \n",
              "1  0.000003 -0.000132 -0.000028 -0.000046 -0.000087 -0.000007 -0.000025   \n",
              "2 -0.000033 -0.000069  0.000014  0.000039 -0.000090 -0.000014 -0.000005   \n",
              "3 -0.000030 -0.000036  0.000003  0.000033  0.000002 -0.000013 -0.000114   \n",
              "4  0.000022  0.000047  0.000077 -0.000053  0.000037  0.000002 -0.000037   \n",
              "\n",
              "                 y  \n",
              "0             lion  \n",
              "1             ibex  \n",
              "2  Tibetan_mastiff  \n",
              "3             lion  \n",
              "4             lion  \n",
              "\n",
              "[5 rows x 257 columns]"
            ],
            "text/html": [
              "\n",
              "  <div id=\"df-744fd69d-b8b1-477d-bbc6-64b765fcc0bc\" class=\"colab-df-container\">\n",
              "    <div>\n",
              "<style scoped>\n",
              "    .dataframe tbody tr th:only-of-type {\n",
              "        vertical-align: middle;\n",
              "    }\n",
              "\n",
              "    .dataframe tbody tr th {\n",
              "        vertical-align: top;\n",
              "    }\n",
              "\n",
              "    .dataframe thead th {\n",
              "        text-align: right;\n",
              "    }\n",
              "</style>\n",
              "<table border=\"1\" class=\"dataframe\">\n",
              "  <thead>\n",
              "    <tr style=\"text-align: right;\">\n",
              "      <th></th>\n",
              "      <th>0</th>\n",
              "      <th>1</th>\n",
              "      <th>2</th>\n",
              "      <th>3</th>\n",
              "      <th>4</th>\n",
              "      <th>5</th>\n",
              "      <th>6</th>\n",
              "      <th>7</th>\n",
              "      <th>8</th>\n",
              "      <th>9</th>\n",
              "      <th>...</th>\n",
              "      <th>247</th>\n",
              "      <th>248</th>\n",
              "      <th>249</th>\n",
              "      <th>250</th>\n",
              "      <th>251</th>\n",
              "      <th>252</th>\n",
              "      <th>253</th>\n",
              "      <th>254</th>\n",
              "      <th>255</th>\n",
              "      <th>y</th>\n",
              "    </tr>\n",
              "  </thead>\n",
              "  <tbody>\n",
              "    <tr>\n",
              "      <th>0</th>\n",
              "      <td>-0.000005</td>\n",
              "      <td>3.151410e-08</td>\n",
              "      <td>-0.000026</td>\n",
              "      <td>0.000022</td>\n",
              "      <td>-0.000010</td>\n",
              "      <td>3.126666e-05</td>\n",
              "      <td>0.000039</td>\n",
              "      <td>-0.000018</td>\n",
              "      <td>-0.000073</td>\n",
              "      <td>0.000179</td>\n",
              "      <td>...</td>\n",
              "      <td>-0.000039</td>\n",
              "      <td>7.484285e-07</td>\n",
              "      <td>-0.000017</td>\n",
              "      <td>-0.000047</td>\n",
              "      <td>0.000062</td>\n",
              "      <td>-0.000007</td>\n",
              "      <td>-0.000084</td>\n",
              "      <td>-0.000020</td>\n",
              "      <td>-0.000085</td>\n",
              "      <td>lion</td>\n",
              "    </tr>\n",
              "    <tr>\n",
              "      <th>1</th>\n",
              "      <td>0.000005</td>\n",
              "      <td>-6.914782e-06</td>\n",
              "      <td>0.000074</td>\n",
              "      <td>-0.000030</td>\n",
              "      <td>0.000035</td>\n",
              "      <td>-1.843757e-07</td>\n",
              "      <td>0.000061</td>\n",
              "      <td>0.000010</td>\n",
              "      <td>0.000064</td>\n",
              "      <td>0.000165</td>\n",
              "      <td>...</td>\n",
              "      <td>0.000046</td>\n",
              "      <td>1.124068e-05</td>\n",
              "      <td>0.000003</td>\n",
              "      <td>-0.000132</td>\n",
              "      <td>-0.000028</td>\n",
              "      <td>-0.000046</td>\n",
              "      <td>-0.000087</td>\n",
              "      <td>-0.000007</td>\n",
              "      <td>-0.000025</td>\n",
              "      <td>ibex</td>\n",
              "    </tr>\n",
              "    <tr>\n",
              "      <th>2</th>\n",
              "      <td>0.000012</td>\n",
              "      <td>-3.425074e-05</td>\n",
              "      <td>0.000050</td>\n",
              "      <td>0.000121</td>\n",
              "      <td>0.000045</td>\n",
              "      <td>1.344594e-05</td>\n",
              "      <td>0.000027</td>\n",
              "      <td>0.000010</td>\n",
              "      <td>-0.000010</td>\n",
              "      <td>-0.000048</td>\n",
              "      <td>...</td>\n",
              "      <td>0.000071</td>\n",
              "      <td>2.171570e-06</td>\n",
              "      <td>-0.000033</td>\n",
              "      <td>-0.000069</td>\n",
              "      <td>0.000014</td>\n",
              "      <td>0.000039</td>\n",
              "      <td>-0.000090</td>\n",
              "      <td>-0.000014</td>\n",
              "      <td>-0.000005</td>\n",
              "      <td>Tibetan_mastiff</td>\n",
              "    </tr>\n",
              "    <tr>\n",
              "      <th>3</th>\n",
              "      <td>-0.000044</td>\n",
              "      <td>1.402564e-05</td>\n",
              "      <td>0.000062</td>\n",
              "      <td>-0.000036</td>\n",
              "      <td>0.000034</td>\n",
              "      <td>3.226129e-05</td>\n",
              "      <td>0.000032</td>\n",
              "      <td>-0.000020</td>\n",
              "      <td>-0.000028</td>\n",
              "      <td>0.000070</td>\n",
              "      <td>...</td>\n",
              "      <td>0.000012</td>\n",
              "      <td>2.602491e-05</td>\n",
              "      <td>-0.000030</td>\n",
              "      <td>-0.000036</td>\n",
              "      <td>0.000003</td>\n",
              "      <td>0.000033</td>\n",
              "      <td>0.000002</td>\n",
              "      <td>-0.000013</td>\n",
              "      <td>-0.000114</td>\n",
              "      <td>lion</td>\n",
              "    </tr>\n",
              "    <tr>\n",
              "      <th>4</th>\n",
              "      <td>-0.000027</td>\n",
              "      <td>-8.629571e-07</td>\n",
              "      <td>0.000142</td>\n",
              "      <td>0.000016</td>\n",
              "      <td>0.000086</td>\n",
              "      <td>-9.520526e-06</td>\n",
              "      <td>0.000088</td>\n",
              "      <td>0.000012</td>\n",
              "      <td>0.000033</td>\n",
              "      <td>-0.000101</td>\n",
              "      <td>...</td>\n",
              "      <td>0.000352</td>\n",
              "      <td>-2.847330e-06</td>\n",
              "      <td>0.000022</td>\n",
              "      <td>0.000047</td>\n",
              "      <td>0.000077</td>\n",
              "      <td>-0.000053</td>\n",
              "      <td>0.000037</td>\n",
              "      <td>0.000002</td>\n",
              "      <td>-0.000037</td>\n",
              "      <td>lion</td>\n",
              "    </tr>\n",
              "  </tbody>\n",
              "</table>\n",
              "<p>5 rows × 257 columns</p>\n",
              "</div>\n",
              "    <div class=\"colab-df-buttons\">\n",
              "\n",
              "  <div class=\"colab-df-container\">\n",
              "    <button class=\"colab-df-convert\" onclick=\"convertToInteractive('df-744fd69d-b8b1-477d-bbc6-64b765fcc0bc')\"\n",
              "            title=\"Convert this dataframe to an interactive table.\"\n",
              "            style=\"display:none;\">\n",
              "\n",
              "  <svg xmlns=\"http://www.w3.org/2000/svg\" height=\"24px\" viewBox=\"0 -960 960 960\">\n",
              "    <path d=\"M120-120v-720h720v720H120Zm60-500h600v-160H180v160Zm220 220h160v-160H400v160Zm0 220h160v-160H400v160ZM180-400h160v-160H180v160Zm440 0h160v-160H620v160ZM180-180h160v-160H180v160Zm440 0h160v-160H620v160Z\"/>\n",
              "  </svg>\n",
              "    </button>\n",
              "\n",
              "  <style>\n",
              "    .colab-df-container {\n",
              "      display:flex;\n",
              "      gap: 12px;\n",
              "    }\n",
              "\n",
              "    .colab-df-convert {\n",
              "      background-color: #E8F0FE;\n",
              "      border: none;\n",
              "      border-radius: 50%;\n",
              "      cursor: pointer;\n",
              "      display: none;\n",
              "      fill: #1967D2;\n",
              "      height: 32px;\n",
              "      padding: 0 0 0 0;\n",
              "      width: 32px;\n",
              "    }\n",
              "\n",
              "    .colab-df-convert:hover {\n",
              "      background-color: #E2EBFA;\n",
              "      box-shadow: 0px 1px 2px rgba(60, 64, 67, 0.3), 0px 1px 3px 1px rgba(60, 64, 67, 0.15);\n",
              "      fill: #174EA6;\n",
              "    }\n",
              "\n",
              "    .colab-df-buttons div {\n",
              "      margin-bottom: 4px;\n",
              "    }\n",
              "\n",
              "    [theme=dark] .colab-df-convert {\n",
              "      background-color: #3B4455;\n",
              "      fill: #D2E3FC;\n",
              "    }\n",
              "\n",
              "    [theme=dark] .colab-df-convert:hover {\n",
              "      background-color: #434B5C;\n",
              "      box-shadow: 0px 1px 3px 1px rgba(0, 0, 0, 0.15);\n",
              "      filter: drop-shadow(0px 1px 2px rgba(0, 0, 0, 0.3));\n",
              "      fill: #FFFFFF;\n",
              "    }\n",
              "  </style>\n",
              "\n",
              "    <script>\n",
              "      const buttonEl =\n",
              "        document.querySelector('#df-744fd69d-b8b1-477d-bbc6-64b765fcc0bc button.colab-df-convert');\n",
              "      buttonEl.style.display =\n",
              "        google.colab.kernel.accessAllowed ? 'block' : 'none';\n",
              "\n",
              "      async function convertToInteractive(key) {\n",
              "        const element = document.querySelector('#df-744fd69d-b8b1-477d-bbc6-64b765fcc0bc');\n",
              "        const dataTable =\n",
              "          await google.colab.kernel.invokeFunction('convertToInteractive',\n",
              "                                                    [key], {});\n",
              "        if (!dataTable) return;\n",
              "\n",
              "        const docLinkHtml = 'Like what you see? Visit the ' +\n",
              "          '<a target=\"_blank\" href=https://colab.research.google.com/notebooks/data_table.ipynb>data table notebook</a>'\n",
              "          + ' to learn more about interactive tables.';\n",
              "        element.innerHTML = '';\n",
              "        dataTable['output_type'] = 'display_data';\n",
              "        await google.colab.output.renderOutput(dataTable, element);\n",
              "        const docLink = document.createElement('div');\n",
              "        docLink.innerHTML = docLinkHtml;\n",
              "        element.appendChild(docLink);\n",
              "      }\n",
              "    </script>\n",
              "  </div>\n",
              "\n",
              "\n",
              "<div id=\"df-1a36c7c2-d399-4000-95c4-8dc024ff8659\">\n",
              "  <button class=\"colab-df-quickchart\" onclick=\"quickchart('df-1a36c7c2-d399-4000-95c4-8dc024ff8659')\"\n",
              "            title=\"Suggest charts\"\n",
              "            style=\"display:none;\">\n",
              "\n",
              "<svg xmlns=\"http://www.w3.org/2000/svg\" height=\"24px\"viewBox=\"0 0 24 24\"\n",
              "     width=\"24px\">\n",
              "    <g>\n",
              "        <path d=\"M19 3H5c-1.1 0-2 .9-2 2v14c0 1.1.9 2 2 2h14c1.1 0 2-.9 2-2V5c0-1.1-.9-2-2-2zM9 17H7v-7h2v7zm4 0h-2V7h2v10zm4 0h-2v-4h2v4z\"/>\n",
              "    </g>\n",
              "</svg>\n",
              "  </button>\n",
              "\n",
              "<style>\n",
              "  .colab-df-quickchart {\n",
              "      --bg-color: #E8F0FE;\n",
              "      --fill-color: #1967D2;\n",
              "      --hover-bg-color: #E2EBFA;\n",
              "      --hover-fill-color: #174EA6;\n",
              "      --disabled-fill-color: #AAA;\n",
              "      --disabled-bg-color: #DDD;\n",
              "  }\n",
              "\n",
              "  [theme=dark] .colab-df-quickchart {\n",
              "      --bg-color: #3B4455;\n",
              "      --fill-color: #D2E3FC;\n",
              "      --hover-bg-color: #434B5C;\n",
              "      --hover-fill-color: #FFFFFF;\n",
              "      --disabled-bg-color: #3B4455;\n",
              "      --disabled-fill-color: #666;\n",
              "  }\n",
              "\n",
              "  .colab-df-quickchart {\n",
              "    background-color: var(--bg-color);\n",
              "    border: none;\n",
              "    border-radius: 50%;\n",
              "    cursor: pointer;\n",
              "    display: none;\n",
              "    fill: var(--fill-color);\n",
              "    height: 32px;\n",
              "    padding: 0;\n",
              "    width: 32px;\n",
              "  }\n",
              "\n",
              "  .colab-df-quickchart:hover {\n",
              "    background-color: var(--hover-bg-color);\n",
              "    box-shadow: 0 1px 2px rgba(60, 64, 67, 0.3), 0 1px 3px 1px rgba(60, 64, 67, 0.15);\n",
              "    fill: var(--button-hover-fill-color);\n",
              "  }\n",
              "\n",
              "  .colab-df-quickchart-complete:disabled,\n",
              "  .colab-df-quickchart-complete:disabled:hover {\n",
              "    background-color: var(--disabled-bg-color);\n",
              "    fill: var(--disabled-fill-color);\n",
              "    box-shadow: none;\n",
              "  }\n",
              "\n",
              "  .colab-df-spinner {\n",
              "    border: 2px solid var(--fill-color);\n",
              "    border-color: transparent;\n",
              "    border-bottom-color: var(--fill-color);\n",
              "    animation:\n",
              "      spin 1s steps(1) infinite;\n",
              "  }\n",
              "\n",
              "  @keyframes spin {\n",
              "    0% {\n",
              "      border-color: transparent;\n",
              "      border-bottom-color: var(--fill-color);\n",
              "      border-left-color: var(--fill-color);\n",
              "    }\n",
              "    20% {\n",
              "      border-color: transparent;\n",
              "      border-left-color: var(--fill-color);\n",
              "      border-top-color: var(--fill-color);\n",
              "    }\n",
              "    30% {\n",
              "      border-color: transparent;\n",
              "      border-left-color: var(--fill-color);\n",
              "      border-top-color: var(--fill-color);\n",
              "      border-right-color: var(--fill-color);\n",
              "    }\n",
              "    40% {\n",
              "      border-color: transparent;\n",
              "      border-right-color: var(--fill-color);\n",
              "      border-top-color: var(--fill-color);\n",
              "    }\n",
              "    60% {\n",
              "      border-color: transparent;\n",
              "      border-right-color: var(--fill-color);\n",
              "    }\n",
              "    80% {\n",
              "      border-color: transparent;\n",
              "      border-right-color: var(--fill-color);\n",
              "      border-bottom-color: var(--fill-color);\n",
              "    }\n",
              "    90% {\n",
              "      border-color: transparent;\n",
              "      border-bottom-color: var(--fill-color);\n",
              "    }\n",
              "  }\n",
              "</style>\n",
              "\n",
              "  <script>\n",
              "    async function quickchart(key) {\n",
              "      const quickchartButtonEl =\n",
              "        document.querySelector('#' + key + ' button');\n",
              "      quickchartButtonEl.disabled = true;  // To prevent multiple clicks.\n",
              "      quickchartButtonEl.classList.add('colab-df-spinner');\n",
              "      try {\n",
              "        const charts = await google.colab.kernel.invokeFunction(\n",
              "            'suggestCharts', [key], {});\n",
              "      } catch (error) {\n",
              "        console.error('Error during call to suggestCharts:', error);\n",
              "      }\n",
              "      quickchartButtonEl.classList.remove('colab-df-spinner');\n",
              "      quickchartButtonEl.classList.add('colab-df-quickchart-complete');\n",
              "    }\n",
              "    (() => {\n",
              "      let quickchartButtonEl =\n",
              "        document.querySelector('#df-1a36c7c2-d399-4000-95c4-8dc024ff8659 button');\n",
              "      quickchartButtonEl.style.display =\n",
              "        google.colab.kernel.accessAllowed ? 'block' : 'none';\n",
              "    })();\n",
              "  </script>\n",
              "</div>\n",
              "\n",
              "    </div>\n",
              "  </div>\n"
            ]
          },
          "metadata": {},
          "execution_count": 98
        }
      ],
      "source": [
        "X_data.head()"
      ]
    },
    {
      "cell_type": "code",
      "execution_count": null,
      "metadata": {
        "id": "XNZpVz9O9SBs"
      },
      "outputs": [],
      "source": [
        "X_data[\"y\"]=X_data[\"y\"].astype('category')\n",
        "X_data[\"y\"]=X_data[\"y\"].cat.codes"
      ]
    },
    {
      "cell_type": "markdown",
      "metadata": {
        "id": "Rf5_vbdKVHLU"
      },
      "source": [
        "## 5- Data preparation"
      ]
    },
    {
      "cell_type": "code",
      "execution_count": null,
      "metadata": {
        "id": "6naUcpcwVHBh"
      },
      "outputs": [],
      "source": [
        "from sklearn import preprocessing\n",
        "from sklearn.model_selection import train_test_split\n",
        "from  sklearn.preprocessing import StandardScaler,MinMaxScaler\n",
        "import matplotlib.pyplot as plt\n",
        "from tensorflow.keras.layers import  Dense, BatchNormalization, Activation, Add"
      ]
    },
    {
      "cell_type": "code",
      "execution_count": null,
      "metadata": {
        "id": "C0OBLtpIVG9-"
      },
      "outputs": [],
      "source": [
        "X=X_data.loc[:, X_data.columns != 'y']"
      ]
    },
    {
      "cell_type": "code",
      "execution_count": null,
      "metadata": {
        "id": "vLGQRTlhVG7e"
      },
      "outputs": [],
      "source": [
        "y=X_data['y']"
      ]
    },
    {
      "cell_type": "code",
      "execution_count": null,
      "metadata": {
        "id": "kqNIOsm5Nv3R"
      },
      "outputs": [],
      "source": [
        "scaler = MinMaxScaler()\n",
        "X=scaler.fit_transform(X)"
      ]
    },
    {
      "cell_type": "code",
      "execution_count": null,
      "metadata": {
        "id": "r5gWmtmqNOQj"
      },
      "outputs": [],
      "source": [
        "x_train, x_test, y_train, y_test = train_test_split(X,y, test_size=0.3, random_state=42)"
      ]
    },
    {
      "cell_type": "code",
      "execution_count": null,
      "metadata": {
        "colab": {
          "base_uri": "https://localhost:8080/"
        },
        "id": "nLG3dqDUVZXP",
        "outputId": "dad6f2a0-5fb4-406e-9daa-a037ef89979c"
      },
      "outputs": [
        {
          "output_type": "execute_result",
          "data": {
            "text/plain": [
              "(374, 256)"
            ]
          },
          "metadata": {},
          "execution_count": 107
        }
      ],
      "source": [
        "x_train.shape"
      ]
    },
    {
      "cell_type": "code",
      "execution_count": null,
      "metadata": {
        "id": "STiZk4pYOcla"
      },
      "outputs": [],
      "source": [
        "####################################\"\""
      ]
    },
    {
      "cell_type": "code",
      "execution_count": null,
      "metadata": {
        "id": "1IqwVt4zNIjQ"
      },
      "outputs": [],
      "source": []
    },
    {
      "cell_type": "code",
      "execution_count": null,
      "metadata": {
        "id": "dO98W7bLOh_y"
      },
      "outputs": [],
      "source": []
    },
    {
      "cell_type": "markdown",
      "metadata": {
        "id": "kw-ZMhHEU7ll"
      },
      "source": [
        "## 6- Autoencoder classifier"
      ]
    },
    {
      "cell_type": "code",
      "execution_count": null,
      "metadata": {
        "id": "31ZaLe7kVkxH"
      },
      "outputs": [],
      "source": [
        "from tensorflow.keras.layers import Conv2D, Dense, BatchNormalization, Activation, MaxPool2D, GlobalAveragePooling2D, Add\n",
        "from tensorflow.keras import Model\n",
        "import tensorflow.keras as keras\n",
        "from keras import layers\n",
        "import tensorflow as tf\n",
        "from keras import regularizers"
      ]
    },
    {
      "cell_type": "code",
      "execution_count": null,
      "metadata": {
        "id": "TNQY_0Re9R9k"
      },
      "outputs": [],
      "source": [
        "encoding_dim=2\n",
        "input=x_train.shape[1]\n",
        "# Deep NN\n",
        "input_img = keras.Input(shape=(input,))\n",
        "encoded = layers.Dense(5000, activation='linear')(input_img)\n",
        "encoded = layers.Dense(3000, activation='linear')(encoded)\n",
        "encoded = layers.Dense(2000, activation='linear')(encoded)\n",
        "encoded = layers.Dense(1000, activation='linear')(encoded)\n",
        "\n",
        "encoded = layers.Dense(encoding_dim, activation='linear')(encoded)\n",
        "\n",
        "decoded = layers.Dense(1000, activation='linear')(encoded)\n",
        "decoded = layers.Dense(2000, activation='linear')(decoded)\n",
        "decoded = layers.Dense(3000, activation='linear')(decoded)\n",
        "decoded = layers.Dense(5000, activation='linear')(decoded)\n",
        "decoded = layers.Dense(x_train.shape[1], activation='sigmoid')(decoded)"
      ]
    },
    {
      "cell_type": "code",
      "execution_count": null,
      "metadata": {
        "id": "-zFdzLJGU7MX"
      },
      "outputs": [],
      "source": [
        "autoencoder = keras.Model(input_img, decoded)"
      ]
    },
    {
      "cell_type": "code",
      "execution_count": null,
      "metadata": {
        "colab": {
          "base_uri": "https://localhost:8080/"
        },
        "id": "wSAJ5mQvU7Iy",
        "outputId": "260c08c8-ed06-4300-bba3-9f930e83ec96"
      },
      "outputs": [
        {
          "output_type": "stream",
          "name": "stdout",
          "text": [
            "Model: \"model_19\"\n",
            "_________________________________________________________________\n",
            " Layer (type)                Output Shape              Param #   \n",
            "=================================================================\n",
            " input_10 (InputLayer)       [(None, 256)]             0         \n",
            "                                                                 \n",
            " dense_74 (Dense)            (None, 5000)              1285000   \n",
            "                                                                 \n",
            " dense_75 (Dense)            (None, 3000)              15003000  \n",
            "                                                                 \n",
            " dense_76 (Dense)            (None, 2000)              6002000   \n",
            "                                                                 \n",
            " dense_77 (Dense)            (None, 1000)              2001000   \n",
            "                                                                 \n",
            " dense_78 (Dense)            (None, 2)                 2002      \n",
            "                                                                 \n",
            " dense_79 (Dense)            (None, 1000)              3000      \n",
            "                                                                 \n",
            " dense_80 (Dense)            (None, 2000)              2002000   \n",
            "                                                                 \n",
            " dense_81 (Dense)            (None, 3000)              6003000   \n",
            "                                                                 \n",
            " dense_82 (Dense)            (None, 5000)              15005000  \n",
            "                                                                 \n",
            " dense_83 (Dense)            (None, 256)               1280256   \n",
            "                                                                 \n",
            "=================================================================\n",
            "Total params: 48586258 (185.34 MB)\n",
            "Trainable params: 48586258 (185.34 MB)\n",
            "Non-trainable params: 0 (0.00 Byte)\n",
            "_________________________________________________________________\n"
          ]
        }
      ],
      "source": [
        "autoencoder.summary()"
      ]
    },
    {
      "cell_type": "code",
      "execution_count": null,
      "metadata": {
        "id": "Rj04zy9FV01W"
      },
      "outputs": [],
      "source": [
        "autoencoder.compile(optimizer='adam', loss='binary_crossentropy')"
      ]
    },
    {
      "cell_type": "code",
      "execution_count": null,
      "metadata": {
        "colab": {
          "base_uri": "https://localhost:8080/"
        },
        "id": "kQNWd4FnU7GQ",
        "outputId": "d2bc86dc-abf4-4f08-dd17-c09ec64343a9"
      },
      "outputs": [
        {
          "output_type": "stream",
          "name": "stdout",
          "text": [
            "Epoch 1/1000\n",
            "2/2 [==============================] - 2s 523ms/step - loss: 3.2611 - val_loss: 0.8842\n",
            "Epoch 2/1000\n",
            "2/2 [==============================] - 1s 359ms/step - loss: 0.8757 - val_loss: 1.5747\n",
            "Epoch 3/1000\n",
            "2/2 [==============================] - 1s 346ms/step - loss: 17.6107 - val_loss: 1.2622\n",
            "Epoch 4/1000\n",
            "2/2 [==============================] - 1s 351ms/step - loss: 3.7195 - val_loss: 406.4247\n",
            "Epoch 5/1000\n",
            "2/2 [==============================] - 1s 344ms/step - loss: 281.6438 - val_loss: 9.4338\n",
            "Epoch 6/1000\n",
            "2/2 [==============================] - 1s 344ms/step - loss: 7.5596 - val_loss: 31.4027\n",
            "Epoch 7/1000\n",
            "2/2 [==============================] - 1s 354ms/step - loss: 37.0195 - val_loss: 39.2467\n",
            "Epoch 8/1000\n",
            "2/2 [==============================] - 1s 344ms/step - loss: 35.5661 - val_loss: 17.4603\n",
            "Epoch 9/1000\n",
            "2/2 [==============================] - 1s 373ms/step - loss: 20.2255 - val_loss: 31.8145\n",
            "Epoch 10/1000\n",
            "2/2 [==============================] - 1s 360ms/step - loss: 43.2922 - val_loss: 59.7128\n",
            "Epoch 11/1000\n",
            "2/2 [==============================] - 1s 362ms/step - loss: 48.3500 - val_loss: 10.2842\n",
            "Epoch 12/1000\n",
            "2/2 [==============================] - 1s 347ms/step - loss: 15.1296 - val_loss: 6.9815\n",
            "Epoch 13/1000\n",
            "2/2 [==============================] - 1s 359ms/step - loss: 14.5314 - val_loss: 17.8679\n",
            "Epoch 14/1000\n",
            "2/2 [==============================] - 1s 353ms/step - loss: 13.7110 - val_loss: 3.3842\n",
            "Epoch 15/1000\n",
            "2/2 [==============================] - 1s 349ms/step - loss: 5.8039 - val_loss: 13.0048\n",
            "Epoch 16/1000\n",
            "2/2 [==============================] - 1s 360ms/step - loss: 12.5819 - val_loss: 17.9159\n",
            "Epoch 17/1000\n",
            "2/2 [==============================] - 1s 375ms/step - loss: 14.4692 - val_loss: 3.1027\n",
            "Epoch 18/1000\n",
            "2/2 [==============================] - 1s 368ms/step - loss: 5.5017 - val_loss: 5.7900\n",
            "Epoch 19/1000\n",
            "2/2 [==============================] - 1s 351ms/step - loss: 6.2330 - val_loss: 8.4675\n",
            "Epoch 20/1000\n",
            "2/2 [==============================] - 1s 356ms/step - loss: 7.2580 - val_loss: 1.3980\n",
            "Epoch 21/1000\n",
            "2/2 [==============================] - 1s 349ms/step - loss: 1.3819 - val_loss: 1.2629\n",
            "Epoch 22/1000\n",
            "2/2 [==============================] - 1s 352ms/step - loss: 1.3463 - val_loss: 1.9353\n",
            "Epoch 23/1000\n",
            "2/2 [==============================] - 1s 341ms/step - loss: 1.9380 - val_loss: 1.4570\n",
            "Epoch 24/1000\n",
            "2/2 [==============================] - 1s 360ms/step - loss: 1.3139 - val_loss: 0.7101\n",
            "Epoch 25/1000\n",
            "2/2 [==============================] - 1s 365ms/step - loss: 0.7162 - val_loss: 0.8937\n",
            "Epoch 26/1000\n",
            "2/2 [==============================] - 1s 350ms/step - loss: 0.9454 - val_loss: 1.0942\n",
            "Epoch 27/1000\n",
            "2/2 [==============================] - 1s 352ms/step - loss: 1.0779 - val_loss: 0.8862\n",
            "Epoch 28/1000\n",
            "2/2 [==============================] - 1s 363ms/step - loss: 0.8732 - val_loss: 0.8808\n",
            "Epoch 29/1000\n",
            "2/2 [==============================] - 1s 336ms/step - loss: 0.8713 - val_loss: 0.8107\n",
            "Epoch 30/1000\n",
            "2/2 [==============================] - 1s 334ms/step - loss: 0.7769 - val_loss: 0.7092\n",
            "Epoch 31/1000\n",
            "2/2 [==============================] - 1s 347ms/step - loss: 0.7217 - val_loss: 0.7485\n",
            "Epoch 32/1000\n",
            "2/2 [==============================] - 1s 330ms/step - loss: 0.7485 - val_loss: 0.6976\n",
            "Epoch 33/1000\n",
            "2/2 [==============================] - 1s 348ms/step - loss: 0.6962 - val_loss: 0.6957\n",
            "Epoch 34/1000\n",
            "2/2 [==============================] - 1s 339ms/step - loss: 0.6986 - val_loss: 0.7147\n",
            "Epoch 35/1000\n",
            "2/2 [==============================] - 1s 356ms/step - loss: 0.7111 - val_loss: 0.7000\n",
            "Epoch 36/1000\n",
            "2/2 [==============================] - 1s 366ms/step - loss: 0.6964 - val_loss: 0.6872\n",
            "Epoch 37/1000\n",
            "2/2 [==============================] - 1s 353ms/step - loss: 0.6878 - val_loss: 0.6898\n",
            "Epoch 38/1000\n",
            "2/2 [==============================] - 1s 348ms/step - loss: 0.6917 - val_loss: 0.6918\n",
            "Epoch 39/1000\n",
            "2/2 [==============================] - 1s 342ms/step - loss: 0.6926 - val_loss: 0.6866\n",
            "Epoch 40/1000\n",
            "2/2 [==============================] - 1s 359ms/step - loss: 0.6867 - val_loss: 0.6810\n",
            "Epoch 41/1000\n",
            "2/2 [==============================] - 1s 372ms/step - loss: 0.6814 - val_loss: 0.6801\n",
            "Epoch 42/1000\n",
            "2/2 [==============================] - 1s 360ms/step - loss: 0.6810 - val_loss: 0.6822\n",
            "Epoch 43/1000\n",
            "2/2 [==============================] - 1s 344ms/step - loss: 0.6830 - val_loss: 0.6834\n",
            "Epoch 44/1000\n",
            "2/2 [==============================] - 1s 343ms/step - loss: 0.6838 - val_loss: 0.6823\n",
            "Epoch 45/1000\n",
            "2/2 [==============================] - 1s 356ms/step - loss: 0.6826 - val_loss: 0.6801\n",
            "Epoch 46/1000\n",
            "2/2 [==============================] - 1s 341ms/step - loss: 0.6804 - val_loss: 0.6783\n",
            "Epoch 47/1000\n",
            "2/2 [==============================] - 1s 360ms/step - loss: 0.6789 - val_loss: 0.6777\n",
            "Epoch 48/1000\n",
            "2/2 [==============================] - 1s 347ms/step - loss: 0.6785 - val_loss: 0.6778\n",
            "Epoch 49/1000\n",
            "2/2 [==============================] - 1s 357ms/step - loss: 0.6786 - val_loss: 0.6779\n",
            "Epoch 50/1000\n",
            "2/2 [==============================] - 1s 381ms/step - loss: 0.6786 - val_loss: 0.6775\n",
            "Epoch 51/1000\n",
            "2/2 [==============================] - 1s 352ms/step - loss: 0.6782 - val_loss: 0.6769\n",
            "Epoch 52/1000\n",
            "2/2 [==============================] - 1s 354ms/step - loss: 0.6775 - val_loss: 0.6762\n",
            "Epoch 53/1000\n",
            "2/2 [==============================] - 1s 338ms/step - loss: 0.6768 - val_loss: 0.6757\n",
            "Epoch 54/1000\n",
            "2/2 [==============================] - 1s 349ms/step - loss: 0.6764 - val_loss: 0.6754\n",
            "Epoch 55/1000\n",
            "2/2 [==============================] - 1s 348ms/step - loss: 0.6761 - val_loss: 0.6752\n",
            "Epoch 56/1000\n",
            "2/2 [==============================] - 1s 361ms/step - loss: 0.6759 - val_loss: 0.6749\n",
            "Epoch 57/1000\n",
            "2/2 [==============================] - 1s 368ms/step - loss: 0.6756 - val_loss: 0.6745\n",
            "Epoch 58/1000\n",
            "2/2 [==============================] - 1s 357ms/step - loss: 0.6753 - val_loss: 0.6742\n",
            "Epoch 59/1000\n",
            "2/2 [==============================] - 1s 346ms/step - loss: 0.6749 - val_loss: 0.6738\n",
            "Epoch 60/1000\n",
            "2/2 [==============================] - 1s 339ms/step - loss: 0.6746 - val_loss: 0.6735\n",
            "Epoch 61/1000\n",
            "2/2 [==============================] - 1s 343ms/step - loss: 0.6743 - val_loss: 0.6733\n",
            "Epoch 62/1000\n",
            "2/2 [==============================] - 1s 337ms/step - loss: 0.6740 - val_loss: 0.6730\n",
            "Epoch 63/1000\n",
            "2/2 [==============================] - 1s 361ms/step - loss: 0.6738 - val_loss: 0.6728\n",
            "Epoch 64/1000\n",
            "2/2 [==============================] - 1s 482ms/step - loss: 0.6735 - val_loss: 0.6725\n",
            "Epoch 65/1000\n",
            "2/2 [==============================] - 1s 360ms/step - loss: 0.6733 - val_loss: 0.6722\n",
            "Epoch 66/1000\n",
            "2/2 [==============================] - 1s 373ms/step - loss: 0.6730 - val_loss: 0.6720\n",
            "Epoch 67/1000\n",
            "2/2 [==============================] - 1s 348ms/step - loss: 0.6728 - val_loss: 0.6717\n",
            "Epoch 68/1000\n",
            "2/2 [==============================] - 1s 393ms/step - loss: 0.6726 - val_loss: 0.6715\n",
            "Epoch 69/1000\n",
            "2/2 [==============================] - 1s 357ms/step - loss: 0.6724 - val_loss: 0.6713\n",
            "Epoch 70/1000\n",
            "2/2 [==============================] - 1s 352ms/step - loss: 0.6722 - val_loss: 0.6711\n",
            "Epoch 71/1000\n",
            "2/2 [==============================] - 1s 342ms/step - loss: 0.6720 - val_loss: 0.6709\n",
            "Epoch 72/1000\n",
            "2/2 [==============================] - 1s 365ms/step - loss: 0.6718 - val_loss: 0.6707\n",
            "Epoch 73/1000\n",
            "2/2 [==============================] - 1s 376ms/step - loss: 0.6716 - val_loss: 0.6706\n",
            "Epoch 74/1000\n",
            "2/2 [==============================] - 1s 358ms/step - loss: 0.6714 - val_loss: 0.6704\n",
            "Epoch 75/1000\n",
            "2/2 [==============================] - 1s 360ms/step - loss: 0.6712 - val_loss: 0.6702\n",
            "Epoch 76/1000\n",
            "2/2 [==============================] - 1s 362ms/step - loss: 0.6711 - val_loss: 0.6701\n",
            "Epoch 77/1000\n",
            "2/2 [==============================] - 1s 333ms/step - loss: 0.6709 - val_loss: 0.6699\n",
            "Epoch 78/1000\n",
            "2/2 [==============================] - 1s 342ms/step - loss: 0.6708 - val_loss: 0.6698\n",
            "Epoch 79/1000\n",
            "2/2 [==============================] - 1s 361ms/step - loss: 0.6707 - val_loss: 0.6697\n",
            "Epoch 80/1000\n",
            "2/2 [==============================] - 1s 353ms/step - loss: 0.6705 - val_loss: 0.6695\n",
            "Epoch 81/1000\n",
            "2/2 [==============================] - 1s 343ms/step - loss: 0.6704 - val_loss: 0.6694\n",
            "Epoch 82/1000\n",
            "2/2 [==============================] - 1s 338ms/step - loss: 0.6703 - val_loss: 0.6693\n",
            "Epoch 83/1000\n",
            "2/2 [==============================] - 1s 362ms/step - loss: 0.6702 - val_loss: 0.6692\n",
            "Epoch 84/1000\n",
            "2/2 [==============================] - 1s 361ms/step - loss: 0.6701 - val_loss: 0.6691\n",
            "Epoch 85/1000\n",
            "2/2 [==============================] - 1s 360ms/step - loss: 0.6700 - val_loss: 0.6690\n",
            "Epoch 86/1000\n",
            "2/2 [==============================] - 1s 350ms/step - loss: 0.6699 - val_loss: 0.6690\n",
            "Epoch 87/1000\n",
            "2/2 [==============================] - 1s 339ms/step - loss: 0.6699 - val_loss: 0.6689\n",
            "Epoch 88/1000\n",
            "2/2 [==============================] - 1s 362ms/step - loss: 0.6698 - val_loss: 0.6688\n",
            "Epoch 89/1000\n",
            "2/2 [==============================] - 1s 358ms/step - loss: 0.6697 - val_loss: 0.6687\n",
            "Epoch 90/1000\n",
            "2/2 [==============================] - 1s 346ms/step - loss: 0.6696 - val_loss: 0.6687\n",
            "Epoch 91/1000\n",
            "2/2 [==============================] - 1s 345ms/step - loss: 0.6696 - val_loss: 0.6686\n",
            "Epoch 92/1000\n",
            "2/2 [==============================] - 1s 352ms/step - loss: 0.6695 - val_loss: 0.6686\n",
            "Epoch 93/1000\n",
            "2/2 [==============================] - 1s 334ms/step - loss: 0.6695 - val_loss: 0.6685\n",
            "Epoch 94/1000\n",
            "2/2 [==============================] - 1s 340ms/step - loss: 0.6694 - val_loss: 0.6685\n",
            "Epoch 95/1000\n",
            "2/2 [==============================] - 1s 346ms/step - loss: 0.6694 - val_loss: 0.6684\n",
            "Epoch 96/1000\n",
            "2/2 [==============================] - 1s 349ms/step - loss: 0.6693 - val_loss: 0.6684\n",
            "Epoch 97/1000\n",
            "2/2 [==============================] - 1s 348ms/step - loss: 0.6693 - val_loss: 0.6684\n",
            "Epoch 98/1000\n",
            "2/2 [==============================] - 1s 360ms/step - loss: 0.6693 - val_loss: 0.6683\n",
            "Epoch 99/1000\n",
            "2/2 [==============================] - 1s 333ms/step - loss: 0.6692 - val_loss: 0.6683\n",
            "Epoch 100/1000\n",
            "2/2 [==============================] - 1s 342ms/step - loss: 0.6692 - val_loss: 0.6683\n",
            "Epoch 101/1000\n",
            "2/2 [==============================] - 1s 348ms/step - loss: 0.6692 - val_loss: 0.6683\n",
            "Epoch 102/1000\n",
            "2/2 [==============================] - 1s 362ms/step - loss: 0.6692 - val_loss: 0.6683\n",
            "Epoch 103/1000\n",
            "2/2 [==============================] - 1s 354ms/step - loss: 0.6691 - val_loss: 0.6682\n",
            "Epoch 104/1000\n",
            "2/2 [==============================] - 1s 407ms/step - loss: 0.6691 - val_loss: 0.6682\n",
            "Epoch 105/1000\n",
            "2/2 [==============================] - 1s 398ms/step - loss: 0.6691 - val_loss: 0.6682\n",
            "Epoch 106/1000\n",
            "2/2 [==============================] - 1s 357ms/step - loss: 0.6691 - val_loss: 0.6682\n",
            "Epoch 107/1000\n",
            "2/2 [==============================] - 1s 352ms/step - loss: 0.6690 - val_loss: 0.6682\n",
            "Epoch 108/1000\n",
            "2/2 [==============================] - 1s 367ms/step - loss: 0.6690 - val_loss: 0.6682\n",
            "Epoch 109/1000\n",
            "2/2 [==============================] - 1s 350ms/step - loss: 0.6690 - val_loss: 0.6681\n",
            "Epoch 110/1000\n",
            "2/2 [==============================] - 1s 349ms/step - loss: 0.6690 - val_loss: 0.6681\n",
            "Epoch 111/1000\n",
            "2/2 [==============================] - 1s 351ms/step - loss: 0.6690 - val_loss: 0.6681\n",
            "Epoch 112/1000\n",
            "2/2 [==============================] - 1s 336ms/step - loss: 0.6690 - val_loss: 0.6681\n",
            "Epoch 113/1000\n",
            "2/2 [==============================] - 1s 342ms/step - loss: 0.6690 - val_loss: 0.6681\n",
            "Epoch 114/1000\n",
            "2/2 [==============================] - 1s 351ms/step - loss: 0.6689 - val_loss: 0.6681\n",
            "Epoch 115/1000\n",
            "2/2 [==============================] - 1s 341ms/step - loss: 0.6689 - val_loss: 0.6681\n",
            "Epoch 116/1000\n",
            "2/2 [==============================] - 1s 340ms/step - loss: 0.6689 - val_loss: 0.6681\n",
            "Epoch 117/1000\n",
            "2/2 [==============================] - 1s 347ms/step - loss: 0.6689 - val_loss: 0.6681\n",
            "Epoch 118/1000\n",
            "2/2 [==============================] - 1s 356ms/step - loss: 0.6689 - val_loss: 0.6681\n",
            "Epoch 119/1000\n",
            "2/2 [==============================] - 1s 371ms/step - loss: 0.6689 - val_loss: 0.6681\n",
            "Epoch 120/1000\n",
            "2/2 [==============================] - 1s 386ms/step - loss: 0.6689 - val_loss: 0.6680\n",
            "Epoch 121/1000\n",
            "2/2 [==============================] - 1s 357ms/step - loss: 0.6689 - val_loss: 0.6680\n",
            "Epoch 122/1000\n",
            "2/2 [==============================] - 1s 350ms/step - loss: 0.6689 - val_loss: 0.6680\n",
            "Epoch 123/1000\n",
            "2/2 [==============================] - 1s 341ms/step - loss: 0.6689 - val_loss: 0.6680\n",
            "Epoch 124/1000\n",
            "2/2 [==============================] - 1s 338ms/step - loss: 0.6688 - val_loss: 0.6680\n",
            "Epoch 125/1000\n",
            "2/2 [==============================] - 1s 361ms/step - loss: 0.6688 - val_loss: 0.6680\n",
            "Epoch 126/1000\n",
            "2/2 [==============================] - 1s 350ms/step - loss: 0.6688 - val_loss: 0.6680\n",
            "Epoch 127/1000\n",
            "2/2 [==============================] - 1s 357ms/step - loss: 0.6688 - val_loss: 0.6680\n",
            "Epoch 128/1000\n",
            "2/2 [==============================] - 1s 365ms/step - loss: 0.6688 - val_loss: 0.6680\n",
            "Epoch 129/1000\n",
            "2/2 [==============================] - 1s 375ms/step - loss: 0.6688 - val_loss: 0.6680\n",
            "Epoch 130/1000\n",
            "2/2 [==============================] - 1s 340ms/step - loss: 0.6688 - val_loss: 0.6680\n",
            "Epoch 131/1000\n",
            "2/2 [==============================] - 1s 357ms/step - loss: 0.6688 - val_loss: 0.6680\n",
            "Epoch 132/1000\n",
            "2/2 [==============================] - 1s 363ms/step - loss: 0.6688 - val_loss: 0.6680\n",
            "Epoch 133/1000\n",
            "2/2 [==============================] - 1s 371ms/step - loss: 0.6688 - val_loss: 0.6680\n",
            "Epoch 134/1000\n",
            "2/2 [==============================] - 1s 348ms/step - loss: 0.6688 - val_loss: 0.6680\n",
            "Epoch 135/1000\n",
            "2/2 [==============================] - 1s 377ms/step - loss: 0.6688 - val_loss: 0.6680\n",
            "Epoch 136/1000\n",
            "2/2 [==============================] - 1s 381ms/step - loss: 0.6687 - val_loss: 0.6679\n",
            "Epoch 137/1000\n",
            "2/2 [==============================] - 1s 371ms/step - loss: 0.6687 - val_loss: 0.6679\n",
            "Epoch 138/1000\n",
            "2/2 [==============================] - 1s 361ms/step - loss: 0.6687 - val_loss: 0.6679\n",
            "Epoch 139/1000\n",
            "2/2 [==============================] - 1s 351ms/step - loss: 0.6687 - val_loss: 0.6679\n",
            "Epoch 140/1000\n",
            "2/2 [==============================] - 1s 369ms/step - loss: 0.6687 - val_loss: 0.6679\n",
            "Epoch 141/1000\n",
            "2/2 [==============================] - 1s 373ms/step - loss: 0.6687 - val_loss: 0.6679\n",
            "Epoch 142/1000\n",
            "2/2 [==============================] - 1s 362ms/step - loss: 0.6687 - val_loss: 0.6679\n",
            "Epoch 143/1000\n",
            "2/2 [==============================] - 1s 372ms/step - loss: 0.6687 - val_loss: 0.6679\n",
            "Epoch 144/1000\n",
            "2/2 [==============================] - 1s 358ms/step - loss: 0.6687 - val_loss: 0.6679\n",
            "Epoch 145/1000\n",
            "2/2 [==============================] - 1s 352ms/step - loss: 0.6687 - val_loss: 0.6679\n",
            "Epoch 146/1000\n",
            "2/2 [==============================] - 1s 355ms/step - loss: 0.6687 - val_loss: 0.6679\n",
            "Epoch 147/1000\n",
            "2/2 [==============================] - 1s 357ms/step - loss: 0.6687 - val_loss: 0.6679\n",
            "Epoch 148/1000\n",
            "2/2 [==============================] - 1s 352ms/step - loss: 0.6687 - val_loss: 0.6679\n",
            "Epoch 149/1000\n",
            "2/2 [==============================] - 1s 340ms/step - loss: 0.6687 - val_loss: 0.6679\n",
            "Epoch 150/1000\n",
            "2/2 [==============================] - 1s 353ms/step - loss: 0.6687 - val_loss: 0.6679\n",
            "Epoch 151/1000\n",
            "2/2 [==============================] - 1s 365ms/step - loss: 0.6686 - val_loss: 0.6679\n",
            "Epoch 152/1000\n",
            "2/2 [==============================] - 1s 374ms/step - loss: 0.6686 - val_loss: 0.6679\n",
            "Epoch 153/1000\n",
            "2/2 [==============================] - 1s 348ms/step - loss: 0.6686 - val_loss: 0.6678\n",
            "Epoch 154/1000\n",
            "2/2 [==============================] - 1s 340ms/step - loss: 0.6686 - val_loss: 0.6678\n",
            "Epoch 155/1000\n",
            "2/2 [==============================] - 1s 345ms/step - loss: 0.6686 - val_loss: 0.6678\n",
            "Epoch 156/1000\n",
            "2/2 [==============================] - 1s 354ms/step - loss: 0.6686 - val_loss: 0.6678\n",
            "Epoch 157/1000\n",
            "2/2 [==============================] - 1s 339ms/step - loss: 0.6686 - val_loss: 0.6678\n",
            "Epoch 158/1000\n",
            "2/2 [==============================] - 1s 331ms/step - loss: 0.6686 - val_loss: 0.6678\n",
            "Epoch 159/1000\n",
            "2/2 [==============================] - 1s 365ms/step - loss: 0.6686 - val_loss: 0.6678\n",
            "Epoch 160/1000\n",
            "2/2 [==============================] - 1s 373ms/step - loss: 0.6686 - val_loss: 0.6678\n",
            "Epoch 161/1000\n",
            "2/2 [==============================] - 1s 350ms/step - loss: 0.6686 - val_loss: 0.6678\n",
            "Epoch 162/1000\n",
            "2/2 [==============================] - 1s 350ms/step - loss: 0.6686 - val_loss: 0.6678\n",
            "Epoch 163/1000\n",
            "2/2 [==============================] - 1s 363ms/step - loss: 0.6686 - val_loss: 0.6678\n",
            "Epoch 164/1000\n",
            "2/2 [==============================] - 1s 341ms/step - loss: 0.6686 - val_loss: 0.6678\n",
            "Epoch 165/1000\n",
            "2/2 [==============================] - 1s 345ms/step - loss: 0.6686 - val_loss: 0.6678\n",
            "Epoch 166/1000\n",
            "2/2 [==============================] - 1s 367ms/step - loss: 0.6686 - val_loss: 0.6678\n",
            "Epoch 167/1000\n",
            "2/2 [==============================] - 1s 382ms/step - loss: 0.6685 - val_loss: 0.6678\n",
            "Epoch 168/1000\n",
            "2/2 [==============================] - 1s 366ms/step - loss: 0.6685 - val_loss: 0.6678\n",
            "Epoch 169/1000\n",
            "2/2 [==============================] - 1s 339ms/step - loss: 0.6685 - val_loss: 0.6678\n",
            "Epoch 170/1000\n",
            "2/2 [==============================] - 1s 354ms/step - loss: 0.6685 - val_loss: 0.6678\n",
            "Epoch 171/1000\n",
            "2/2 [==============================] - 1s 359ms/step - loss: 0.6685 - val_loss: 0.6678\n",
            "Epoch 172/1000\n",
            "2/2 [==============================] - 1s 345ms/step - loss: 0.6685 - val_loss: 0.6677\n",
            "Epoch 173/1000\n",
            "2/2 [==============================] - 1s 336ms/step - loss: 0.6685 - val_loss: 0.6677\n",
            "Epoch 174/1000\n",
            "2/2 [==============================] - 1s 345ms/step - loss: 0.6685 - val_loss: 0.6677\n",
            "Epoch 175/1000\n",
            "2/2 [==============================] - 1s 351ms/step - loss: 0.6685 - val_loss: 0.6677\n",
            "Epoch 176/1000\n",
            "2/2 [==============================] - 1s 362ms/step - loss: 0.6685 - val_loss: 0.6677\n",
            "Epoch 177/1000\n",
            "2/2 [==============================] - 1s 353ms/step - loss: 0.6685 - val_loss: 0.6677\n",
            "Epoch 178/1000\n",
            "2/2 [==============================] - 1s 340ms/step - loss: 0.6685 - val_loss: 0.6677\n",
            "Epoch 179/1000\n",
            "2/2 [==============================] - 1s 351ms/step - loss: 0.6685 - val_loss: 0.6677\n",
            "Epoch 180/1000\n",
            "2/2 [==============================] - 1s 340ms/step - loss: 0.6685 - val_loss: 0.6677\n",
            "Epoch 181/1000\n",
            "2/2 [==============================] - 1s 350ms/step - loss: 0.6685 - val_loss: 0.6677\n",
            "Epoch 182/1000\n",
            "2/2 [==============================] - 1s 342ms/step - loss: 0.6684 - val_loss: 0.6677\n",
            "Epoch 183/1000\n",
            "2/2 [==============================] - 1s 386ms/step - loss: 0.6684 - val_loss: 0.6677\n",
            "Epoch 184/1000\n",
            "2/2 [==============================] - 1s 373ms/step - loss: 0.6684 - val_loss: 0.6677\n",
            "Epoch 185/1000\n",
            "2/2 [==============================] - 1s 354ms/step - loss: 0.6684 - val_loss: 0.6677\n",
            "Epoch 186/1000\n",
            "2/2 [==============================] - 1s 356ms/step - loss: 0.6684 - val_loss: 0.6677\n",
            "Epoch 187/1000\n",
            "2/2 [==============================] - 1s 359ms/step - loss: 0.6684 - val_loss: 0.6677\n",
            "Epoch 188/1000\n",
            "2/2 [==============================] - 1s 378ms/step - loss: 0.6684 - val_loss: 0.6677\n",
            "Epoch 189/1000\n",
            "2/2 [==============================] - 1s 362ms/step - loss: 0.6684 - val_loss: 0.6676\n",
            "Epoch 190/1000\n",
            "2/2 [==============================] - 1s 344ms/step - loss: 0.6684 - val_loss: 0.6676\n",
            "Epoch 191/1000\n",
            "2/2 [==============================] - 1s 347ms/step - loss: 0.6684 - val_loss: 0.6676\n",
            "Epoch 192/1000\n",
            "2/2 [==============================] - 1s 356ms/step - loss: 0.6684 - val_loss: 0.6676\n",
            "Epoch 193/1000\n",
            "2/2 [==============================] - 1s 357ms/step - loss: 0.6684 - val_loss: 0.6676\n",
            "Epoch 194/1000\n",
            "2/2 [==============================] - 1s 345ms/step - loss: 0.6684 - val_loss: 0.6676\n",
            "Epoch 195/1000\n",
            "2/2 [==============================] - 1s 349ms/step - loss: 0.6684 - val_loss: 0.6676\n",
            "Epoch 196/1000\n",
            "2/2 [==============================] - 1s 343ms/step - loss: 0.6684 - val_loss: 0.6676\n",
            "Epoch 197/1000\n",
            "2/2 [==============================] - 1s 351ms/step - loss: 0.6683 - val_loss: 0.6676\n",
            "Epoch 198/1000\n",
            "2/2 [==============================] - 1s 362ms/step - loss: 0.6683 - val_loss: 0.6676\n",
            "Epoch 199/1000\n",
            "2/2 [==============================] - 1s 371ms/step - loss: 0.6683 - val_loss: 0.6676\n",
            "Epoch 200/1000\n",
            "2/2 [==============================] - 1s 368ms/step - loss: 0.6683 - val_loss: 0.6676\n",
            "Epoch 201/1000\n",
            "2/2 [==============================] - 1s 362ms/step - loss: 0.6683 - val_loss: 0.6676\n",
            "Epoch 202/1000\n",
            "2/2 [==============================] - 1s 349ms/step - loss: 0.6683 - val_loss: 0.6676\n",
            "Epoch 203/1000\n",
            "2/2 [==============================] - 1s 347ms/step - loss: 0.6683 - val_loss: 0.6676\n",
            "Epoch 204/1000\n",
            "2/2 [==============================] - 1s 348ms/step - loss: 0.6683 - val_loss: 0.6676\n",
            "Epoch 205/1000\n",
            "2/2 [==============================] - 1s 356ms/step - loss: 0.6683 - val_loss: 0.6676\n",
            "Epoch 206/1000\n",
            "2/2 [==============================] - 1s 360ms/step - loss: 0.6683 - val_loss: 0.6676\n",
            "Epoch 207/1000\n",
            "2/2 [==============================] - 1s 355ms/step - loss: 0.6683 - val_loss: 0.6676\n",
            "Epoch 208/1000\n",
            "2/2 [==============================] - 1s 356ms/step - loss: 0.6683 - val_loss: 0.6676\n",
            "Epoch 209/1000\n",
            "2/2 [==============================] - 1s 383ms/step - loss: 0.6683 - val_loss: 0.6675\n",
            "Epoch 210/1000\n",
            "2/2 [==============================] - 1s 349ms/step - loss: 0.6683 - val_loss: 0.6675\n",
            "Epoch 211/1000\n",
            "2/2 [==============================] - 1s 355ms/step - loss: 0.6682 - val_loss: 0.6675\n",
            "Epoch 212/1000\n",
            "2/2 [==============================] - 1s 354ms/step - loss: 0.6682 - val_loss: 0.6675\n",
            "Epoch 213/1000\n",
            "2/2 [==============================] - 1s 341ms/step - loss: 0.6682 - val_loss: 0.6675\n",
            "Epoch 214/1000\n",
            "2/2 [==============================] - 1s 362ms/step - loss: 0.6682 - val_loss: 0.6675\n",
            "Epoch 215/1000\n",
            "2/2 [==============================] - 1s 380ms/step - loss: 0.6682 - val_loss: 0.6675\n",
            "Epoch 216/1000\n",
            "2/2 [==============================] - 1s 356ms/step - loss: 0.6682 - val_loss: 0.6675\n",
            "Epoch 217/1000\n",
            "2/2 [==============================] - 1s 342ms/step - loss: 0.6682 - val_loss: 0.6675\n",
            "Epoch 218/1000\n",
            "2/2 [==============================] - 1s 350ms/step - loss: 0.6682 - val_loss: 0.6675\n",
            "Epoch 219/1000\n",
            "2/2 [==============================] - 1s 354ms/step - loss: 0.6682 - val_loss: 0.6675\n",
            "Epoch 220/1000\n",
            "2/2 [==============================] - 1s 343ms/step - loss: 0.6682 - val_loss: 0.6675\n",
            "Epoch 221/1000\n",
            "2/2 [==============================] - 1s 345ms/step - loss: 0.6682 - val_loss: 0.6675\n",
            "Epoch 222/1000\n",
            "2/2 [==============================] - 1s 341ms/step - loss: 0.6682 - val_loss: 0.6675\n",
            "Epoch 223/1000\n",
            "2/2 [==============================] - 1s 342ms/step - loss: 0.6682 - val_loss: 0.6675\n",
            "Epoch 224/1000\n",
            "2/2 [==============================] - 1s 353ms/step - loss: 0.6682 - val_loss: 0.6675\n",
            "Epoch 225/1000\n",
            "2/2 [==============================] - 1s 345ms/step - loss: 0.6681 - val_loss: 0.6675\n",
            "Epoch 226/1000\n",
            "2/2 [==============================] - 1s 350ms/step - loss: 0.6681 - val_loss: 0.6675\n",
            "Epoch 227/1000\n",
            "2/2 [==============================] - 1s 338ms/step - loss: 0.6681 - val_loss: 0.6674\n",
            "Epoch 228/1000\n",
            "2/2 [==============================] - 1s 360ms/step - loss: 0.6681 - val_loss: 0.6674\n",
            "Epoch 229/1000\n",
            "2/2 [==============================] - 1s 362ms/step - loss: 0.6681 - val_loss: 0.6674\n",
            "Epoch 230/1000\n",
            "2/2 [==============================] - 1s 355ms/step - loss: 0.6681 - val_loss: 0.6674\n",
            "Epoch 231/1000\n",
            "2/2 [==============================] - 1s 358ms/step - loss: 0.6681 - val_loss: 0.6674\n",
            "Epoch 232/1000\n",
            "2/2 [==============================] - 1s 352ms/step - loss: 0.6681 - val_loss: 0.6674\n",
            "Epoch 233/1000\n",
            "2/2 [==============================] - 1s 346ms/step - loss: 0.6681 - val_loss: 0.6674\n",
            "Epoch 234/1000\n",
            "2/2 [==============================] - 1s 339ms/step - loss: 0.6681 - val_loss: 0.6674\n",
            "Epoch 235/1000\n",
            "2/2 [==============================] - 1s 339ms/step - loss: 0.6681 - val_loss: 0.6674\n",
            "Epoch 236/1000\n",
            "2/2 [==============================] - 1s 334ms/step - loss: 0.6681 - val_loss: 0.6674\n",
            "Epoch 237/1000\n",
            "2/2 [==============================] - 1s 345ms/step - loss: 0.6681 - val_loss: 0.6674\n",
            "Epoch 238/1000\n",
            "2/2 [==============================] - 1s 353ms/step - loss: 0.6680 - val_loss: 0.6674\n",
            "Epoch 239/1000\n",
            "2/2 [==============================] - 1s 348ms/step - loss: 0.6680 - val_loss: 0.6674\n",
            "Epoch 240/1000\n",
            "2/2 [==============================] - 1s 353ms/step - loss: 0.6680 - val_loss: 0.6674\n",
            "Epoch 241/1000\n",
            "2/2 [==============================] - 1s 333ms/step - loss: 0.6680 - val_loss: 0.6673\n",
            "Epoch 242/1000\n",
            "2/2 [==============================] - 1s 348ms/step - loss: 0.6680 - val_loss: 0.6673\n",
            "Epoch 243/1000\n",
            "2/2 [==============================] - 1s 345ms/step - loss: 0.6680 - val_loss: 0.6673\n",
            "Epoch 244/1000\n",
            "2/2 [==============================] - 1s 345ms/step - loss: 0.6680 - val_loss: 0.6673\n",
            "Epoch 245/1000\n",
            "2/2 [==============================] - 1s 351ms/step - loss: 0.6680 - val_loss: 0.6673\n",
            "Epoch 246/1000\n",
            "2/2 [==============================] - 1s 377ms/step - loss: 0.6680 - val_loss: 0.6673\n",
            "Epoch 247/1000\n",
            "2/2 [==============================] - 1s 378ms/step - loss: 0.6680 - val_loss: 0.6673\n",
            "Epoch 248/1000\n",
            "2/2 [==============================] - 1s 357ms/step - loss: 0.6680 - val_loss: 0.6673\n",
            "Epoch 249/1000\n",
            "2/2 [==============================] - 1s 348ms/step - loss: 0.6680 - val_loss: 0.6673\n",
            "Epoch 250/1000\n",
            "2/2 [==============================] - 1s 355ms/step - loss: 0.6679 - val_loss: 0.6673\n",
            "Epoch 251/1000\n",
            "2/2 [==============================] - 1s 354ms/step - loss: 0.6679 - val_loss: 0.6673\n",
            "Epoch 252/1000\n",
            "2/2 [==============================] - 1s 346ms/step - loss: 0.6679 - val_loss: 0.6673\n",
            "Epoch 253/1000\n",
            "2/2 [==============================] - 1s 347ms/step - loss: 0.6679 - val_loss: 0.6673\n",
            "Epoch 254/1000\n",
            "2/2 [==============================] - 1s 359ms/step - loss: 0.6679 - val_loss: 0.6673\n",
            "Epoch 255/1000\n",
            "2/2 [==============================] - 1s 348ms/step - loss: 0.6679 - val_loss: 0.6673\n",
            "Epoch 256/1000\n",
            "2/2 [==============================] - 1s 345ms/step - loss: 0.6679 - val_loss: 0.6673\n",
            "Epoch 257/1000\n",
            "2/2 [==============================] - 1s 374ms/step - loss: 0.6679 - val_loss: 0.6672\n",
            "Epoch 258/1000\n",
            "2/2 [==============================] - 1s 356ms/step - loss: 0.6679 - val_loss: 0.6672\n",
            "Epoch 259/1000\n",
            "2/2 [==============================] - 1s 369ms/step - loss: 0.6679 - val_loss: 0.6672\n",
            "Epoch 260/1000\n",
            "2/2 [==============================] - 1s 357ms/step - loss: 0.6679 - val_loss: 0.6672\n",
            "Epoch 261/1000\n",
            "2/2 [==============================] - 1s 349ms/step - loss: 0.6678 - val_loss: 0.6672\n",
            "Epoch 262/1000\n",
            "2/2 [==============================] - 1s 371ms/step - loss: 0.6678 - val_loss: 0.6672\n",
            "Epoch 263/1000\n",
            "2/2 [==============================] - 1s 377ms/step - loss: 0.6678 - val_loss: 0.6672\n",
            "Epoch 264/1000\n",
            "2/2 [==============================] - 1s 356ms/step - loss: 0.6678 - val_loss: 0.6672\n",
            "Epoch 265/1000\n",
            "2/2 [==============================] - 1s 333ms/step - loss: 0.6678 - val_loss: 0.6672\n",
            "Epoch 266/1000\n",
            "2/2 [==============================] - 1s 349ms/step - loss: 0.6678 - val_loss: 0.6672\n",
            "Epoch 267/1000\n",
            "2/2 [==============================] - 1s 345ms/step - loss: 0.6678 - val_loss: 0.6672\n",
            "Epoch 268/1000\n",
            "2/2 [==============================] - 1s 350ms/step - loss: 0.6678 - val_loss: 0.6672\n",
            "Epoch 269/1000\n",
            "2/2 [==============================] - 1s 351ms/step - loss: 0.6678 - val_loss: 0.6672\n",
            "Epoch 270/1000\n",
            "2/2 [==============================] - 1s 341ms/step - loss: 0.6678 - val_loss: 0.6672\n",
            "Epoch 271/1000\n",
            "2/2 [==============================] - 1s 368ms/step - loss: 0.6678 - val_loss: 0.6671\n",
            "Epoch 272/1000\n",
            "2/2 [==============================] - 1s 358ms/step - loss: 0.6677 - val_loss: 0.6671\n",
            "Epoch 273/1000\n",
            "2/2 [==============================] - 1s 366ms/step - loss: 0.6677 - val_loss: 0.6671\n",
            "Epoch 274/1000\n",
            "2/2 [==============================] - 1s 368ms/step - loss: 0.6677 - val_loss: 0.6671\n",
            "Epoch 275/1000\n",
            "2/2 [==============================] - 1s 377ms/step - loss: 0.6677 - val_loss: 0.6671\n",
            "Epoch 276/1000\n",
            "2/2 [==============================] - 1s 370ms/step - loss: 0.6677 - val_loss: 0.6671\n",
            "Epoch 277/1000\n",
            "2/2 [==============================] - 1s 347ms/step - loss: 0.6677 - val_loss: 0.6671\n",
            "Epoch 278/1000\n",
            "2/2 [==============================] - 1s 398ms/step - loss: 0.6677 - val_loss: 0.6671\n",
            "Epoch 279/1000\n",
            "2/2 [==============================] - 1s 378ms/step - loss: 0.6677 - val_loss: 0.6671\n",
            "Epoch 280/1000\n",
            "2/2 [==============================] - 1s 350ms/step - loss: 0.6677 - val_loss: 0.6671\n",
            "Epoch 281/1000\n",
            "2/2 [==============================] - 1s 350ms/step - loss: 0.6677 - val_loss: 0.6671\n",
            "Epoch 282/1000\n",
            "2/2 [==============================] - 1s 370ms/step - loss: 0.6676 - val_loss: 0.6671\n",
            "Epoch 283/1000\n",
            "2/2 [==============================] - 1s 358ms/step - loss: 0.6676 - val_loss: 0.6671\n",
            "Epoch 284/1000\n",
            "2/2 [==============================] - 1s 380ms/step - loss: 0.6676 - val_loss: 0.6670\n",
            "Epoch 285/1000\n",
            "2/2 [==============================] - 1s 357ms/step - loss: 0.6676 - val_loss: 0.6670\n",
            "Epoch 286/1000\n",
            "2/2 [==============================] - 1s 371ms/step - loss: 0.6676 - val_loss: 0.6670\n",
            "Epoch 287/1000\n",
            "2/2 [==============================] - 1s 367ms/step - loss: 0.6676 - val_loss: 0.6670\n",
            "Epoch 288/1000\n",
            "2/2 [==============================] - 1s 360ms/step - loss: 0.6676 - val_loss: 0.6670\n",
            "Epoch 289/1000\n",
            "2/2 [==============================] - 1s 337ms/step - loss: 0.6676 - val_loss: 0.6670\n",
            "Epoch 290/1000\n",
            "2/2 [==============================] - 1s 354ms/step - loss: 0.6676 - val_loss: 0.6670\n",
            "Epoch 291/1000\n",
            "2/2 [==============================] - 1s 357ms/step - loss: 0.6676 - val_loss: 0.6670\n",
            "Epoch 292/1000\n",
            "2/2 [==============================] - 1s 361ms/step - loss: 0.6675 - val_loss: 0.6670\n",
            "Epoch 293/1000\n",
            "2/2 [==============================] - 1s 363ms/step - loss: 0.6675 - val_loss: 0.6670\n",
            "Epoch 294/1000\n",
            "2/2 [==============================] - 1s 388ms/step - loss: 0.6675 - val_loss: 0.6670\n",
            "Epoch 295/1000\n",
            "2/2 [==============================] - 1s 371ms/step - loss: 0.6675 - val_loss: 0.6670\n",
            "Epoch 296/1000\n",
            "2/2 [==============================] - 1s 365ms/step - loss: 0.6675 - val_loss: 0.6669\n",
            "Epoch 297/1000\n",
            "2/2 [==============================] - 1s 338ms/step - loss: 0.6675 - val_loss: 0.6669\n",
            "Epoch 298/1000\n",
            "2/2 [==============================] - 1s 354ms/step - loss: 0.6675 - val_loss: 0.6669\n",
            "Epoch 299/1000\n",
            "2/2 [==============================] - 1s 356ms/step - loss: 0.6675 - val_loss: 0.6669\n",
            "Epoch 300/1000\n",
            "2/2 [==============================] - 1s 363ms/step - loss: 0.6675 - val_loss: 0.6669\n",
            "Epoch 301/1000\n",
            "2/2 [==============================] - 1s 357ms/step - loss: 0.6675 - val_loss: 0.6669\n",
            "Epoch 302/1000\n",
            "2/2 [==============================] - 1s 352ms/step - loss: 0.6674 - val_loss: 0.6669\n",
            "Epoch 303/1000\n",
            "2/2 [==============================] - 1s 358ms/step - loss: 0.6674 - val_loss: 0.6669\n",
            "Epoch 304/1000\n",
            "2/2 [==============================] - 1s 340ms/step - loss: 0.6674 - val_loss: 0.6669\n",
            "Epoch 305/1000\n",
            "2/2 [==============================] - 1s 364ms/step - loss: 0.6674 - val_loss: 0.6669\n",
            "Epoch 306/1000\n",
            "2/2 [==============================] - 1s 349ms/step - loss: 0.6674 - val_loss: 0.6669\n",
            "Epoch 307/1000\n",
            "2/2 [==============================] - 1s 344ms/step - loss: 0.6674 - val_loss: 0.6669\n",
            "Epoch 308/1000\n",
            "2/2 [==============================] - 1s 334ms/step - loss: 0.6674 - val_loss: 0.6669\n",
            "Epoch 309/1000\n",
            "2/2 [==============================] - 1s 376ms/step - loss: 0.6674 - val_loss: 0.6668\n",
            "Epoch 310/1000\n",
            "2/2 [==============================] - 1s 387ms/step - loss: 0.6674 - val_loss: 0.6668\n",
            "Epoch 311/1000\n",
            "2/2 [==============================] - 1s 343ms/step - loss: 0.6673 - val_loss: 0.6668\n",
            "Epoch 312/1000\n",
            "2/2 [==============================] - 1s 354ms/step - loss: 0.6673 - val_loss: 0.6668\n",
            "Epoch 313/1000\n",
            "2/2 [==============================] - 1s 369ms/step - loss: 0.6673 - val_loss: 0.6668\n",
            "Epoch 314/1000\n",
            "2/2 [==============================] - 1s 342ms/step - loss: 0.6673 - val_loss: 0.6668\n",
            "Epoch 315/1000\n",
            "2/2 [==============================] - 1s 333ms/step - loss: 0.6673 - val_loss: 0.6668\n",
            "Epoch 316/1000\n",
            "2/2 [==============================] - 1s 349ms/step - loss: 0.6673 - val_loss: 0.6668\n",
            "Epoch 317/1000\n",
            "2/2 [==============================] - 1s 352ms/step - loss: 0.6673 - val_loss: 0.6668\n",
            "Epoch 318/1000\n",
            "2/2 [==============================] - 1s 337ms/step - loss: 0.6673 - val_loss: 0.6668\n",
            "Epoch 319/1000\n",
            "2/2 [==============================] - 1s 338ms/step - loss: 0.6673 - val_loss: 0.6668\n",
            "Epoch 320/1000\n",
            "2/2 [==============================] - 1s 348ms/step - loss: 0.6673 - val_loss: 0.6667\n",
            "Epoch 321/1000\n",
            "2/2 [==============================] - 1s 344ms/step - loss: 0.6672 - val_loss: 0.6667\n",
            "Epoch 322/1000\n",
            "2/2 [==============================] - 1s 351ms/step - loss: 0.6672 - val_loss: 0.6667\n",
            "Epoch 323/1000\n",
            "2/2 [==============================] - 1s 350ms/step - loss: 0.6672 - val_loss: 0.6667\n",
            "Epoch 324/1000\n",
            "2/2 [==============================] - 1s 360ms/step - loss: 0.6672 - val_loss: 0.6667\n",
            "Epoch 325/1000\n",
            "2/2 [==============================] - 1s 366ms/step - loss: 0.6672 - val_loss: 0.6667\n",
            "Epoch 326/1000\n",
            "2/2 [==============================] - 1s 379ms/step - loss: 0.6672 - val_loss: 0.6667\n",
            "Epoch 327/1000\n",
            "2/2 [==============================] - 1s 356ms/step - loss: 0.6672 - val_loss: 0.6667\n",
            "Epoch 328/1000\n",
            "2/2 [==============================] - 1s 339ms/step - loss: 0.6672 - val_loss: 0.6667\n",
            "Epoch 329/1000\n",
            "2/2 [==============================] - 1s 363ms/step - loss: 0.6672 - val_loss: 0.6667\n",
            "Epoch 330/1000\n",
            "2/2 [==============================] - 1s 350ms/step - loss: 0.6671 - val_loss: 0.6667\n",
            "Epoch 331/1000\n",
            "2/2 [==============================] - 1s 380ms/step - loss: 0.6671 - val_loss: 0.6667\n",
            "Epoch 332/1000\n",
            "2/2 [==============================] - 1s 343ms/step - loss: 0.6671 - val_loss: 0.6667\n",
            "Epoch 333/1000\n",
            "2/2 [==============================] - 1s 354ms/step - loss: 0.6671 - val_loss: 0.6666\n",
            "Epoch 334/1000\n",
            "2/2 [==============================] - 1s 347ms/step - loss: 0.6671 - val_loss: 0.6666\n",
            "Epoch 335/1000\n",
            "2/2 [==============================] - 1s 345ms/step - loss: 0.6671 - val_loss: 0.6666\n",
            "Epoch 336/1000\n",
            "2/2 [==============================] - 1s 350ms/step - loss: 0.6671 - val_loss: 0.6666\n",
            "Epoch 337/1000\n",
            "2/2 [==============================] - 1s 346ms/step - loss: 0.6671 - val_loss: 0.6666\n",
            "Epoch 338/1000\n",
            "2/2 [==============================] - 1s 363ms/step - loss: 0.6671 - val_loss: 0.6666\n",
            "Epoch 339/1000\n",
            "2/2 [==============================] - 1s 343ms/step - loss: 0.6670 - val_loss: 0.6666\n",
            "Epoch 340/1000\n",
            "2/2 [==============================] - 1s 344ms/step - loss: 0.6670 - val_loss: 0.6666\n",
            "Epoch 341/1000\n",
            "2/2 [==============================] - 1s 364ms/step - loss: 0.6670 - val_loss: 0.6666\n",
            "Epoch 342/1000\n",
            "2/2 [==============================] - 1s 357ms/step - loss: 0.6670 - val_loss: 0.6666\n",
            "Epoch 343/1000\n",
            "2/2 [==============================] - 1s 371ms/step - loss: 0.6670 - val_loss: 0.6666\n",
            "Epoch 344/1000\n",
            "2/2 [==============================] - 1s 349ms/step - loss: 0.6670 - val_loss: 0.6666\n",
            "Epoch 345/1000\n",
            "2/2 [==============================] - 1s 357ms/step - loss: 0.6670 - val_loss: 0.6665\n",
            "Epoch 346/1000\n",
            "2/2 [==============================] - 1s 353ms/step - loss: 0.6670 - val_loss: 0.6665\n",
            "Epoch 347/1000\n",
            "2/2 [==============================] - 1s 348ms/step - loss: 0.6670 - val_loss: 0.6665\n",
            "Epoch 348/1000\n",
            "2/2 [==============================] - 1s 359ms/step - loss: 0.6669 - val_loss: 0.6665\n",
            "Epoch 349/1000\n",
            "2/2 [==============================] - 1s 348ms/step - loss: 0.6669 - val_loss: 0.6665\n",
            "Epoch 350/1000\n",
            "2/2 [==============================] - 1s 358ms/step - loss: 0.6669 - val_loss: 0.6665\n",
            "Epoch 351/1000\n",
            "2/2 [==============================] - 1s 332ms/step - loss: 0.6669 - val_loss: 0.6665\n",
            "Epoch 352/1000\n",
            "2/2 [==============================] - 1s 356ms/step - loss: 0.6669 - val_loss: 0.6665\n",
            "Epoch 353/1000\n",
            "2/2 [==============================] - 1s 370ms/step - loss: 0.6669 - val_loss: 0.6665\n",
            "Epoch 354/1000\n",
            "2/2 [==============================] - 1s 340ms/step - loss: 0.6669 - val_loss: 0.6665\n",
            "Epoch 355/1000\n",
            "2/2 [==============================] - 1s 350ms/step - loss: 0.6669 - val_loss: 0.6665\n",
            "Epoch 356/1000\n",
            "2/2 [==============================] - 1s 367ms/step - loss: 0.6669 - val_loss: 0.6665\n",
            "Epoch 357/1000\n",
            "2/2 [==============================] - 1s 369ms/step - loss: 0.6669 - val_loss: 0.6665\n",
            "Epoch 358/1000\n",
            "2/2 [==============================] - 1s 360ms/step - loss: 0.6668 - val_loss: 0.6664\n",
            "Epoch 359/1000\n",
            "2/2 [==============================] - 1s 355ms/step - loss: 0.6668 - val_loss: 0.6664\n",
            "Epoch 360/1000\n",
            "2/2 [==============================] - 1s 363ms/step - loss: 0.6668 - val_loss: 0.6664\n",
            "Epoch 361/1000\n",
            "2/2 [==============================] - 1s 335ms/step - loss: 0.6668 - val_loss: 0.6664\n",
            "Epoch 362/1000\n",
            "2/2 [==============================] - 1s 346ms/step - loss: 0.6668 - val_loss: 0.6664\n",
            "Epoch 363/1000\n",
            "2/2 [==============================] - 1s 347ms/step - loss: 0.6668 - val_loss: 0.6664\n",
            "Epoch 364/1000\n",
            "2/2 [==============================] - 1s 343ms/step - loss: 0.6668 - val_loss: 0.6664\n",
            "Epoch 365/1000\n",
            "2/2 [==============================] - 1s 355ms/step - loss: 0.6668 - val_loss: 0.6664\n",
            "Epoch 366/1000\n",
            "2/2 [==============================] - 1s 342ms/step - loss: 0.6668 - val_loss: 0.6664\n",
            "Epoch 367/1000\n",
            "2/2 [==============================] - 1s 346ms/step - loss: 0.6668 - val_loss: 0.6664\n",
            "Epoch 368/1000\n",
            "2/2 [==============================] - 1s 354ms/step - loss: 0.6668 - val_loss: 0.6664\n",
            "Epoch 369/1000\n",
            "2/2 [==============================] - 1s 344ms/step - loss: 0.6667 - val_loss: 0.6664\n",
            "Epoch 370/1000\n",
            "2/2 [==============================] - 1s 352ms/step - loss: 0.6667 - val_loss: 0.6663\n",
            "Epoch 371/1000\n",
            "2/2 [==============================] - 1s 353ms/step - loss: 0.6667 - val_loss: 0.6663\n",
            "Epoch 372/1000\n",
            "2/2 [==============================] - 1s 350ms/step - loss: 0.6667 - val_loss: 0.6663\n",
            "Epoch 373/1000\n",
            "2/2 [==============================] - 1s 368ms/step - loss: 0.6667 - val_loss: 0.6663\n",
            "Epoch 374/1000\n",
            "2/2 [==============================] - 1s 365ms/step - loss: 0.6667 - val_loss: 0.6663\n",
            "Epoch 375/1000\n",
            "2/2 [==============================] - 1s 341ms/step - loss: 0.6667 - val_loss: 0.6663\n",
            "Epoch 376/1000\n",
            "2/2 [==============================] - 1s 345ms/step - loss: 0.6667 - val_loss: 0.6663\n",
            "Epoch 377/1000\n",
            "2/2 [==============================] - 1s 363ms/step - loss: 0.6667 - val_loss: 0.6663\n",
            "Epoch 378/1000\n",
            "2/2 [==============================] - 1s 371ms/step - loss: 0.6667 - val_loss: 0.6663\n",
            "Epoch 379/1000\n",
            "2/2 [==============================] - 1s 356ms/step - loss: 0.6666 - val_loss: 0.6663\n",
            "Epoch 380/1000\n",
            "2/2 [==============================] - 1s 357ms/step - loss: 0.6666 - val_loss: 0.6663\n",
            "Epoch 381/1000\n",
            "2/2 [==============================] - 1s 359ms/step - loss: 0.6666 - val_loss: 0.6663\n",
            "Epoch 382/1000\n",
            "2/2 [==============================] - 1s 334ms/step - loss: 0.6666 - val_loss: 0.6663\n",
            "Epoch 383/1000\n",
            "2/2 [==============================] - 1s 354ms/step - loss: 0.6666 - val_loss: 0.6662\n",
            "Epoch 384/1000\n",
            "2/2 [==============================] - 1s 359ms/step - loss: 0.6666 - val_loss: 0.6662\n",
            "Epoch 385/1000\n",
            "2/2 [==============================] - 1s 368ms/step - loss: 0.6666 - val_loss: 0.6662\n",
            "Epoch 386/1000\n",
            "2/2 [==============================] - 1s 357ms/step - loss: 0.6666 - val_loss: 0.6662\n",
            "Epoch 387/1000\n",
            "2/2 [==============================] - 1s 344ms/step - loss: 0.6666 - val_loss: 0.6662\n",
            "Epoch 388/1000\n",
            "2/2 [==============================] - 1s 354ms/step - loss: 0.6666 - val_loss: 0.6662\n",
            "Epoch 389/1000\n",
            "2/2 [==============================] - 1s 373ms/step - loss: 0.6666 - val_loss: 0.6662\n",
            "Epoch 390/1000\n",
            "2/2 [==============================] - 1s 383ms/step - loss: 0.6666 - val_loss: 0.6662\n",
            "Epoch 391/1000\n",
            "2/2 [==============================] - 1s 364ms/step - loss: 0.6665 - val_loss: 0.6662\n",
            "Epoch 392/1000\n",
            "2/2 [==============================] - 1s 353ms/step - loss: 0.6665 - val_loss: 0.6662\n",
            "Epoch 393/1000\n",
            "2/2 [==============================] - 1s 364ms/step - loss: 0.6665 - val_loss: 0.6662\n",
            "Epoch 394/1000\n",
            "2/2 [==============================] - 1s 363ms/step - loss: 0.6665 - val_loss: 0.6662\n",
            "Epoch 395/1000\n",
            "2/2 [==============================] - 1s 347ms/step - loss: 0.6665 - val_loss: 0.6662\n",
            "Epoch 396/1000\n",
            "2/2 [==============================] - 1s 352ms/step - loss: 0.6665 - val_loss: 0.6662\n",
            "Epoch 397/1000\n",
            "2/2 [==============================] - 1s 351ms/step - loss: 0.6665 - val_loss: 0.6662\n",
            "Epoch 398/1000\n",
            "2/2 [==============================] - 1s 346ms/step - loss: 0.6665 - val_loss: 0.6662\n",
            "Epoch 399/1000\n",
            "2/2 [==============================] - 1s 340ms/step - loss: 0.6665 - val_loss: 0.6661\n",
            "Epoch 400/1000\n",
            "2/2 [==============================] - 1s 336ms/step - loss: 0.6665 - val_loss: 0.6661\n",
            "Epoch 401/1000\n",
            "2/2 [==============================] - 1s 338ms/step - loss: 0.6665 - val_loss: 0.6661\n",
            "Epoch 402/1000\n",
            "2/2 [==============================] - 1s 338ms/step - loss: 0.6665 - val_loss: 0.6661\n",
            "Epoch 403/1000\n",
            "2/2 [==============================] - 1s 340ms/step - loss: 0.6665 - val_loss: 0.6661\n",
            "Epoch 404/1000\n",
            "2/2 [==============================] - 1s 347ms/step - loss: 0.6664 - val_loss: 0.6661\n",
            "Epoch 405/1000\n",
            "2/2 [==============================] - 1s 370ms/step - loss: 0.6664 - val_loss: 0.6661\n",
            "Epoch 406/1000\n",
            "2/2 [==============================] - 1s 386ms/step - loss: 0.6664 - val_loss: 0.6661\n",
            "Epoch 407/1000\n",
            "2/2 [==============================] - 1s 345ms/step - loss: 0.6664 - val_loss: 0.6661\n",
            "Epoch 408/1000\n",
            "2/2 [==============================] - 1s 360ms/step - loss: 0.6664 - val_loss: 0.6661\n",
            "Epoch 409/1000\n",
            "2/2 [==============================] - 1s 348ms/step - loss: 0.6664 - val_loss: 0.6661\n",
            "Epoch 410/1000\n",
            "2/2 [==============================] - 1s 361ms/step - loss: 0.6664 - val_loss: 0.6661\n",
            "Epoch 411/1000\n",
            "2/2 [==============================] - 1s 352ms/step - loss: 0.6664 - val_loss: 0.6661\n",
            "Epoch 412/1000\n",
            "2/2 [==============================] - 1s 352ms/step - loss: 0.6664 - val_loss: 0.6661\n",
            "Epoch 413/1000\n",
            "2/2 [==============================] - 1s 356ms/step - loss: 0.6664 - val_loss: 0.6661\n",
            "Epoch 414/1000\n",
            "2/2 [==============================] - 1s 351ms/step - loss: 0.6664 - val_loss: 0.6660\n",
            "Epoch 415/1000\n",
            "2/2 [==============================] - 1s 364ms/step - loss: 0.6664 - val_loss: 0.6660\n",
            "Epoch 416/1000\n",
            "2/2 [==============================] - 1s 346ms/step - loss: 0.6664 - val_loss: 0.6660\n",
            "Epoch 417/1000\n",
            "2/2 [==============================] - 1s 346ms/step - loss: 0.6663 - val_loss: 0.6660\n",
            "Epoch 418/1000\n",
            "2/2 [==============================] - 1s 352ms/step - loss: 0.6663 - val_loss: 0.6660\n",
            "Epoch 419/1000\n",
            "2/2 [==============================] - 1s 350ms/step - loss: 0.6663 - val_loss: 0.6660\n",
            "Epoch 420/1000\n",
            "2/2 [==============================] - 1s 347ms/step - loss: 0.6663 - val_loss: 0.6660\n",
            "Epoch 421/1000\n",
            "2/2 [==============================] - 1s 384ms/step - loss: 0.6663 - val_loss: 0.6660\n",
            "Epoch 422/1000\n",
            "2/2 [==============================] - 1s 378ms/step - loss: 0.6663 - val_loss: 0.6660\n",
            "Epoch 423/1000\n",
            "2/2 [==============================] - 1s 372ms/step - loss: 0.6663 - val_loss: 0.6660\n",
            "Epoch 424/1000\n",
            "2/2 [==============================] - 1s 377ms/step - loss: 0.6663 - val_loss: 0.6660\n",
            "Epoch 425/1000\n",
            "2/2 [==============================] - 1s 390ms/step - loss: 0.6663 - val_loss: 0.6660\n",
            "Epoch 426/1000\n",
            "2/2 [==============================] - 1s 350ms/step - loss: 0.6663 - val_loss: 0.6660\n",
            "Epoch 427/1000\n",
            "2/2 [==============================] - 1s 350ms/step - loss: 0.6663 - val_loss: 0.6660\n",
            "Epoch 428/1000\n",
            "2/2 [==============================] - 1s 334ms/step - loss: 0.6663 - val_loss: 0.6660\n",
            "Epoch 429/1000\n",
            "2/2 [==============================] - 1s 344ms/step - loss: 0.6663 - val_loss: 0.6660\n",
            "Epoch 430/1000\n",
            "2/2 [==============================] - 1s 351ms/step - loss: 0.6663 - val_loss: 0.6660\n",
            "Epoch 431/1000\n",
            "2/2 [==============================] - 1s 355ms/step - loss: 0.6663 - val_loss: 0.6659\n",
            "Epoch 432/1000\n",
            "2/2 [==============================] - 1s 352ms/step - loss: 0.6663 - val_loss: 0.6659\n",
            "Epoch 433/1000\n",
            "2/2 [==============================] - 1s 351ms/step - loss: 0.6662 - val_loss: 0.6659\n",
            "Epoch 434/1000\n",
            "2/2 [==============================] - 1s 348ms/step - loss: 0.6662 - val_loss: 0.6659\n",
            "Epoch 435/1000\n",
            "2/2 [==============================] - 1s 374ms/step - loss: 0.6662 - val_loss: 0.6659\n",
            "Epoch 436/1000\n",
            "2/2 [==============================] - 1s 389ms/step - loss: 0.6662 - val_loss: 0.6659\n",
            "Epoch 437/1000\n",
            "2/2 [==============================] - 1s 377ms/step - loss: 0.6662 - val_loss: 0.6659\n",
            "Epoch 438/1000\n",
            "2/2 [==============================] - 1s 367ms/step - loss: 0.6662 - val_loss: 0.6659\n",
            "Epoch 439/1000\n",
            "2/2 [==============================] - 1s 338ms/step - loss: 0.6662 - val_loss: 0.6659\n",
            "Epoch 440/1000\n",
            "2/2 [==============================] - 1s 361ms/step - loss: 0.6662 - val_loss: 0.6659\n",
            "Epoch 441/1000\n",
            "2/2 [==============================] - 1s 341ms/step - loss: 0.6662 - val_loss: 0.6659\n",
            "Epoch 442/1000\n",
            "2/2 [==============================] - 1s 364ms/step - loss: 0.6662 - val_loss: 0.6659\n",
            "Epoch 443/1000\n",
            "2/2 [==============================] - 1s 353ms/step - loss: 0.6662 - val_loss: 0.6659\n",
            "Epoch 444/1000\n",
            "2/2 [==============================] - 1s 341ms/step - loss: 0.6662 - val_loss: 0.6659\n",
            "Epoch 445/1000\n",
            "2/2 [==============================] - 1s 354ms/step - loss: 0.6662 - val_loss: 0.6659\n",
            "Epoch 446/1000\n",
            "2/2 [==============================] - 1s 352ms/step - loss: 0.6662 - val_loss: 0.6659\n",
            "Epoch 447/1000\n",
            "2/2 [==============================] - 1s 348ms/step - loss: 0.6662 - val_loss: 0.6659\n",
            "Epoch 448/1000\n",
            "2/2 [==============================] - 1s 360ms/step - loss: 0.6662 - val_loss: 0.6659\n",
            "Epoch 449/1000\n",
            "2/2 [==============================] - 1s 343ms/step - loss: 0.6662 - val_loss: 0.6658\n",
            "Epoch 450/1000\n",
            "2/2 [==============================] - 1s 343ms/step - loss: 0.6661 - val_loss: 0.6658\n",
            "Epoch 451/1000\n",
            "2/2 [==============================] - 1s 372ms/step - loss: 0.6661 - val_loss: 0.6658\n",
            "Epoch 452/1000\n",
            "2/2 [==============================] - 1s 379ms/step - loss: 0.6661 - val_loss: 0.6658\n",
            "Epoch 453/1000\n",
            "2/2 [==============================] - 1s 377ms/step - loss: 0.6661 - val_loss: 0.6658\n",
            "Epoch 454/1000\n",
            "2/2 [==============================] - 1s 354ms/step - loss: 0.6661 - val_loss: 0.6658\n",
            "Epoch 455/1000\n",
            "2/2 [==============================] - 1s 371ms/step - loss: 0.6661 - val_loss: 0.6658\n",
            "Epoch 456/1000\n",
            "2/2 [==============================] - 1s 356ms/step - loss: 0.6661 - val_loss: 0.6658\n",
            "Epoch 457/1000\n",
            "2/2 [==============================] - 1s 361ms/step - loss: 0.6661 - val_loss: 0.6658\n",
            "Epoch 458/1000\n",
            "2/2 [==============================] - 1s 349ms/step - loss: 0.6661 - val_loss: 0.6658\n",
            "Epoch 459/1000\n",
            "2/2 [==============================] - 1s 370ms/step - loss: 0.6661 - val_loss: 0.6658\n",
            "Epoch 460/1000\n",
            "2/2 [==============================] - 1s 352ms/step - loss: 0.6661 - val_loss: 0.6658\n",
            "Epoch 461/1000\n",
            "2/2 [==============================] - 1s 345ms/step - loss: 0.6661 - val_loss: 0.6658\n",
            "Epoch 462/1000\n",
            "2/2 [==============================] - 1s 368ms/step - loss: 0.6661 - val_loss: 0.6658\n",
            "Epoch 463/1000\n",
            "2/2 [==============================] - 1s 350ms/step - loss: 0.6661 - val_loss: 0.6658\n",
            "Epoch 464/1000\n",
            "2/2 [==============================] - 1s 351ms/step - loss: 0.6661 - val_loss: 0.6658\n",
            "Epoch 465/1000\n",
            "2/2 [==============================] - 1s 348ms/step - loss: 0.6661 - val_loss: 0.6658\n",
            "Epoch 466/1000\n",
            "2/2 [==============================] - 1s 341ms/step - loss: 0.6661 - val_loss: 0.6658\n",
            "Epoch 467/1000\n",
            "2/2 [==============================] - 1s 354ms/step - loss: 0.6661 - val_loss: 0.6658\n",
            "Epoch 468/1000\n",
            "2/2 [==============================] - 1s 370ms/step - loss: 0.6660 - val_loss: 0.6658\n",
            "Epoch 469/1000\n",
            "2/2 [==============================] - 1s 378ms/step - loss: 0.6660 - val_loss: 0.6658\n",
            "Epoch 470/1000\n",
            "2/2 [==============================] - 1s 343ms/step - loss: 0.6660 - val_loss: 0.6657\n",
            "Epoch 471/1000\n",
            "2/2 [==============================] - 1s 346ms/step - loss: 0.6660 - val_loss: 0.6657\n",
            "Epoch 472/1000\n",
            "2/2 [==============================] - 1s 351ms/step - loss: 0.6660 - val_loss: 0.6657\n",
            "Epoch 473/1000\n",
            "2/2 [==============================] - 1s 353ms/step - loss: 0.6660 - val_loss: 0.6657\n",
            "Epoch 474/1000\n",
            "2/2 [==============================] - 1s 342ms/step - loss: 0.6660 - val_loss: 0.6657\n",
            "Epoch 475/1000\n",
            "2/2 [==============================] - 1s 327ms/step - loss: 0.6660 - val_loss: 0.6657\n",
            "Epoch 476/1000\n",
            "2/2 [==============================] - 1s 339ms/step - loss: 0.6660 - val_loss: 0.6657\n",
            "Epoch 477/1000\n",
            "2/2 [==============================] - 1s 374ms/step - loss: 0.6660 - val_loss: 0.6657\n",
            "Epoch 478/1000\n",
            "2/2 [==============================] - 1s 354ms/step - loss: 0.6660 - val_loss: 0.6657\n",
            "Epoch 479/1000\n",
            "2/2 [==============================] - 1s 356ms/step - loss: 0.6660 - val_loss: 0.6657\n",
            "Epoch 480/1000\n",
            "2/2 [==============================] - 1s 360ms/step - loss: 0.6660 - val_loss: 0.6657\n",
            "Epoch 481/1000\n",
            "2/2 [==============================] - 1s 364ms/step - loss: 0.6660 - val_loss: 0.6657\n",
            "Epoch 482/1000\n",
            "2/2 [==============================] - 1s 365ms/step - loss: 0.6660 - val_loss: 0.6657\n",
            "Epoch 483/1000\n",
            "2/2 [==============================] - 1s 344ms/step - loss: 0.6660 - val_loss: 0.6657\n",
            "Epoch 484/1000\n",
            "2/2 [==============================] - 1s 358ms/step - loss: 0.6660 - val_loss: 0.6657\n",
            "Epoch 485/1000\n",
            "2/2 [==============================] - 1s 361ms/step - loss: 0.6660 - val_loss: 0.6657\n",
            "Epoch 486/1000\n",
            "2/2 [==============================] - 1s 343ms/step - loss: 0.6660 - val_loss: 0.6657\n",
            "Epoch 487/1000\n",
            "2/2 [==============================] - 1s 352ms/step - loss: 0.6660 - val_loss: 0.6657\n",
            "Epoch 488/1000\n",
            "2/2 [==============================] - 1s 344ms/step - loss: 0.6660 - val_loss: 0.6657\n",
            "Epoch 489/1000\n",
            "2/2 [==============================] - 1s 339ms/step - loss: 0.6659 - val_loss: 0.6657\n",
            "Epoch 490/1000\n",
            "2/2 [==============================] - 1s 343ms/step - loss: 0.6659 - val_loss: 0.6656\n",
            "Epoch 491/1000\n",
            "2/2 [==============================] - 1s 350ms/step - loss: 0.6659 - val_loss: 0.6656\n",
            "Epoch 492/1000\n",
            "2/2 [==============================] - 1s 348ms/step - loss: 0.6659 - val_loss: 0.6656\n",
            "Epoch 493/1000\n",
            "2/2 [==============================] - 1s 351ms/step - loss: 0.6659 - val_loss: 0.6656\n",
            "Epoch 494/1000\n",
            "2/2 [==============================] - 1s 359ms/step - loss: 0.6659 - val_loss: 0.6656\n",
            "Epoch 495/1000\n",
            "2/2 [==============================] - 1s 359ms/step - loss: 0.6659 - val_loss: 0.6656\n",
            "Epoch 496/1000\n",
            "2/2 [==============================] - 1s 354ms/step - loss: 0.6659 - val_loss: 0.6656\n",
            "Epoch 497/1000\n",
            "2/2 [==============================] - 1s 370ms/step - loss: 0.6659 - val_loss: 0.6656\n",
            "Epoch 498/1000\n",
            "2/2 [==============================] - 1s 354ms/step - loss: 0.6659 - val_loss: 0.6656\n",
            "Epoch 499/1000\n",
            "2/2 [==============================] - 1s 340ms/step - loss: 0.6659 - val_loss: 0.6656\n",
            "Epoch 500/1000\n",
            "2/2 [==============================] - 1s 378ms/step - loss: 0.6659 - val_loss: 0.6656\n",
            "Epoch 501/1000\n",
            "2/2 [==============================] - 1s 385ms/step - loss: 0.6659 - val_loss: 0.6656\n",
            "Epoch 502/1000\n",
            "2/2 [==============================] - 1s 348ms/step - loss: 0.6659 - val_loss: 0.6656\n",
            "Epoch 503/1000\n",
            "2/2 [==============================] - 1s 346ms/step - loss: 0.6659 - val_loss: 0.6656\n",
            "Epoch 504/1000\n",
            "2/2 [==============================] - 1s 352ms/step - loss: 0.6659 - val_loss: 0.6656\n",
            "Epoch 505/1000\n",
            "2/2 [==============================] - 1s 359ms/step - loss: 0.6659 - val_loss: 0.6656\n",
            "Epoch 506/1000\n",
            "2/2 [==============================] - 1s 344ms/step - loss: 0.6659 - val_loss: 0.6656\n",
            "Epoch 507/1000\n",
            "2/2 [==============================] - 1s 357ms/step - loss: 0.6659 - val_loss: 0.6656\n",
            "Epoch 508/1000\n",
            "2/2 [==============================] - 1s 355ms/step - loss: 0.6659 - val_loss: 0.6656\n",
            "Epoch 509/1000\n",
            "2/2 [==============================] - 1s 359ms/step - loss: 0.6659 - val_loss: 0.6656\n",
            "Epoch 510/1000\n",
            "2/2 [==============================] - 1s 362ms/step - loss: 0.6658 - val_loss: 0.6656\n",
            "Epoch 511/1000\n",
            "2/2 [==============================] - 1s 346ms/step - loss: 0.6658 - val_loss: 0.6656\n",
            "Epoch 512/1000\n",
            "2/2 [==============================] - 1s 364ms/step - loss: 0.6658 - val_loss: 0.6656\n",
            "Epoch 513/1000\n",
            "2/2 [==============================] - 1s 364ms/step - loss: 0.6658 - val_loss: 0.6655\n",
            "Epoch 514/1000\n",
            "2/2 [==============================] - 1s 342ms/step - loss: 0.6658 - val_loss: 0.6655\n",
            "Epoch 515/1000\n",
            "2/2 [==============================] - 1s 344ms/step - loss: 0.6658 - val_loss: 0.6655\n",
            "Epoch 516/1000\n",
            "2/2 [==============================] - 1s 376ms/step - loss: 0.6658 - val_loss: 0.6655\n",
            "Epoch 517/1000\n",
            "2/2 [==============================] - 1s 381ms/step - loss: 0.6658 - val_loss: 0.6655\n",
            "Epoch 518/1000\n",
            "2/2 [==============================] - 1s 361ms/step - loss: 0.6658 - val_loss: 0.6655\n",
            "Epoch 519/1000\n",
            "2/2 [==============================] - 1s 349ms/step - loss: 0.6658 - val_loss: 0.6655\n",
            "Epoch 520/1000\n",
            "2/2 [==============================] - 1s 361ms/step - loss: 0.6658 - val_loss: 0.6655\n",
            "Epoch 521/1000\n",
            "2/2 [==============================] - 1s 348ms/step - loss: 0.6658 - val_loss: 0.6655\n",
            "Epoch 522/1000\n",
            "2/2 [==============================] - 1s 351ms/step - loss: 0.6658 - val_loss: 0.6655\n",
            "Epoch 523/1000\n",
            "2/2 [==============================] - 1s 348ms/step - loss: 0.6658 - val_loss: 0.6655\n",
            "Epoch 524/1000\n",
            "2/2 [==============================] - 1s 361ms/step - loss: 0.6658 - val_loss: 0.6655\n",
            "Epoch 525/1000\n",
            "2/2 [==============================] - 1s 362ms/step - loss: 0.6658 - val_loss: 0.6655\n",
            "Epoch 526/1000\n",
            "2/2 [==============================] - 1s 351ms/step - loss: 0.6658 - val_loss: 0.6655\n",
            "Epoch 527/1000\n",
            "2/2 [==============================] - 1s 340ms/step - loss: 0.6658 - val_loss: 0.6655\n",
            "Epoch 528/1000\n",
            "2/2 [==============================] - 1s 349ms/step - loss: 0.6658 - val_loss: 0.6655\n",
            "Epoch 529/1000\n",
            "2/2 [==============================] - 1s 360ms/step - loss: 0.6658 - val_loss: 0.6655\n",
            "Epoch 530/1000\n",
            "2/2 [==============================] - 1s 348ms/step - loss: 0.6658 - val_loss: 0.6655\n",
            "Epoch 531/1000\n",
            "2/2 [==============================] - 1s 364ms/step - loss: 0.6658 - val_loss: 0.6655\n",
            "Epoch 532/1000\n",
            "2/2 [==============================] - 1s 376ms/step - loss: 0.6657 - val_loss: 0.6655\n",
            "Epoch 533/1000\n",
            "2/2 [==============================] - 1s 357ms/step - loss: 0.6657 - val_loss: 0.6654\n",
            "Epoch 534/1000\n",
            "2/2 [==============================] - 1s 356ms/step - loss: 0.6657 - val_loss: 0.6654\n",
            "Epoch 535/1000\n",
            "2/2 [==============================] - 1s 359ms/step - loss: 0.6657 - val_loss: 0.6654\n",
            "Epoch 536/1000\n",
            "2/2 [==============================] - 1s 372ms/step - loss: 0.6657 - val_loss: 0.6654\n",
            "Epoch 537/1000\n",
            "2/2 [==============================] - 1s 365ms/step - loss: 0.6657 - val_loss: 0.6654\n",
            "Epoch 538/1000\n",
            "2/2 [==============================] - 1s 363ms/step - loss: 0.6657 - val_loss: 0.6654\n",
            "Epoch 539/1000\n",
            "2/2 [==============================] - 1s 353ms/step - loss: 0.6657 - val_loss: 0.6654\n",
            "Epoch 540/1000\n",
            "2/2 [==============================] - 1s 356ms/step - loss: 0.6657 - val_loss: 0.6654\n",
            "Epoch 541/1000\n",
            "2/2 [==============================] - 1s 345ms/step - loss: 0.6657 - val_loss: 0.6654\n",
            "Epoch 542/1000\n",
            "2/2 [==============================] - 1s 356ms/step - loss: 0.6657 - val_loss: 0.6654\n",
            "Epoch 543/1000\n",
            "2/2 [==============================] - 1s 354ms/step - loss: 0.6657 - val_loss: 0.6654\n",
            "Epoch 544/1000\n",
            "2/2 [==============================] - 1s 355ms/step - loss: 0.6657 - val_loss: 0.6654\n",
            "Epoch 545/1000\n",
            "2/2 [==============================] - 1s 345ms/step - loss: 0.6657 - val_loss: 0.6654\n",
            "Epoch 546/1000\n",
            "2/2 [==============================] - 1s 370ms/step - loss: 0.6657 - val_loss: 0.6654\n",
            "Epoch 547/1000\n",
            "2/2 [==============================] - 1s 372ms/step - loss: 0.6657 - val_loss: 0.6654\n",
            "Epoch 548/1000\n",
            "2/2 [==============================] - 1s 366ms/step - loss: 0.6657 - val_loss: 0.6654\n",
            "Epoch 549/1000\n",
            "2/2 [==============================] - 1s 356ms/step - loss: 0.6657 - val_loss: 0.6654\n",
            "Epoch 550/1000\n",
            "2/2 [==============================] - 1s 360ms/step - loss: 0.6657 - val_loss: 0.6654\n",
            "Epoch 551/1000\n",
            "2/2 [==============================] - 1s 342ms/step - loss: 0.6657 - val_loss: 0.6654\n",
            "Epoch 552/1000\n",
            "2/2 [==============================] - 1s 346ms/step - loss: 0.6657 - val_loss: 0.6654\n",
            "Epoch 553/1000\n",
            "2/2 [==============================] - 1s 343ms/step - loss: 0.6657 - val_loss: 0.6654\n",
            "Epoch 554/1000\n",
            "2/2 [==============================] - 1s 369ms/step - loss: 0.6656 - val_loss: 0.6654\n",
            "Epoch 555/1000\n",
            "2/2 [==============================] - 1s 353ms/step - loss: 0.6656 - val_loss: 0.6653\n",
            "Epoch 556/1000\n",
            "2/2 [==============================] - 1s 364ms/step - loss: 0.6656 - val_loss: 0.6653\n",
            "Epoch 557/1000\n",
            "2/2 [==============================] - 1s 368ms/step - loss: 0.6656 - val_loss: 0.6653\n",
            "Epoch 558/1000\n",
            "2/2 [==============================] - 1s 385ms/step - loss: 0.6656 - val_loss: 0.6653\n",
            "Epoch 559/1000\n",
            "2/2 [==============================] - 1s 366ms/step - loss: 0.6656 - val_loss: 0.6653\n",
            "Epoch 560/1000\n",
            "2/2 [==============================] - 1s 367ms/step - loss: 0.6656 - val_loss: 0.6653\n",
            "Epoch 561/1000\n",
            "2/2 [==============================] - 1s 401ms/step - loss: 0.6656 - val_loss: 0.6653\n",
            "Epoch 562/1000\n",
            "2/2 [==============================] - 1s 379ms/step - loss: 0.6656 - val_loss: 0.6653\n",
            "Epoch 563/1000\n",
            "2/2 [==============================] - 1s 403ms/step - loss: 0.6656 - val_loss: 0.6653\n",
            "Epoch 564/1000\n",
            "2/2 [==============================] - 1s 356ms/step - loss: 0.6656 - val_loss: 0.6653\n",
            "Epoch 565/1000\n",
            "2/2 [==============================] - 1s 354ms/step - loss: 0.6656 - val_loss: 0.6653\n",
            "Epoch 566/1000\n",
            "2/2 [==============================] - 1s 369ms/step - loss: 0.6656 - val_loss: 0.6653\n",
            "Epoch 567/1000\n",
            "2/2 [==============================] - 1s 352ms/step - loss: 0.6656 - val_loss: 0.6653\n",
            "Epoch 568/1000\n",
            "2/2 [==============================] - 1s 351ms/step - loss: 0.6656 - val_loss: 0.6653\n",
            "Epoch 569/1000\n",
            "2/2 [==============================] - 1s 389ms/step - loss: 0.6656 - val_loss: 0.6653\n",
            "Epoch 570/1000\n",
            "2/2 [==============================] - 1s 359ms/step - loss: 0.6656 - val_loss: 0.6653\n",
            "Epoch 571/1000\n",
            "2/2 [==============================] - 1s 362ms/step - loss: 0.6656 - val_loss: 0.6653\n",
            "Epoch 572/1000\n",
            "2/2 [==============================] - 1s 355ms/step - loss: 0.6656 - val_loss: 0.6653\n",
            "Epoch 573/1000\n",
            "2/2 [==============================] - 1s 366ms/step - loss: 0.6656 - val_loss: 0.6653\n",
            "Epoch 574/1000\n",
            "2/2 [==============================] - 1s 361ms/step - loss: 0.6656 - val_loss: 0.6652\n",
            "Epoch 575/1000\n",
            "2/2 [==============================] - 1s 340ms/step - loss: 0.6655 - val_loss: 0.6652\n",
            "Epoch 576/1000\n",
            "2/2 [==============================] - 1s 354ms/step - loss: 0.6655 - val_loss: 0.6652\n",
            "Epoch 577/1000\n",
            "2/2 [==============================] - 1s 359ms/step - loss: 0.6655 - val_loss: 0.6652\n",
            "Epoch 578/1000\n",
            "2/2 [==============================] - 1s 367ms/step - loss: 0.6655 - val_loss: 0.6652\n",
            "Epoch 579/1000\n",
            "2/2 [==============================] - 1s 390ms/step - loss: 0.6655 - val_loss: 0.6652\n",
            "Epoch 580/1000\n",
            "2/2 [==============================] - 1s 364ms/step - loss: 0.6655 - val_loss: 0.6652\n",
            "Epoch 581/1000\n",
            "2/2 [==============================] - 1s 342ms/step - loss: 0.6655 - val_loss: 0.6652\n",
            "Epoch 582/1000\n",
            "2/2 [==============================] - 1s 338ms/step - loss: 0.6655 - val_loss: 0.6652\n",
            "Epoch 583/1000\n",
            "2/2 [==============================] - 1s 363ms/step - loss: 0.6655 - val_loss: 0.6652\n",
            "Epoch 584/1000\n",
            "2/2 [==============================] - 1s 354ms/step - loss: 0.6655 - val_loss: 0.6652\n",
            "Epoch 585/1000\n",
            "2/2 [==============================] - 1s 368ms/step - loss: 0.6655 - val_loss: 0.6652\n",
            "Epoch 586/1000\n",
            "2/2 [==============================] - 1s 356ms/step - loss: 0.6655 - val_loss: 0.6652\n",
            "Epoch 587/1000\n",
            "2/2 [==============================] - 1s 342ms/step - loss: 0.6655 - val_loss: 0.6652\n",
            "Epoch 588/1000\n",
            "2/2 [==============================] - 1s 347ms/step - loss: 0.6655 - val_loss: 0.6652\n",
            "Epoch 589/1000\n",
            "2/2 [==============================] - 1s 344ms/step - loss: 0.6655 - val_loss: 0.6652\n",
            "Epoch 590/1000\n",
            "2/2 [==============================] - 1s 349ms/step - loss: 0.6655 - val_loss: 0.6652\n",
            "Epoch 591/1000\n",
            "2/2 [==============================] - 1s 354ms/step - loss: 0.6655 - val_loss: 0.6652\n",
            "Epoch 592/1000\n",
            "2/2 [==============================] - 1s 355ms/step - loss: 0.6655 - val_loss: 0.6652\n",
            "Epoch 593/1000\n",
            "2/2 [==============================] - 1s 345ms/step - loss: 0.6655 - val_loss: 0.6652\n",
            "Epoch 594/1000\n",
            "2/2 [==============================] - 1s 395ms/step - loss: 0.6654 - val_loss: 0.6652\n",
            "Epoch 595/1000\n",
            "2/2 [==============================] - 1s 382ms/step - loss: 0.6654 - val_loss: 0.6652\n",
            "Epoch 596/1000\n",
            "2/2 [==============================] - 1s 373ms/step - loss: 0.6654 - val_loss: 0.6651\n",
            "Epoch 597/1000\n",
            "2/2 [==============================] - 1s 343ms/step - loss: 0.6654 - val_loss: 0.6651\n",
            "Epoch 598/1000\n",
            "2/2 [==============================] - 1s 336ms/step - loss: 0.6654 - val_loss: 0.6651\n",
            "Epoch 599/1000\n",
            "2/2 [==============================] - 1s 360ms/step - loss: 0.6654 - val_loss: 0.6651\n",
            "Epoch 600/1000\n",
            "2/2 [==============================] - 1s 366ms/step - loss: 0.6654 - val_loss: 0.6651\n",
            "Epoch 601/1000\n",
            "2/2 [==============================] - 1s 355ms/step - loss: 0.6654 - val_loss: 0.6651\n",
            "Epoch 602/1000\n",
            "2/2 [==============================] - 1s 362ms/step - loss: 0.6654 - val_loss: 0.6651\n",
            "Epoch 603/1000\n",
            "2/2 [==============================] - 1s 364ms/step - loss: 0.6654 - val_loss: 0.6651\n",
            "Epoch 604/1000\n",
            "2/2 [==============================] - 1s 345ms/step - loss: 0.6654 - val_loss: 0.6651\n",
            "Epoch 605/1000\n",
            "2/2 [==============================] - 1s 370ms/step - loss: 0.6654 - val_loss: 0.6651\n",
            "Epoch 606/1000\n",
            "2/2 [==============================] - 1s 355ms/step - loss: 0.6654 - val_loss: 0.6651\n",
            "Epoch 607/1000\n",
            "2/2 [==============================] - 1s 356ms/step - loss: 0.6654 - val_loss: 0.6651\n",
            "Epoch 608/1000\n",
            "2/2 [==============================] - 1s 347ms/step - loss: 0.6654 - val_loss: 0.6651\n",
            "Epoch 609/1000\n",
            "2/2 [==============================] - 1s 351ms/step - loss: 0.6654 - val_loss: 0.6651\n",
            "Epoch 610/1000\n",
            "2/2 [==============================] - 1s 375ms/step - loss: 0.6654 - val_loss: 0.6650\n",
            "Epoch 611/1000\n",
            "2/2 [==============================] - 1s 371ms/step - loss: 0.6654 - val_loss: 0.6650\n",
            "Epoch 612/1000\n",
            "2/2 [==============================] - 1s 349ms/step - loss: 0.6654 - val_loss: 0.6650\n",
            "Epoch 613/1000\n",
            "2/2 [==============================] - 1s 357ms/step - loss: 0.6653 - val_loss: 0.6650\n",
            "Epoch 614/1000\n",
            "2/2 [==============================] - 1s 381ms/step - loss: 0.6653 - val_loss: 0.6650\n",
            "Epoch 615/1000\n",
            "2/2 [==============================] - 1s 359ms/step - loss: 0.6653 - val_loss: 0.6650\n",
            "Epoch 616/1000\n",
            "2/2 [==============================] - 1s 356ms/step - loss: 0.6653 - val_loss: 0.6650\n",
            "Epoch 617/1000\n",
            "2/2 [==============================] - 1s 355ms/step - loss: 0.6653 - val_loss: 0.6650\n",
            "Epoch 618/1000\n",
            "2/2 [==============================] - 1s 370ms/step - loss: 0.6653 - val_loss: 0.6650\n",
            "Epoch 619/1000\n",
            "2/2 [==============================] - 1s 360ms/step - loss: 0.6653 - val_loss: 0.6650\n",
            "Epoch 620/1000\n",
            "2/2 [==============================] - 1s 353ms/step - loss: 0.6653 - val_loss: 0.6650\n",
            "Epoch 621/1000\n",
            "2/2 [==============================] - 1s 349ms/step - loss: 0.6653 - val_loss: 0.6650\n",
            "Epoch 622/1000\n",
            "2/2 [==============================] - 1s 358ms/step - loss: 0.6653 - val_loss: 0.6650\n",
            "Epoch 623/1000\n",
            "2/2 [==============================] - 1s 358ms/step - loss: 0.6653 - val_loss: 0.6650\n",
            "Epoch 624/1000\n",
            "2/2 [==============================] - 1s 371ms/step - loss: 0.6653 - val_loss: 0.6650\n",
            "Epoch 625/1000\n",
            "2/2 [==============================] - 1s 387ms/step - loss: 0.6653 - val_loss: 0.6650\n",
            "Epoch 626/1000\n",
            "2/2 [==============================] - 1s 384ms/step - loss: 0.6653 - val_loss: 0.6650\n",
            "Epoch 627/1000\n",
            "2/2 [==============================] - 1s 359ms/step - loss: 0.6653 - val_loss: 0.6650\n",
            "Epoch 628/1000\n",
            "2/2 [==============================] - 1s 350ms/step - loss: 0.6653 - val_loss: 0.6650\n",
            "Epoch 629/1000\n",
            "2/2 [==============================] - 1s 360ms/step - loss: 0.6653 - val_loss: 0.6650\n",
            "Epoch 630/1000\n",
            "2/2 [==============================] - 1s 352ms/step - loss: 0.6652 - val_loss: 0.6649\n",
            "Epoch 631/1000\n",
            "2/2 [==============================] - 1s 349ms/step - loss: 0.6652 - val_loss: 0.6649\n",
            "Epoch 632/1000\n",
            "2/2 [==============================] - 1s 352ms/step - loss: 0.6652 - val_loss: 0.6649\n",
            "Epoch 633/1000\n",
            "2/2 [==============================] - 1s 348ms/step - loss: 0.6652 - val_loss: 0.6649\n",
            "Epoch 634/1000\n",
            "2/2 [==============================] - 1s 353ms/step - loss: 0.6652 - val_loss: 0.6649\n",
            "Epoch 635/1000\n",
            "2/2 [==============================] - 1s 364ms/step - loss: 0.6652 - val_loss: 0.6649\n",
            "Epoch 636/1000\n",
            "2/2 [==============================] - 1s 339ms/step - loss: 0.6652 - val_loss: 0.6649\n",
            "Epoch 637/1000\n",
            "2/2 [==============================] - 1s 348ms/step - loss: 0.6652 - val_loss: 0.6649\n",
            "Epoch 638/1000\n",
            "2/2 [==============================] - 1s 356ms/step - loss: 0.6652 - val_loss: 0.6649\n",
            "Epoch 639/1000\n",
            "2/2 [==============================] - 1s 336ms/step - loss: 0.6652 - val_loss: 0.6649\n",
            "Epoch 640/1000\n",
            "2/2 [==============================] - 1s 365ms/step - loss: 0.6652 - val_loss: 0.6649\n",
            "Epoch 641/1000\n",
            "2/2 [==============================] - 1s 391ms/step - loss: 0.6652 - val_loss: 0.6649\n",
            "Epoch 642/1000\n",
            "2/2 [==============================] - 1s 366ms/step - loss: 0.6652 - val_loss: 0.6649\n",
            "Epoch 643/1000\n",
            "2/2 [==============================] - 1s 345ms/step - loss: 0.6652 - val_loss: 0.6649\n",
            "Epoch 644/1000\n",
            "2/2 [==============================] - 1s 343ms/step - loss: 0.6652 - val_loss: 0.6648\n",
            "Epoch 645/1000\n",
            "2/2 [==============================] - 1s 344ms/step - loss: 0.6652 - val_loss: 0.6648\n",
            "Epoch 646/1000\n",
            "2/2 [==============================] - 1s 346ms/step - loss: 0.6652 - val_loss: 0.6648\n",
            "Epoch 647/1000\n",
            "2/2 [==============================] - 1s 360ms/step - loss: 0.6651 - val_loss: 0.6648\n",
            "Epoch 648/1000\n",
            "2/2 [==============================] - 1s 363ms/step - loss: 0.6651 - val_loss: 0.6648\n",
            "Epoch 649/1000\n",
            "2/2 [==============================] - 1s 347ms/step - loss: 0.6651 - val_loss: 0.6648\n",
            "Epoch 650/1000\n",
            "2/2 [==============================] - 1s 351ms/step - loss: 0.6651 - val_loss: 0.6648\n",
            "Epoch 651/1000\n",
            "2/2 [==============================] - 1s 355ms/step - loss: 0.6651 - val_loss: 0.6648\n",
            "Epoch 652/1000\n",
            "2/2 [==============================] - 1s 334ms/step - loss: 0.6651 - val_loss: 0.6648\n",
            "Epoch 653/1000\n",
            "2/2 [==============================] - 1s 349ms/step - loss: 0.6651 - val_loss: 0.6648\n",
            "Epoch 654/1000\n",
            "2/2 [==============================] - 1s 361ms/step - loss: 0.6651 - val_loss: 0.6648\n",
            "Epoch 655/1000\n",
            "2/2 [==============================] - 1s 357ms/step - loss: 0.6651 - val_loss: 0.6648\n",
            "Epoch 656/1000\n",
            "2/2 [==============================] - 1s 346ms/step - loss: 0.6651 - val_loss: 0.6648\n",
            "Epoch 657/1000\n",
            "2/2 [==============================] - 1s 376ms/step - loss: 0.6651 - val_loss: 0.6648\n",
            "Epoch 658/1000\n",
            "2/2 [==============================] - 1s 393ms/step - loss: 0.6651 - val_loss: 0.6648\n",
            "Epoch 659/1000\n",
            "2/2 [==============================] - 1s 352ms/step - loss: 0.6651 - val_loss: 0.6648\n",
            "Epoch 660/1000\n",
            "2/2 [==============================] - 1s 356ms/step - loss: 0.6651 - val_loss: 0.6648\n",
            "Epoch 661/1000\n",
            "2/2 [==============================] - 1s 361ms/step - loss: 0.6651 - val_loss: 0.6647\n",
            "Epoch 662/1000\n",
            "2/2 [==============================] - 1s 349ms/step - loss: 0.6651 - val_loss: 0.6647\n",
            "Epoch 663/1000\n",
            "2/2 [==============================] - 1s 337ms/step - loss: 0.6650 - val_loss: 0.6647\n",
            "Epoch 664/1000\n",
            "2/2 [==============================] - 1s 349ms/step - loss: 0.6650 - val_loss: 0.6647\n",
            "Epoch 665/1000\n",
            "2/2 [==============================] - 1s 352ms/step - loss: 0.6650 - val_loss: 0.6647\n",
            "Epoch 666/1000\n",
            "2/2 [==============================] - 1s 364ms/step - loss: 0.6650 - val_loss: 0.6647\n",
            "Epoch 667/1000\n",
            "2/2 [==============================] - 1s 341ms/step - loss: 0.6650 - val_loss: 0.6647\n",
            "Epoch 668/1000\n",
            "2/2 [==============================] - 1s 351ms/step - loss: 0.6650 - val_loss: 0.6647\n",
            "Epoch 669/1000\n",
            "2/2 [==============================] - 1s 353ms/step - loss: 0.6650 - val_loss: 0.6647\n",
            "Epoch 670/1000\n",
            "2/2 [==============================] - 1s 334ms/step - loss: 0.6650 - val_loss: 0.6647\n",
            "Epoch 671/1000\n",
            "2/2 [==============================] - 1s 356ms/step - loss: 0.6650 - val_loss: 0.6647\n",
            "Epoch 672/1000\n",
            "2/2 [==============================] - 1s 372ms/step - loss: 0.6650 - val_loss: 0.6647\n",
            "Epoch 673/1000\n",
            "2/2 [==============================] - 1s 379ms/step - loss: 0.6650 - val_loss: 0.6647\n",
            "Epoch 674/1000\n",
            "2/2 [==============================] - 1s 377ms/step - loss: 0.6650 - val_loss: 0.6647\n",
            "Epoch 675/1000\n",
            "2/2 [==============================] - 1s 346ms/step - loss: 0.6650 - val_loss: 0.6646\n",
            "Epoch 676/1000\n",
            "2/2 [==============================] - 1s 351ms/step - loss: 0.6650 - val_loss: 0.6646\n",
            "Epoch 677/1000\n",
            "2/2 [==============================] - 1s 354ms/step - loss: 0.6650 - val_loss: 0.6646\n",
            "Epoch 678/1000\n",
            "2/2 [==============================] - 1s 349ms/step - loss: 0.6649 - val_loss: 0.6646\n",
            "Epoch 679/1000\n",
            "2/2 [==============================] - 1s 358ms/step - loss: 0.6649 - val_loss: 0.6646\n",
            "Epoch 680/1000\n",
            "2/2 [==============================] - 1s 354ms/step - loss: 0.6649 - val_loss: 0.6646\n",
            "Epoch 681/1000\n",
            "2/2 [==============================] - 1s 338ms/step - loss: 0.6649 - val_loss: 0.6646\n",
            "Epoch 682/1000\n",
            "2/2 [==============================] - 1s 368ms/step - loss: 0.6649 - val_loss: 0.6646\n",
            "Epoch 683/1000\n",
            "2/2 [==============================] - 1s 341ms/step - loss: 0.6649 - val_loss: 0.6646\n",
            "Epoch 684/1000\n",
            "2/2 [==============================] - 1s 340ms/step - loss: 0.6649 - val_loss: 0.6646\n",
            "Epoch 685/1000\n",
            "2/2 [==============================] - 1s 361ms/step - loss: 0.6649 - val_loss: 0.6646\n",
            "Epoch 686/1000\n",
            "2/2 [==============================] - 1s 340ms/step - loss: 0.6649 - val_loss: 0.6646\n",
            "Epoch 687/1000\n",
            "2/2 [==============================] - 1s 353ms/step - loss: 0.6649 - val_loss: 0.6646\n",
            "Epoch 688/1000\n",
            "2/2 [==============================] - 1s 340ms/step - loss: 0.6649 - val_loss: 0.6646\n",
            "Epoch 689/1000\n",
            "2/2 [==============================] - 1s 369ms/step - loss: 0.6649 - val_loss: 0.6645\n",
            "Epoch 690/1000\n",
            "2/2 [==============================] - 1s 369ms/step - loss: 0.6649 - val_loss: 0.6645\n",
            "Epoch 691/1000\n",
            "2/2 [==============================] - 1s 347ms/step - loss: 0.6649 - val_loss: 0.6645\n",
            "Epoch 692/1000\n",
            "2/2 [==============================] - 1s 348ms/step - loss: 0.6649 - val_loss: 0.6645\n",
            "Epoch 693/1000\n",
            "2/2 [==============================] - 1s 342ms/step - loss: 0.6648 - val_loss: 0.6645\n",
            "Epoch 694/1000\n",
            "2/2 [==============================] - 1s 351ms/step - loss: 0.6648 - val_loss: 0.6645\n",
            "Epoch 695/1000\n",
            "2/2 [==============================] - 1s 376ms/step - loss: 0.6648 - val_loss: 0.6645\n",
            "Epoch 696/1000\n",
            "2/2 [==============================] - 1s 343ms/step - loss: 0.6648 - val_loss: 0.6645\n",
            "Epoch 697/1000\n",
            "2/2 [==============================] - 1s 342ms/step - loss: 0.6648 - val_loss: 0.6645\n",
            "Epoch 698/1000\n",
            "2/2 [==============================] - 1s 361ms/step - loss: 0.6648 - val_loss: 0.6645\n",
            "Epoch 699/1000\n",
            "2/2 [==============================] - 1s 352ms/step - loss: 0.6648 - val_loss: 0.6645\n",
            "Epoch 700/1000\n",
            "2/2 [==============================] - 1s 355ms/step - loss: 0.6648 - val_loss: 0.6645\n",
            "Epoch 701/1000\n",
            "2/2 [==============================] - 1s 349ms/step - loss: 0.6648 - val_loss: 0.6645\n",
            "Epoch 702/1000\n",
            "2/2 [==============================] - 1s 342ms/step - loss: 0.6648 - val_loss: 0.6645\n",
            "Epoch 703/1000\n",
            "2/2 [==============================] - 1s 342ms/step - loss: 0.6648 - val_loss: 0.6645\n",
            "Epoch 704/1000\n",
            "2/2 [==============================] - 1s 349ms/step - loss: 0.6648 - val_loss: 0.6644\n",
            "Epoch 705/1000\n",
            "2/2 [==============================] - 1s 369ms/step - loss: 0.6648 - val_loss: 0.6644\n",
            "Epoch 706/1000\n",
            "2/2 [==============================] - 1s 367ms/step - loss: 0.6648 - val_loss: 0.6644\n",
            "Epoch 707/1000\n",
            "2/2 [==============================] - 1s 341ms/step - loss: 0.6648 - val_loss: 0.6644\n",
            "Epoch 708/1000\n",
            "2/2 [==============================] - 1s 349ms/step - loss: 0.6647 - val_loss: 0.6644\n",
            "Epoch 709/1000\n",
            "2/2 [==============================] - 1s 342ms/step - loss: 0.6647 - val_loss: 0.6644\n",
            "Epoch 710/1000\n",
            "2/2 [==============================] - 1s 339ms/step - loss: 0.6647 - val_loss: 0.6644\n",
            "Epoch 711/1000\n",
            "2/2 [==============================] - 1s 351ms/step - loss: 0.6647 - val_loss: 0.6644\n",
            "Epoch 712/1000\n",
            "2/2 [==============================] - 1s 351ms/step - loss: 0.6647 - val_loss: 0.6644\n",
            "Epoch 713/1000\n",
            "2/2 [==============================] - 1s 364ms/step - loss: 0.6647 - val_loss: 0.6644\n",
            "Epoch 714/1000\n",
            "2/2 [==============================] - 1s 340ms/step - loss: 0.6647 - val_loss: 0.6644\n",
            "Epoch 715/1000\n",
            "2/2 [==============================] - 1s 359ms/step - loss: 0.6647 - val_loss: 0.6644\n",
            "Epoch 716/1000\n",
            "2/2 [==============================] - 1s 346ms/step - loss: 0.6647 - val_loss: 0.6644\n",
            "Epoch 717/1000\n",
            "2/2 [==============================] - 1s 336ms/step - loss: 0.6647 - val_loss: 0.6644\n",
            "Epoch 718/1000\n",
            "2/2 [==============================] - 1s 367ms/step - loss: 0.6647 - val_loss: 0.6643\n",
            "Epoch 719/1000\n",
            "2/2 [==============================] - 1s 339ms/step - loss: 0.6647 - val_loss: 0.6643\n",
            "Epoch 720/1000\n",
            "2/2 [==============================] - 1s 351ms/step - loss: 0.6647 - val_loss: 0.6643\n",
            "Epoch 721/1000\n",
            "2/2 [==============================] - 1s 367ms/step - loss: 0.6647 - val_loss: 0.6643\n",
            "Epoch 722/1000\n",
            "2/2 [==============================] - 1s 360ms/step - loss: 0.6647 - val_loss: 0.6643\n",
            "Epoch 723/1000\n",
            "2/2 [==============================] - 1s 362ms/step - loss: 0.6646 - val_loss: 0.6643\n",
            "Epoch 724/1000\n",
            "2/2 [==============================] - 1s 361ms/step - loss: 0.6646 - val_loss: 0.6643\n",
            "Epoch 725/1000\n",
            "2/2 [==============================] - 1s 345ms/step - loss: 0.6646 - val_loss: 0.6643\n",
            "Epoch 726/1000\n",
            "2/2 [==============================] - 1s 359ms/step - loss: 0.6646 - val_loss: 0.6643\n",
            "Epoch 727/1000\n",
            "2/2 [==============================] - 1s 335ms/step - loss: 0.6646 - val_loss: 0.6643\n",
            "Epoch 728/1000\n",
            "2/2 [==============================] - 1s 349ms/step - loss: 0.6646 - val_loss: 0.6643\n",
            "Epoch 729/1000\n",
            "2/2 [==============================] - 1s 344ms/step - loss: 0.6646 - val_loss: 0.6643\n",
            "Epoch 730/1000\n",
            "2/2 [==============================] - 1s 341ms/step - loss: 0.6646 - val_loss: 0.6643\n",
            "Epoch 731/1000\n",
            "2/2 [==============================] - 1s 338ms/step - loss: 0.6646 - val_loss: 0.6643\n",
            "Epoch 732/1000\n",
            "2/2 [==============================] - 1s 354ms/step - loss: 0.6646 - val_loss: 0.6643\n",
            "Epoch 733/1000\n",
            "2/2 [==============================] - 1s 357ms/step - loss: 0.6646 - val_loss: 0.6642\n",
            "Epoch 734/1000\n",
            "2/2 [==============================] - 1s 337ms/step - loss: 0.6646 - val_loss: 0.6642\n",
            "Epoch 735/1000\n",
            "2/2 [==============================] - 1s 343ms/step - loss: 0.6646 - val_loss: 0.6642\n",
            "Epoch 736/1000\n",
            "2/2 [==============================] - 1s 346ms/step - loss: 0.6646 - val_loss: 0.6642\n",
            "Epoch 737/1000\n",
            "2/2 [==============================] - 1s 395ms/step - loss: 0.6646 - val_loss: 0.6642\n",
            "Epoch 738/1000\n",
            "2/2 [==============================] - 1s 390ms/step - loss: 0.6645 - val_loss: 0.6642\n",
            "Epoch 739/1000\n",
            "2/2 [==============================] - 1s 364ms/step - loss: 0.6645 - val_loss: 0.6642\n",
            "Epoch 740/1000\n",
            "2/2 [==============================] - 1s 357ms/step - loss: 0.6645 - val_loss: 0.6642\n",
            "Epoch 741/1000\n",
            "2/2 [==============================] - 1s 390ms/step - loss: 0.6645 - val_loss: 0.6642\n",
            "Epoch 742/1000\n",
            "2/2 [==============================] - 1s 334ms/step - loss: 0.6645 - val_loss: 0.6642\n",
            "Epoch 743/1000\n",
            "2/2 [==============================] - 1s 352ms/step - loss: 0.6645 - val_loss: 0.6642\n",
            "Epoch 744/1000\n",
            "2/2 [==============================] - 1s 361ms/step - loss: 0.6645 - val_loss: 0.6642\n",
            "Epoch 745/1000\n",
            "2/2 [==============================] - 1s 359ms/step - loss: 0.6645 - val_loss: 0.6642\n",
            "Epoch 746/1000\n",
            "2/2 [==============================] - 1s 344ms/step - loss: 0.6645 - val_loss: 0.6642\n",
            "Epoch 747/1000\n",
            "2/2 [==============================] - 1s 341ms/step - loss: 0.6645 - val_loss: 0.6642\n",
            "Epoch 748/1000\n",
            "2/2 [==============================] - 1s 348ms/step - loss: 0.6645 - val_loss: 0.6642\n",
            "Epoch 749/1000\n",
            "2/2 [==============================] - 1s 354ms/step - loss: 0.6645 - val_loss: 0.6642\n",
            "Epoch 750/1000\n",
            "2/2 [==============================] - 1s 361ms/step - loss: 0.6645 - val_loss: 0.6642\n",
            "Epoch 751/1000\n",
            "2/2 [==============================] - 1s 342ms/step - loss: 0.6645 - val_loss: 0.6641\n",
            "Epoch 752/1000\n",
            "2/2 [==============================] - 1s 369ms/step - loss: 0.6645 - val_loss: 0.6641\n",
            "Epoch 753/1000\n",
            "2/2 [==============================] - 1s 362ms/step - loss: 0.6645 - val_loss: 0.6641\n",
            "Epoch 754/1000\n",
            "2/2 [==============================] - 1s 363ms/step - loss: 0.6645 - val_loss: 0.6641\n",
            "Epoch 755/1000\n",
            "2/2 [==============================] - 1s 364ms/step - loss: 0.6644 - val_loss: 0.6641\n",
            "Epoch 756/1000\n",
            "2/2 [==============================] - 1s 349ms/step - loss: 0.6644 - val_loss: 0.6641\n",
            "Epoch 757/1000\n",
            "2/2 [==============================] - 1s 339ms/step - loss: 0.6644 - val_loss: 0.6641\n",
            "Epoch 758/1000\n",
            "2/2 [==============================] - 1s 347ms/step - loss: 0.6644 - val_loss: 0.6641\n",
            "Epoch 759/1000\n",
            "2/2 [==============================] - 1s 364ms/step - loss: 0.6644 - val_loss: 0.6641\n",
            "Epoch 760/1000\n",
            "2/2 [==============================] - 1s 357ms/step - loss: 0.6644 - val_loss: 0.6641\n",
            "Epoch 761/1000\n",
            "2/2 [==============================] - 1s 349ms/step - loss: 0.6644 - val_loss: 0.6641\n",
            "Epoch 762/1000\n",
            "2/2 [==============================] - 1s 363ms/step - loss: 0.6644 - val_loss: 0.6641\n",
            "Epoch 763/1000\n",
            "2/2 [==============================] - 1s 344ms/step - loss: 0.6644 - val_loss: 0.6641\n",
            "Epoch 764/1000\n",
            "2/2 [==============================] - 1s 355ms/step - loss: 0.6644 - val_loss: 0.6641\n",
            "Epoch 765/1000\n",
            "2/2 [==============================] - 1s 353ms/step - loss: 0.6644 - val_loss: 0.6641\n",
            "Epoch 766/1000\n",
            "2/2 [==============================] - 1s 378ms/step - loss: 0.6644 - val_loss: 0.6641\n",
            "Epoch 767/1000\n",
            "2/2 [==============================] - 1s 357ms/step - loss: 0.6644 - val_loss: 0.6641\n",
            "Epoch 768/1000\n",
            "2/2 [==============================] - 1s 381ms/step - loss: 0.6644 - val_loss: 0.6640\n",
            "Epoch 769/1000\n",
            "2/2 [==============================] - 1s 396ms/step - loss: 0.6644 - val_loss: 0.6640\n",
            "Epoch 770/1000\n",
            "2/2 [==============================] - 1s 365ms/step - loss: 0.6644 - val_loss: 0.6640\n",
            "Epoch 771/1000\n",
            "2/2 [==============================] - 1s 358ms/step - loss: 0.6644 - val_loss: 0.6640\n",
            "Epoch 772/1000\n",
            "2/2 [==============================] - 1s 378ms/step - loss: 0.6644 - val_loss: 0.6640\n",
            "Epoch 773/1000\n",
            "2/2 [==============================] - 1s 336ms/step - loss: 0.6643 - val_loss: 0.6640\n",
            "Epoch 774/1000\n",
            "2/2 [==============================] - 1s 337ms/step - loss: 0.6643 - val_loss: 0.6640\n",
            "Epoch 775/1000\n",
            "2/2 [==============================] - 1s 343ms/step - loss: 0.6643 - val_loss: 0.6640\n",
            "Epoch 776/1000\n",
            "2/2 [==============================] - 1s 371ms/step - loss: 0.6643 - val_loss: 0.6640\n",
            "Epoch 777/1000\n",
            "2/2 [==============================] - 1s 347ms/step - loss: 0.6643 - val_loss: 0.6640\n",
            "Epoch 778/1000\n",
            "2/2 [==============================] - 1s 352ms/step - loss: 0.6643 - val_loss: 0.6640\n",
            "Epoch 779/1000\n",
            "2/2 [==============================] - 1s 348ms/step - loss: 0.6643 - val_loss: 0.6640\n",
            "Epoch 780/1000\n",
            "2/2 [==============================] - 1s 348ms/step - loss: 0.6643 - val_loss: 0.6640\n",
            "Epoch 781/1000\n",
            "2/2 [==============================] - 1s 358ms/step - loss: 0.6643 - val_loss: 0.6640\n",
            "Epoch 782/1000\n",
            "2/2 [==============================] - 1s 357ms/step - loss: 0.6643 - val_loss: 0.6640\n",
            "Epoch 783/1000\n",
            "2/2 [==============================] - 1s 362ms/step - loss: 0.6643 - val_loss: 0.6640\n",
            "Epoch 784/1000\n",
            "2/2 [==============================] - 1s 375ms/step - loss: 0.6643 - val_loss: 0.6640\n",
            "Epoch 785/1000\n",
            "2/2 [==============================] - 1s 380ms/step - loss: 0.6643 - val_loss: 0.6640\n",
            "Epoch 786/1000\n",
            "2/2 [==============================] - 1s 343ms/step - loss: 0.6643 - val_loss: 0.6640\n",
            "Epoch 787/1000\n",
            "2/2 [==============================] - 1s 351ms/step - loss: 0.6643 - val_loss: 0.6640\n",
            "Epoch 788/1000\n",
            "2/2 [==============================] - 1s 354ms/step - loss: 0.6643 - val_loss: 0.6640\n",
            "Epoch 789/1000\n",
            "2/2 [==============================] - 1s 356ms/step - loss: 0.6643 - val_loss: 0.6640\n",
            "Epoch 790/1000\n",
            "2/2 [==============================] - 1s 350ms/step - loss: 0.6643 - val_loss: 0.6640\n",
            "Epoch 791/1000\n",
            "2/2 [==============================] - 1s 361ms/step - loss: 0.6643 - val_loss: 0.6640\n",
            "Epoch 792/1000\n",
            "2/2 [==============================] - 1s 347ms/step - loss: 0.6643 - val_loss: 0.6640\n",
            "Epoch 793/1000\n",
            "2/2 [==============================] - 1s 367ms/step - loss: 0.6643 - val_loss: 0.6640\n",
            "Epoch 794/1000\n",
            "2/2 [==============================] - 1s 351ms/step - loss: 0.6643 - val_loss: 0.6639\n",
            "Epoch 795/1000\n",
            "2/2 [==============================] - 1s 345ms/step - loss: 0.6642 - val_loss: 0.6639\n",
            "Epoch 796/1000\n",
            "2/2 [==============================] - 1s 348ms/step - loss: 0.6642 - val_loss: 0.6639\n",
            "Epoch 797/1000\n",
            "2/2 [==============================] - 1s 344ms/step - loss: 0.6642 - val_loss: 0.6639\n",
            "Epoch 798/1000\n",
            "2/2 [==============================] - 1s 352ms/step - loss: 0.6642 - val_loss: 0.6639\n",
            "Epoch 799/1000\n",
            "2/2 [==============================] - 1s 336ms/step - loss: 0.6642 - val_loss: 0.6639\n",
            "Epoch 800/1000\n",
            "2/2 [==============================] - 1s 355ms/step - loss: 0.6642 - val_loss: 0.6639\n",
            "Epoch 801/1000\n",
            "2/2 [==============================] - 1s 365ms/step - loss: 0.6642 - val_loss: 0.6639\n",
            "Epoch 802/1000\n",
            "2/2 [==============================] - 1s 353ms/step - loss: 0.6642 - val_loss: 0.6639\n",
            "Epoch 803/1000\n",
            "2/2 [==============================] - 1s 360ms/step - loss: 0.6642 - val_loss: 0.6639\n",
            "Epoch 804/1000\n",
            "2/2 [==============================] - 1s 356ms/step - loss: 0.6642 - val_loss: 0.6639\n",
            "Epoch 805/1000\n",
            "2/2 [==============================] - 1s 355ms/step - loss: 0.6642 - val_loss: 0.6639\n",
            "Epoch 806/1000\n",
            "2/2 [==============================] - 1s 337ms/step - loss: 0.6642 - val_loss: 0.6639\n",
            "Epoch 807/1000\n",
            "2/2 [==============================] - 1s 348ms/step - loss: 0.6642 - val_loss: 0.6639\n",
            "Epoch 808/1000\n",
            "2/2 [==============================] - 1s 343ms/step - loss: 0.6642 - val_loss: 0.6639\n",
            "Epoch 809/1000\n",
            "2/2 [==============================] - 1s 353ms/step - loss: 0.6642 - val_loss: 0.6639\n",
            "Epoch 810/1000\n",
            "2/2 [==============================] - 1s 357ms/step - loss: 0.6642 - val_loss: 0.6639\n",
            "Epoch 811/1000\n",
            "2/2 [==============================] - 1s 360ms/step - loss: 0.6642 - val_loss: 0.6639\n",
            "Epoch 812/1000\n",
            "2/2 [==============================] - 1s 350ms/step - loss: 0.6642 - val_loss: 0.6639\n",
            "Epoch 813/1000\n",
            "2/2 [==============================] - 1s 339ms/step - loss: 0.6642 - val_loss: 0.6639\n",
            "Epoch 814/1000\n",
            "2/2 [==============================] - 1s 348ms/step - loss: 0.6642 - val_loss: 0.6639\n",
            "Epoch 815/1000\n",
            "2/2 [==============================] - 1s 346ms/step - loss: 0.6642 - val_loss: 0.6639\n",
            "Epoch 816/1000\n",
            "2/2 [==============================] - 1s 371ms/step - loss: 0.6642 - val_loss: 0.6639\n",
            "Epoch 817/1000\n",
            "2/2 [==============================] - 1s 388ms/step - loss: 0.6642 - val_loss: 0.6639\n",
            "Epoch 818/1000\n",
            "2/2 [==============================] - 1s 360ms/step - loss: 0.6642 - val_loss: 0.6639\n",
            "Epoch 819/1000\n",
            "2/2 [==============================] - 1s 338ms/step - loss: 0.6642 - val_loss: 0.6639\n",
            "Epoch 820/1000\n",
            "2/2 [==============================] - 1s 343ms/step - loss: 0.6642 - val_loss: 0.6639\n",
            "Epoch 821/1000\n",
            "2/2 [==============================] - 1s 349ms/step - loss: 0.6642 - val_loss: 0.6639\n",
            "Epoch 822/1000\n",
            "2/2 [==============================] - 1s 345ms/step - loss: 0.6642 - val_loss: 0.6638\n",
            "Epoch 823/1000\n",
            "2/2 [==============================] - 1s 354ms/step - loss: 0.6641 - val_loss: 0.6638\n",
            "Epoch 824/1000\n",
            "2/2 [==============================] - 1s 339ms/step - loss: 0.6641 - val_loss: 0.6638\n",
            "Epoch 825/1000\n",
            "2/2 [==============================] - 1s 349ms/step - loss: 0.6641 - val_loss: 0.6638\n",
            "Epoch 826/1000\n",
            "2/2 [==============================] - 1s 349ms/step - loss: 0.6641 - val_loss: 0.6638\n",
            "Epoch 827/1000\n",
            "2/2 [==============================] - 1s 349ms/step - loss: 0.6641 - val_loss: 0.6638\n",
            "Epoch 828/1000\n",
            "2/2 [==============================] - 1s 375ms/step - loss: 0.6641 - val_loss: 0.6638\n",
            "Epoch 829/1000\n",
            "2/2 [==============================] - 1s 336ms/step - loss: 0.6641 - val_loss: 0.6638\n",
            "Epoch 830/1000\n",
            "2/2 [==============================] - 1s 357ms/step - loss: 0.6641 - val_loss: 0.6638\n",
            "Epoch 831/1000\n",
            "2/2 [==============================] - 1s 344ms/step - loss: 0.6641 - val_loss: 0.6638\n",
            "Epoch 832/1000\n",
            "2/2 [==============================] - 1s 368ms/step - loss: 0.6641 - val_loss: 0.6638\n",
            "Epoch 833/1000\n",
            "2/2 [==============================] - 1s 394ms/step - loss: 0.6641 - val_loss: 0.6638\n",
            "Epoch 834/1000\n",
            "2/2 [==============================] - 1s 349ms/step - loss: 0.6641 - val_loss: 0.6638\n",
            "Epoch 835/1000\n",
            "2/2 [==============================] - 1s 352ms/step - loss: 0.6641 - val_loss: 0.6638\n",
            "Epoch 836/1000\n",
            "2/2 [==============================] - 1s 346ms/step - loss: 0.6641 - val_loss: 0.6638\n",
            "Epoch 837/1000\n",
            "2/2 [==============================] - 1s 335ms/step - loss: 0.6641 - val_loss: 0.6638\n",
            "Epoch 838/1000\n",
            "2/2 [==============================] - 1s 347ms/step - loss: 0.6641 - val_loss: 0.6638\n",
            "Epoch 839/1000\n",
            "2/2 [==============================] - 1s 355ms/step - loss: 0.6641 - val_loss: 0.6638\n",
            "Epoch 840/1000\n",
            "2/2 [==============================] - 1s 347ms/step - loss: 0.6641 - val_loss: 0.6638\n",
            "Epoch 841/1000\n",
            "2/2 [==============================] - 1s 343ms/step - loss: 0.6641 - val_loss: 0.6638\n",
            "Epoch 842/1000\n",
            "2/2 [==============================] - 1s 351ms/step - loss: 0.6641 - val_loss: 0.6638\n",
            "Epoch 843/1000\n",
            "2/2 [==============================] - 1s 343ms/step - loss: 0.6641 - val_loss: 0.6638\n",
            "Epoch 844/1000\n",
            "2/2 [==============================] - 1s 349ms/step - loss: 0.6641 - val_loss: 0.6638\n",
            "Epoch 845/1000\n",
            "2/2 [==============================] - 1s 357ms/step - loss: 0.6641 - val_loss: 0.6638\n",
            "Epoch 846/1000\n",
            "2/2 [==============================] - 1s 346ms/step - loss: 0.6641 - val_loss: 0.6638\n",
            "Epoch 847/1000\n",
            "2/2 [==============================] - 1s 371ms/step - loss: 0.6641 - val_loss: 0.6638\n",
            "Epoch 848/1000\n",
            "2/2 [==============================] - 1s 375ms/step - loss: 0.6641 - val_loss: 0.6638\n",
            "Epoch 849/1000\n",
            "2/2 [==============================] - 1s 394ms/step - loss: 0.6641 - val_loss: 0.6638\n",
            "Epoch 850/1000\n",
            "2/2 [==============================] - 1s 350ms/step - loss: 0.6641 - val_loss: 0.6638\n",
            "Epoch 851/1000\n",
            "2/2 [==============================] - 1s 344ms/step - loss: 0.6641 - val_loss: 0.6638\n",
            "Epoch 852/1000\n",
            "2/2 [==============================] - 1s 360ms/step - loss: 0.6641 - val_loss: 0.6638\n",
            "Epoch 853/1000\n",
            "2/2 [==============================] - 1s 349ms/step - loss: 0.6641 - val_loss: 0.6638\n",
            "Epoch 854/1000\n",
            "2/2 [==============================] - 1s 349ms/step - loss: 0.6641 - val_loss: 0.6638\n",
            "Epoch 855/1000\n",
            "2/2 [==============================] - 1s 343ms/step - loss: 0.6641 - val_loss: 0.6638\n",
            "Epoch 856/1000\n",
            "2/2 [==============================] - 1s 334ms/step - loss: 0.6641 - val_loss: 0.6638\n",
            "Epoch 857/1000\n",
            "2/2 [==============================] - 1s 354ms/step - loss: 0.6641 - val_loss: 0.6638\n",
            "Epoch 858/1000\n",
            "2/2 [==============================] - 1s 348ms/step - loss: 0.6641 - val_loss: 0.6638\n",
            "Epoch 859/1000\n",
            "2/2 [==============================] - 1s 344ms/step - loss: 0.6641 - val_loss: 0.6638\n",
            "Epoch 860/1000\n",
            "2/2 [==============================] - 1s 355ms/step - loss: 0.6641 - val_loss: 0.6638\n",
            "Epoch 861/1000\n",
            "2/2 [==============================] - 1s 361ms/step - loss: 0.6641 - val_loss: 0.6638\n",
            "Epoch 862/1000\n",
            "2/2 [==============================] - 1s 349ms/step - loss: 0.6641 - val_loss: 0.6638\n",
            "Epoch 863/1000\n",
            "2/2 [==============================] - 1s 367ms/step - loss: 0.6641 - val_loss: 0.6638\n",
            "Epoch 864/1000\n",
            "2/2 [==============================] - 1s 374ms/step - loss: 0.6641 - val_loss: 0.6638\n",
            "Epoch 865/1000\n",
            "2/2 [==============================] - 1s 381ms/step - loss: 0.6640 - val_loss: 0.6638\n",
            "Epoch 866/1000\n",
            "2/2 [==============================] - 1s 363ms/step - loss: 0.6640 - val_loss: 0.6638\n",
            "Epoch 867/1000\n",
            "2/2 [==============================] - 1s 336ms/step - loss: 0.6640 - val_loss: 0.6638\n",
            "Epoch 868/1000\n",
            "2/2 [==============================] - 1s 367ms/step - loss: 0.6640 - val_loss: 0.6638\n",
            "Epoch 869/1000\n",
            "2/2 [==============================] - 1s 348ms/step - loss: 0.6640 - val_loss: 0.6638\n",
            "Epoch 870/1000\n",
            "2/2 [==============================] - 1s 356ms/step - loss: 0.6640 - val_loss: 0.6638\n",
            "Epoch 871/1000\n",
            "2/2 [==============================] - 1s 346ms/step - loss: 0.6640 - val_loss: 0.6638\n",
            "Epoch 872/1000\n",
            "2/2 [==============================] - 1s 336ms/step - loss: 0.6640 - val_loss: 0.6638\n",
            "Epoch 873/1000\n",
            "2/2 [==============================] - 1s 341ms/step - loss: 0.6640 - val_loss: 0.6638\n",
            "Epoch 874/1000\n",
            "2/2 [==============================] - 1s 357ms/step - loss: 0.6640 - val_loss: 0.6638\n",
            "Epoch 875/1000\n",
            "2/2 [==============================] - 1s 351ms/step - loss: 0.6640 - val_loss: 0.6638\n",
            "Epoch 876/1000\n",
            "2/2 [==============================] - 1s 371ms/step - loss: 0.6640 - val_loss: 0.6638\n",
            "Epoch 877/1000\n",
            "2/2 [==============================] - 1s 361ms/step - loss: 0.6640 - val_loss: 0.6637\n",
            "Epoch 878/1000\n",
            "2/2 [==============================] - 1s 351ms/step - loss: 0.6640 - val_loss: 0.6637\n",
            "Epoch 879/1000\n",
            "2/2 [==============================] - 1s 377ms/step - loss: 0.6640 - val_loss: 0.6637\n",
            "Epoch 880/1000\n",
            "2/2 [==============================] - 1s 377ms/step - loss: 0.6640 - val_loss: 0.6637\n",
            "Epoch 881/1000\n",
            "2/2 [==============================] - 1s 360ms/step - loss: 0.6640 - val_loss: 0.6637\n",
            "Epoch 882/1000\n",
            "2/2 [==============================] - 1s 339ms/step - loss: 0.6640 - val_loss: 0.6637\n",
            "Epoch 883/1000\n",
            "2/2 [==============================] - 1s 342ms/step - loss: 0.6640 - val_loss: 0.6637\n",
            "Epoch 884/1000\n",
            "2/2 [==============================] - 1s 351ms/step - loss: 0.6640 - val_loss: 0.6637\n",
            "Epoch 885/1000\n",
            "2/2 [==============================] - 1s 337ms/step - loss: 0.6640 - val_loss: 0.6637\n",
            "Epoch 886/1000\n",
            "2/2 [==============================] - 1s 371ms/step - loss: 0.6640 - val_loss: 0.6637\n",
            "Epoch 887/1000\n",
            "2/2 [==============================] - 1s 342ms/step - loss: 0.6640 - val_loss: 0.6637\n",
            "Epoch 888/1000\n",
            "2/2 [==============================] - 1s 342ms/step - loss: 0.6640 - val_loss: 0.6637\n",
            "Epoch 889/1000\n",
            "2/2 [==============================] - 1s 345ms/step - loss: 0.6640 - val_loss: 0.6637\n",
            "Epoch 890/1000\n",
            "2/2 [==============================] - 1s 378ms/step - loss: 0.6640 - val_loss: 0.6637\n",
            "Epoch 891/1000\n",
            "2/2 [==============================] - 1s 362ms/step - loss: 0.6640 - val_loss: 0.6637\n",
            "Epoch 892/1000\n",
            "2/2 [==============================] - 1s 362ms/step - loss: 0.6640 - val_loss: 0.6637\n",
            "Epoch 893/1000\n",
            "2/2 [==============================] - 1s 346ms/step - loss: 0.6640 - val_loss: 0.6637\n",
            "Epoch 894/1000\n",
            "2/2 [==============================] - 1s 379ms/step - loss: 0.6640 - val_loss: 0.6637\n",
            "Epoch 895/1000\n",
            "2/2 [==============================] - 1s 384ms/step - loss: 0.6640 - val_loss: 0.6637\n",
            "Epoch 896/1000\n",
            "2/2 [==============================] - 1s 370ms/step - loss: 0.6640 - val_loss: 0.6637\n",
            "Epoch 897/1000\n",
            "2/2 [==============================] - 1s 360ms/step - loss: 0.6640 - val_loss: 0.6637\n",
            "Epoch 898/1000\n",
            "2/2 [==============================] - 1s 350ms/step - loss: 0.6640 - val_loss: 0.6637\n",
            "Epoch 899/1000\n",
            "2/2 [==============================] - 1s 339ms/step - loss: 0.6640 - val_loss: 0.6637\n",
            "Epoch 900/1000\n",
            "2/2 [==============================] - 1s 361ms/step - loss: 0.6640 - val_loss: 0.6637\n",
            "Epoch 901/1000\n",
            "2/2 [==============================] - 1s 348ms/step - loss: 0.6640 - val_loss: 0.6637\n",
            "Epoch 902/1000\n",
            "2/2 [==============================] - 1s 346ms/step - loss: 0.6640 - val_loss: 0.6637\n",
            "Epoch 903/1000\n",
            "2/2 [==============================] - 1s 349ms/step - loss: 0.6640 - val_loss: 0.6637\n",
            "Epoch 904/1000\n",
            "2/2 [==============================] - 1s 358ms/step - loss: 0.6640 - val_loss: 0.6637\n",
            "Epoch 905/1000\n",
            "2/2 [==============================] - 1s 371ms/step - loss: 0.6640 - val_loss: 0.6637\n",
            "Epoch 906/1000\n",
            "2/2 [==============================] - 1s 349ms/step - loss: 0.6640 - val_loss: 0.6637\n",
            "Epoch 907/1000\n",
            "2/2 [==============================] - 1s 357ms/step - loss: 0.6640 - val_loss: 0.6637\n",
            "Epoch 908/1000\n",
            "2/2 [==============================] - 1s 361ms/step - loss: 0.6640 - val_loss: 0.6637\n",
            "Epoch 909/1000\n",
            "2/2 [==============================] - 1s 345ms/step - loss: 0.6640 - val_loss: 0.6637\n",
            "Epoch 910/1000\n",
            "2/2 [==============================] - 1s 342ms/step - loss: 0.6640 - val_loss: 0.6637\n",
            "Epoch 911/1000\n",
            "2/2 [==============================] - 1s 366ms/step - loss: 0.6640 - val_loss: 0.6637\n",
            "Epoch 912/1000\n",
            "2/2 [==============================] - 1s 379ms/step - loss: 0.6640 - val_loss: 0.6637\n",
            "Epoch 913/1000\n",
            "2/2 [==============================] - 1s 343ms/step - loss: 0.6640 - val_loss: 0.6637\n",
            "Epoch 914/1000\n",
            "2/2 [==============================] - 1s 355ms/step - loss: 0.6640 - val_loss: 0.6637\n",
            "Epoch 915/1000\n",
            "2/2 [==============================] - 1s 346ms/step - loss: 0.6640 - val_loss: 0.6637\n",
            "Epoch 916/1000\n",
            "2/2 [==============================] - 1s 362ms/step - loss: 0.6640 - val_loss: 0.6637\n",
            "Epoch 917/1000\n",
            "2/2 [==============================] - 1s 350ms/step - loss: 0.6640 - val_loss: 0.6637\n",
            "Epoch 918/1000\n",
            "2/2 [==============================] - 1s 355ms/step - loss: 0.6640 - val_loss: 0.6637\n",
            "Epoch 919/1000\n",
            "2/2 [==============================] - 1s 365ms/step - loss: 0.6640 - val_loss: 0.6637\n",
            "Epoch 920/1000\n",
            "2/2 [==============================] - 1s 349ms/step - loss: 0.6640 - val_loss: 0.6637\n",
            "Epoch 921/1000\n",
            "2/2 [==============================] - 1s 374ms/step - loss: 0.6640 - val_loss: 0.6637\n",
            "Epoch 922/1000\n",
            "2/2 [==============================] - 1s 377ms/step - loss: 0.6640 - val_loss: 0.6637\n",
            "Epoch 923/1000\n",
            "2/2 [==============================] - 1s 382ms/step - loss: 0.6640 - val_loss: 0.6637\n",
            "Epoch 924/1000\n",
            "2/2 [==============================] - 1s 393ms/step - loss: 0.6640 - val_loss: 0.6637\n",
            "Epoch 925/1000\n",
            "2/2 [==============================] - 1s 370ms/step - loss: 0.6640 - val_loss: 0.6637\n",
            "Epoch 926/1000\n",
            "2/2 [==============================] - 1s 335ms/step - loss: 0.6640 - val_loss: 0.6637\n",
            "Epoch 927/1000\n",
            "2/2 [==============================] - 1s 375ms/step - loss: 0.6640 - val_loss: 0.6637\n",
            "Epoch 928/1000\n",
            "2/2 [==============================] - 1s 390ms/step - loss: 0.6640 - val_loss: 0.6637\n",
            "Epoch 929/1000\n",
            "2/2 [==============================] - 1s 355ms/step - loss: 0.6640 - val_loss: 0.6637\n",
            "Epoch 930/1000\n",
            "2/2 [==============================] - 1s 367ms/step - loss: 0.6640 - val_loss: 0.6637\n",
            "Epoch 931/1000\n",
            "2/2 [==============================] - 1s 363ms/step - loss: 0.6640 - val_loss: 0.6637\n",
            "Epoch 932/1000\n",
            "2/2 [==============================] - 1s 354ms/step - loss: 0.6640 - val_loss: 0.6637\n",
            "Epoch 933/1000\n",
            "2/2 [==============================] - 1s 351ms/step - loss: 0.6640 - val_loss: 0.6637\n",
            "Epoch 934/1000\n",
            "2/2 [==============================] - 1s 355ms/step - loss: 0.6640 - val_loss: 0.6637\n",
            "Epoch 935/1000\n",
            "2/2 [==============================] - 1s 358ms/step - loss: 0.6640 - val_loss: 0.6637\n",
            "Epoch 936/1000\n",
            "2/2 [==============================] - 1s 360ms/step - loss: 0.6640 - val_loss: 0.6637\n",
            "Epoch 937/1000\n",
            "2/2 [==============================] - 1s 340ms/step - loss: 0.6640 - val_loss: 0.6637\n",
            "Epoch 938/1000\n",
            "2/2 [==============================] - 1s 353ms/step - loss: 0.6640 - val_loss: 0.6637\n",
            "Epoch 939/1000\n",
            "2/2 [==============================] - 1s 344ms/step - loss: 0.6640 - val_loss: 0.6637\n",
            "Epoch 940/1000\n",
            "2/2 [==============================] - 1s 337ms/step - loss: 0.6640 - val_loss: 0.6637\n",
            "Epoch 941/1000\n",
            "2/2 [==============================] - 1s 364ms/step - loss: 0.6640 - val_loss: 0.6637\n",
            "Epoch 942/1000\n",
            "2/2 [==============================] - 1s 368ms/step - loss: 0.6640 - val_loss: 0.6637\n",
            "Epoch 943/1000\n",
            "2/2 [==============================] - 1s 382ms/step - loss: 0.6640 - val_loss: 0.6637\n",
            "Epoch 944/1000\n",
            "2/2 [==============================] - 1s 362ms/step - loss: 0.6640 - val_loss: 0.6637\n",
            "Epoch 945/1000\n",
            "2/2 [==============================] - 1s 368ms/step - loss: 0.6640 - val_loss: 0.6637\n",
            "Epoch 946/1000\n",
            "2/2 [==============================] - 1s 339ms/step - loss: 0.6639 - val_loss: 0.6637\n",
            "Epoch 947/1000\n",
            "2/2 [==============================] - 1s 344ms/step - loss: 0.6639 - val_loss: 0.6637\n",
            "Epoch 948/1000\n",
            "2/2 [==============================] - 1s 357ms/step - loss: 0.6639 - val_loss: 0.6637\n",
            "Epoch 949/1000\n",
            "2/2 [==============================] - 1s 345ms/step - loss: 0.6639 - val_loss: 0.6637\n",
            "Epoch 950/1000\n",
            "2/2 [==============================] - 1s 359ms/step - loss: 0.6639 - val_loss: 0.6637\n",
            "Epoch 951/1000\n",
            "2/2 [==============================] - 1s 340ms/step - loss: 0.6639 - val_loss: 0.6637\n",
            "Epoch 952/1000\n",
            "2/2 [==============================] - 1s 353ms/step - loss: 0.6639 - val_loss: 0.6637\n",
            "Epoch 953/1000\n",
            "2/2 [==============================] - 1s 341ms/step - loss: 0.6639 - val_loss: 0.6637\n",
            "Epoch 954/1000\n",
            "2/2 [==============================] - 1s 353ms/step - loss: 0.6639 - val_loss: 0.6637\n",
            "Epoch 955/1000\n",
            "2/2 [==============================] - 1s 348ms/step - loss: 0.6639 - val_loss: 0.6637\n",
            "Epoch 956/1000\n",
            "2/2 [==============================] - 1s 348ms/step - loss: 0.6639 - val_loss: 0.6637\n",
            "Epoch 957/1000\n",
            "2/2 [==============================] - 1s 361ms/step - loss: 0.6639 - val_loss: 0.6637\n",
            "Epoch 958/1000\n",
            "2/2 [==============================] - 1s 360ms/step - loss: 0.6639 - val_loss: 0.6637\n",
            "Epoch 959/1000\n",
            "2/2 [==============================] - 1s 376ms/step - loss: 0.6639 - val_loss: 0.6637\n",
            "Epoch 960/1000\n",
            "2/2 [==============================] - 1s 372ms/step - loss: 0.6639 - val_loss: 0.6637\n",
            "Epoch 961/1000\n",
            "2/2 [==============================] - 1s 361ms/step - loss: 0.6639 - val_loss: 0.6637\n",
            "Epoch 962/1000\n",
            "2/2 [==============================] - 1s 338ms/step - loss: 0.6639 - val_loss: 0.6637\n",
            "Epoch 963/1000\n",
            "2/2 [==============================] - 1s 349ms/step - loss: 0.6639 - val_loss: 0.6637\n",
            "Epoch 964/1000\n",
            "2/2 [==============================] - 1s 347ms/step - loss: 0.6639 - val_loss: 0.6637\n",
            "Epoch 965/1000\n",
            "2/2 [==============================] - 1s 353ms/step - loss: 0.6639 - val_loss: 0.6637\n",
            "Epoch 966/1000\n",
            "2/2 [==============================] - 1s 348ms/step - loss: 0.6639 - val_loss: 0.6637\n",
            "Epoch 967/1000\n",
            "2/2 [==============================] - 1s 357ms/step - loss: 0.6639 - val_loss: 0.6637\n",
            "Epoch 968/1000\n",
            "2/2 [==============================] - 1s 354ms/step - loss: 0.6639 - val_loss: 0.6637\n",
            "Epoch 969/1000\n",
            "2/2 [==============================] - 1s 356ms/step - loss: 0.6639 - val_loss: 0.6637\n",
            "Epoch 970/1000\n",
            "2/2 [==============================] - 1s 364ms/step - loss: 0.6639 - val_loss: 0.6637\n",
            "Epoch 971/1000\n",
            "2/2 [==============================] - 1s 361ms/step - loss: 0.6639 - val_loss: 0.6637\n",
            "Epoch 972/1000\n",
            "2/2 [==============================] - 1s 368ms/step - loss: 0.6639 - val_loss: 0.6637\n",
            "Epoch 973/1000\n",
            "2/2 [==============================] - 1s 356ms/step - loss: 0.6639 - val_loss: 0.6637\n",
            "Epoch 974/1000\n",
            "2/2 [==============================] - 1s 372ms/step - loss: 0.6639 - val_loss: 0.6637\n",
            "Epoch 975/1000\n",
            "2/2 [==============================] - 1s 378ms/step - loss: 0.6639 - val_loss: 0.6637\n",
            "Epoch 976/1000\n",
            "2/2 [==============================] - 1s 367ms/step - loss: 0.6639 - val_loss: 0.6637\n",
            "Epoch 977/1000\n",
            "2/2 [==============================] - 1s 342ms/step - loss: 0.6639 - val_loss: 0.6637\n",
            "Epoch 978/1000\n",
            "2/2 [==============================] - 1s 340ms/step - loss: 0.6639 - val_loss: 0.6637\n",
            "Epoch 979/1000\n",
            "2/2 [==============================] - 1s 356ms/step - loss: 0.6639 - val_loss: 0.6637\n",
            "Epoch 980/1000\n",
            "2/2 [==============================] - 1s 361ms/step - loss: 0.6639 - val_loss: 0.6637\n",
            "Epoch 981/1000\n",
            "2/2 [==============================] - 1s 352ms/step - loss: 0.6639 - val_loss: 0.6637\n",
            "Epoch 982/1000\n",
            "2/2 [==============================] - 1s 363ms/step - loss: 0.6639 - val_loss: 0.6637\n",
            "Epoch 983/1000\n",
            "2/2 [==============================] - 1s 354ms/step - loss: 0.6639 - val_loss: 0.6637\n",
            "Epoch 984/1000\n",
            "2/2 [==============================] - 1s 354ms/step - loss: 0.6639 - val_loss: 0.6637\n",
            "Epoch 985/1000\n",
            "2/2 [==============================] - 1s 352ms/step - loss: 0.6639 - val_loss: 0.6637\n",
            "Epoch 986/1000\n",
            "2/2 [==============================] - 1s 360ms/step - loss: 0.6639 - val_loss: 0.6637\n",
            "Epoch 987/1000\n",
            "2/2 [==============================] - 1s 381ms/step - loss: 0.6639 - val_loss: 0.6637\n",
            "Epoch 988/1000\n",
            "2/2 [==============================] - 1s 362ms/step - loss: 0.6639 - val_loss: 0.6637\n",
            "Epoch 989/1000\n",
            "2/2 [==============================] - 1s 369ms/step - loss: 0.6639 - val_loss: 0.6637\n",
            "Epoch 990/1000\n",
            "2/2 [==============================] - 1s 395ms/step - loss: 0.6639 - val_loss: 0.6637\n",
            "Epoch 991/1000\n",
            "2/2 [==============================] - 1s 397ms/step - loss: 0.6639 - val_loss: 0.6637\n",
            "Epoch 992/1000\n",
            "2/2 [==============================] - 1s 369ms/step - loss: 0.6639 - val_loss: 0.6637\n",
            "Epoch 993/1000\n",
            "2/2 [==============================] - 1s 372ms/step - loss: 0.6639 - val_loss: 0.6637\n",
            "Epoch 994/1000\n",
            "2/2 [==============================] - 1s 361ms/step - loss: 0.6639 - val_loss: 0.6637\n",
            "Epoch 995/1000\n",
            "2/2 [==============================] - 1s 365ms/step - loss: 0.6639 - val_loss: 0.6637\n",
            "Epoch 996/1000\n",
            "2/2 [==============================] - 1s 360ms/step - loss: 0.6639 - val_loss: 0.6637\n",
            "Epoch 997/1000\n",
            "2/2 [==============================] - 1s 363ms/step - loss: 0.6639 - val_loss: 0.6637\n",
            "Epoch 998/1000\n",
            "2/2 [==============================] - 1s 368ms/step - loss: 0.6639 - val_loss: 0.6637\n",
            "Epoch 999/1000\n",
            "2/2 [==============================] - 1s 357ms/step - loss: 0.6639 - val_loss: 0.6637\n",
            "Epoch 1000/1000\n",
            "2/2 [==============================] - 1s 344ms/step - loss: 0.6639 - val_loss: 0.6637\n"
          ]
        },
        {
          "output_type": "execute_result",
          "data": {
            "text/plain": [
              "<keras.src.callbacks.History at 0x7f1ca37046d0>"
            ]
          },
          "metadata": {},
          "execution_count": 143
        }
      ],
      "source": [
        "autoencoder.fit(x_train, x_train,\n",
        "                epochs=1000,\n",
        "                batch_size=256,\n",
        "                shuffle=True,\n",
        "                validation_data=(x_test, x_test)\n",
        "                )"
      ]
    },
    {
      "cell_type": "code",
      "execution_count": null,
      "metadata": {
        "colab": {
          "base_uri": "https://localhost:8080/"
        },
        "id": "nHSQcUgvV6r1",
        "outputId": "f3bff327-092d-481a-eddd-bfcec02ecff2"
      },
      "outputs": [
        {
          "output_type": "stream",
          "name": "stdout",
          "text": [
            "12/12 [==============================] - 0s 15ms/step\n"
          ]
        }
      ],
      "source": [
        "# Encode and decode some digits\n",
        "# Note that we take them from the *test* set\n",
        "# This model maps an input to its encoded representation\n",
        "encoder = keras.Model(input_img, encoded)\n",
        "encoded_imgs = encoder.predict(x_train)"
      ]
    },
    {
      "cell_type": "code",
      "execution_count": null,
      "metadata": {
        "colab": {
          "base_uri": "https://localhost:8080/",
          "height": 522
        },
        "id": "Lp35DPseU7E1",
        "outputId": "9047e791-4176-4bae-a040-ffa8dc8e3456"
      },
      "outputs": [
        {
          "output_type": "display_data",
          "data": {
            "text/plain": [
              "<Figure size 600x600 with 2 Axes>"
            ],
            "image/png": "[encoded data removed]"
          },
          "metadata": {}
        }
      ],
      "source": [
        "plt.figure(figsize=(6, 6))\n",
        "plt.scatter(encoded_imgs[:, 0], encoded_imgs[:, 1], c=y_train)\n",
        "plt.colorbar()\n",
        "plt.show()"
      ]
    },
    {
      "cell_type": "code",
      "execution_count": null,
      "metadata": {
        "id": "RUS8LLQC9nnq"
      },
      "outputs": [],
      "source": []
    },
    {
      "cell_type": "markdown",
      "source": [
        "### Extreme pointes bellow"
      ],
      "metadata": {
        "id": "IWAzfJQRDpaH"
      }
    },
    {
      "cell_type": "code",
      "execution_count": null,
      "metadata": {
        "colab": {
          "base_uri": "https://localhost:8080/"
        },
        "id": "ZZLW5y0GYwHV",
        "outputId": "8784f7fa-e27c-4d41-ecb6-1db410dd2589"
      },
      "outputs": [
        {
          "output_type": "execute_result",
          "data": {
            "text/plain": [
              "(array([117]),)"
            ]
          },
          "metadata": {},
          "execution_count": 149
        }
      ],
      "source": [
        "np.where((encoded_imgs[:,0]>1) & (encoded_imgs[:,0]<2) & (encoded_imgs[:,1]<5) & (encoded_imgs[:,1]>3.9 ))"
      ]
    },
    {
      "cell_type": "markdown",
      "source": [
        "### middle point"
      ],
      "metadata": {
        "id": "rPp50lNIDtDa"
      }
    },
    {
      "cell_type": "code",
      "source": [
        "np.where((encoded_imgs[:,0]>0.8) & (encoded_imgs[:,0]<1) & (encoded_imgs[:,1]<1) & (encoded_imgs[:,1]>0.8 ))"
      ],
      "metadata": {
        "colab": {
          "base_uri": "https://localhost:8080/"
        },
        "id": "gIVphzhLDoqK",
        "outputId": "ca20433d-fd7e-419f-f686-c03ab684df0a"
      },
      "execution_count": null,
      "outputs": [
        {
          "output_type": "execute_result",
          "data": {
            "text/plain": [
              "(array([ 70, 316]),)"
            ]
          },
          "metadata": {},
          "execution_count": 148
        }
      ]
    },
    {
      "cell_type": "code",
      "source": [
        "np.where((encoded_imgs[:,0]>1.8) & (encoded_imgs[:,0]<2.2) & (encoded_imgs[:,1]<3) & (encoded_imgs[:,1]>2 ))"
      ],
      "metadata": {
        "colab": {
          "base_uri": "https://localhost:8080/"
        },
        "id": "jyo0BRC7Dv8n",
        "outputId": "7598d299-9ebd-4de8-ff06-20f4d8cdc4a8"
      },
      "execution_count": null,
      "outputs": [
        {
          "output_type": "execute_result",
          "data": {
            "text/plain": [
              "(array([  7,  11,  22,  76, 130, 158, 176, 198, 218, 242, 257, 258, 264,\n",
              "        265, 280, 306, 323, 353, 372]),)"
            ]
          },
          "metadata": {},
          "execution_count": 150
        }
      ]
    },
    {
      "cell_type": "markdown",
      "source": [
        "### Extreme point above"
      ],
      "metadata": {
        "id": "_WhzNvbhECBu"
      }
    },
    {
      "cell_type": "code",
      "source": [
        "np.where((encoded_imgs[:,0]>-3) & (encoded_imgs[:,0]<-1) & (encoded_imgs[:,1]<-1) & (encoded_imgs[:,1]>-7 ))"
      ],
      "metadata": {
        "id": "AZZA78U1ECjZ"
      },
      "execution_count": null,
      "outputs": []
    },
    {
      "cell_type": "markdown",
      "metadata": {
        "id": "nQTrwpCKEr7R"
      },
      "source": [
        "## 3D-Latent Space Analysis"
      ]
    },
    {
      "cell_type": "code",
      "execution_count": null,
      "metadata": {
        "colab": {
          "base_uri": "https://localhost:8080/"
        },
        "id": "OijXxBYGt-Ol",
        "outputId": "c180f805-e8ab-4f1f-823a-5c98a0dfdba2"
      },
      "outputs": [
        {
          "output_type": "stream",
          "name": "stdout",
          "text": [
            "12/12 [==============================] - 0s 3ms/step\n"
          ]
        }
      ],
      "source": [
        "# Encode and decode some digits\n",
        "# Note that we take them from the *test* set\n",
        "# This model maps an input to its encoded representation\n",
        "encoder = keras.Model(input_img, encoded)\n",
        "encoded_imgs_3D = encoder.predict(x_train)"
      ]
    },
    {
      "cell_type": "code",
      "execution_count": null,
      "metadata": {
        "colab": {
          "base_uri": "https://localhost:8080/",
          "height": 528
        },
        "id": "MsiMnioqQZOS",
        "outputId": "d422f428-860d-478c-db12-cfa90e0d805e"
      },
      "outputs": [
        {
          "data": {
            "image/png": "[encoded data removed]",
            "text/plain": [
              "<Figure size 600x600 with 2 Axes>"
            ]
          },
          "metadata": {},
          "output_type": "display_data"
        }
      ],
      "source": [
        "plt.figure(figsize=(6, 6))\n",
        "plt.scatter(encoded_imgs_3D[:, 0], encoded_imgs_3D[:, 1], c=y_train)\n",
        "plt.colorbar()\n",
        "plt.show()"
      ]
    },
    {
      "cell_type": "code",
      "execution_count": null,
      "metadata": {
        "colab": {
          "base_uri": "https://localhost:8080/",
          "height": 417
        },
        "id": "m8drGZ_-QZMu",
        "outputId": "a308e7eb-3db5-4319-9ab1-ea24c763301a"
      },
      "outputs": [
        {
          "data": {
            "image/png": "[encoded data removed]",
            "text/plain": [
              "<Figure size 640x480 with 1 Axes>"
            ]
          },
          "metadata": {},
          "output_type": "display_data"
        }
      ],
      "source": [
        "ax = plt.axes(projection='3d')\n",
        "\n",
        "# Data for a three-dimensional line\n",
        "zline = np.linspace(0, 5, 1)\n",
        "xline = np.sin(zline)\n",
        "yline = np.cos(zline)\n",
        "ax.plot3D(xline, yline, zline, 'gray')\n",
        "\n",
        "# Data for three-dimensional scattered points\n",
        "zdata=encoded_imgs_3D[:, 2]\n",
        "ydata=encoded_imgs_3D[:, 1]\n",
        "xdata=encoded_imgs_3D[:, 0]\n",
        "ax.scatter3D(xdata, ydata, zdata, c=y_train);"
      ]
    },
    {
      "cell_type": "code",
      "execution_count": null,
      "metadata": {
        "id": "xdJ_1kTEU_RN"
      },
      "outputs": [],
      "source": [
        "#############################################\"\""
      ]
    },
    {
      "cell_type": "code",
      "execution_count": null,
      "metadata": {
        "colab": {
          "base_uri": "https://localhost:8080/"
        },
        "id": "tW5uk-msQZJa",
        "outputId": "8c93c7c0-15f3-481e-beae-9d38785ea16b"
      },
      "outputs": [
        {
          "name": "stdout",
          "output_type": "stream",
          "text": [
            "Requirement already satisfied: plotly in /usr/local/lib/python3.10/dist-packages (5.15.0)\n",
            "Requirement already satisfied: tenacity>=6.2.0 in /usr/local/lib/python3.10/dist-packages (from plotly) (8.2.3)\n",
            "Requirement already satisfied: packaging in /usr/local/lib/python3.10/dist-packages (from plotly) (23.2)\n"
          ]
        }
      ],
      "source": [
        "pip install plotly"
      ]
    },
    {
      "cell_type": "code",
      "execution_count": null,
      "metadata": {
        "colab": {
          "base_uri": "https://localhost:8080/",
          "height": 542
        },
        "id": "XEetMaKKYYyl",
        "outputId": "03d26a57-2f92-44d5-cc45-a283f7cd68c2"
      },
      "outputs": [
        {
          "data": {
            "text/html": [
              "<html>\n",
              "<head><meta charset=\"utf-8\" /></head>\n",
              "<body>\n",
              "    <div>            <script src=\"https://cdnjs.cloudflare.com/ajax/libs/mathjax/2.7.5/MathJax.js?config=TeX-AMS-MML_SVG\"></script><script type=\"text/javascript\">if (window.MathJax && window.MathJax.Hub && window.MathJax.Hub.Config) {window.MathJax.Hub.Config({SVG: {font: \"STIX-Web\"}});}</script>                <script type=\"text/javascript\">window.PlotlyConfig = {MathJaxConfig: 'local'};</script>\n",
              "        <script charset=\"utf-8\" src=\"https://cdn.plot.ly/plotly-2.24.1.min.js\"></script>                <div id=\"d0690da2-ba24-4833-bdb5-500dfbe3f08e\" class=\"plotly-graph-div\" style=\"height:525px; width:100%;\"></div>            <script type=\"text/javascript\">                                    window.PLOTLYENV=window.PLOTLYENV || {};                                    if (document.getElementById(\"d0690da2-ba24-4833-bdb5-500dfbe3f08e\")) {                    Plotly.newPlot(                        \"d0690da2-ba24-4833-bdb5-500dfbe3f08e\",                        [{\"x\":[[-10.805337905883789,-37.729278564453125,-9.092609405517578,2.4354941844940186,-3.756690263748169,0.6342204809188843,-2.612478017807007,-17.499496459960938,-21.36945152282715,-38.579811096191406,-11.065591812133789,-24.64715576171875,0.32312092185020447,-14.442512512207031,8.425107955932617,-17.07149887084961,-8.346959114074707,-16.71977996826172,2.0897555351257324,2.7887988090515137,-7.34675931930542,-5.009153366088867,-6.030925750732422,-4.488895893096924,-2.9574520587921143,0.09677491337060928,-4.105429172515869,-20.039554595947266,-18.409326553344727,-17.922760009765625,-19.987751007080078,-8.479440689086914,1.9780348539352417,-7.421607971191406,-5.890140533447266,-6.2829437255859375,-31.49793243408203,-15.002445220947266,1.9364498853683472,-14.320456504821777,-19.805679321289062],[-10.805337905883789,-37.729278564453125,-9.092609405517578,2.4354941844940186,-3.756690263748169,0.6342204809188843,-2.612478017807007,-17.499496459960938,-21.36945152282715,-38.579811096191406,-11.065591812133789,-24.64715576171875,0.32312092185020447,-14.442512512207031,8.425107955932617,-17.07149887084961,-8.346959114074707,-16.71977996826172,2.0897555351257324,2.7887988090515137,-7.34675931930542,-5.009153366088867,-6.030925750732422,-4.488895893096924,-2.9574520587921143,0.09677491337060928,-4.105429172515869,-20.039554595947266,-18.409326553344727,-17.922760009765625,-19.987751007080078,-8.479440689086914,1.9780348539352417,-7.421607971191406,-5.890140533447266,-6.2829437255859375,-31.49793243408203,-15.002445220947266,1.9364498853683472,-14.320456504821777,-19.805679321289062],[-10.805337905883789,-37.729278564453125,-9.092609405517578,2.4354941844940186,-3.756690263748169,0.6342204809188843,-2.612478017807007,-17.499496459960938,-21.36945152282715,-38.579811096191406,-11.065591812133789,-24.64715576171875,0.32312092185020447,-14.442512512207031,8.425107955932617,-17.07149887084961,-8.346959114074707,-16.71977996826172,2.0897555351257324,2.7887988090515137,-7.34675931930542,-5.009153366088867,-6.030925750732422,-4.488895893096924,-2.9574520587921143,0.09677491337060928,-4.105429172515869,-20.039554595947266,-18.409326553344727,-17.922760009765625,-19.987751007080078,-8.479440689086914,1.9780348539352417,-7.421607971191406,-5.890140533447266,-6.2829437255859375,-31.49793243408203,-15.002445220947266,1.9364498853683472,-14.320456504821777,-19.805679321289062],[-10.805337905883789,-37.729278564453125,-9.092609405517578,2.4354941844940186,-3.756690263748169,0.6342204809188843,-2.612478017807007,-17.499496459960938,-21.36945152282715,-38.579811096191406,-11.065591812133789,-24.64715576171875,0.32312092185020447,-14.442512512207031,8.425107955932617,-17.07149887084961,-8.346959114074707,-16.71977996826172,2.0897555351257324,2.7887988090515137,-7.34675931930542,-5.009153366088867,-6.030925750732422,-4.488895893096924,-2.9574520587921143,0.09677491337060928,-4.105429172515869,-20.039554595947266,-18.409326553344727,-17.922760009765625,-19.987751007080078,-8.479440689086914,1.9780348539352417,-7.421607971191406,-5.890140533447266,-6.2829437255859375,-31.49793243408203,-15.002445220947266,1.9364498853683472,-14.320456504821777,-19.805679321289062],[-10.805337905883789,-37.729278564453125,-9.092609405517578,2.4354941844940186,-3.756690263748169,0.6342204809188843,-2.612478017807007,-17.499496459960938,-21.36945152282715,-38.579811096191406,-11.065591812133789,-24.64715576171875,0.32312092185020447,-14.442512512207031,8.425107955932617,-17.07149887084961,-8.346959114074707,-16.71977996826172,2.0897555351257324,2.7887988090515137,-7.34675931930542,-5.009153366088867,-6.030925750732422,-4.488895893096924,-2.9574520587921143,0.09677491337060928,-4.105429172515869,-20.039554595947266,-18.409326553344727,-17.922760009765625,-19.987751007080078,-8.479440689086914,1.9780348539352417,-7.421607971191406,-5.890140533447266,-6.2829437255859375,-31.49793243408203,-15.002445220947266,1.9364498853683472,-14.320456504821777,-19.805679321289062],[-10.805337905883789,-37.729278564453125,-9.092609405517578,2.4354941844940186,-3.756690263748169,0.6342204809188843,-2.612478017807007,-17.499496459960938,-21.36945152282715,-38.579811096191406,-11.065591812133789,-24.64715576171875,0.32312092185020447,-14.442512512207031,8.425107955932617,-17.07149887084961,-8.346959114074707,-16.71977996826172,2.0897555351257324,2.7887988090515137,-7.34675931930542,-5.009153366088867,-6.030925750732422,-4.488895893096924,-2.9574520587921143,0.09677491337060928,-4.105429172515869,-20.039554595947266,-18.409326553344727,-17.922760009765625,-19.987751007080078,-8.479440689086914,1.9780348539352417,-7.421607971191406,-5.890140533447266,-6.2829437255859375,-31.49793243408203,-15.002445220947266,1.9364498853683472,-14.320456504821777,-19.805679321289062],[-10.805337905883789,-37.729278564453125,-9.092609405517578,2.4354941844940186,-3.756690263748169,0.6342204809188843,-2.612478017807007,-17.499496459960938,-21.36945152282715,-38.579811096191406,-11.065591812133789,-24.64715576171875,0.32312092185020447,-14.442512512207031,8.425107955932617,-17.07149887084961,-8.346959114074707,-16.71977996826172,2.0897555351257324,2.7887988090515137,-7.34675931930542,-5.009153366088867,-6.030925750732422,-4.488895893096924,-2.9574520587921143,0.09677491337060928,-4.105429172515869,-20.039554595947266,-18.409326553344727,-17.922760009765625,-19.987751007080078,-8.479440689086914,1.9780348539352417,-7.421607971191406,-5.890140533447266,-6.2829437255859375,-31.49793243408203,-15.002445220947266,1.9364498853683472,-14.320456504821777,-19.805679321289062],[-10.805337905883789,-37.729278564453125,-9.092609405517578,2.4354941844940186,-3.756690263748169,0.6342204809188843,-2.612478017807007,-17.499496459960938,-21.36945152282715,-38.579811096191406,-11.065591812133789,-24.64715576171875,0.32312092185020447,-14.442512512207031,8.425107955932617,-17.07149887084961,-8.346959114074707,-16.71977996826172,2.0897555351257324,2.7887988090515137,-7.34675931930542,-5.009153366088867,-6.030925750732422,-4.488895893096924,-2.9574520587921143,0.09677491337060928,-4.105429172515869,-20.039554595947266,-18.409326553344727,-17.922760009765625,-19.987751007080078,-8.479440689086914,1.9780348539352417,-7.421607971191406,-5.890140533447266,-6.2829437255859375,-31.49793243408203,-15.002445220947266,1.9364498853683472,-14.320456504821777,-19.805679321289062],[-10.805337905883789,-37.729278564453125,-9.092609405517578,2.4354941844940186,-3.756690263748169,0.6342204809188843,-2.612478017807007,-17.499496459960938,-21.36945152282715,-38.579811096191406,-11.065591812133789,-24.64715576171875,0.32312092185020447,-14.442512512207031,8.425107955932617,-17.07149887084961,-8.346959114074707,-16.71977996826172,2.0897555351257324,2.7887988090515137,-7.34675931930542,-5.009153366088867,-6.030925750732422,-4.488895893096924,-2.9574520587921143,0.09677491337060928,-4.105429172515869,-20.039554595947266,-18.409326553344727,-17.922760009765625,-19.987751007080078,-8.479440689086914,1.9780348539352417,-7.421607971191406,-5.890140533447266,-6.2829437255859375,-31.49793243408203,-15.002445220947266,1.9364498853683472,-14.320456504821777,-19.805679321289062],[-10.805337905883789,-37.729278564453125,-9.092609405517578,2.4354941844940186,-3.756690263748169,0.6342204809188843,-2.612478017807007,-17.499496459960938,-21.36945152282715,-38.579811096191406,-11.065591812133789,-24.64715576171875,0.32312092185020447,-14.442512512207031,8.425107955932617,-17.07149887084961,-8.346959114074707,-16.71977996826172,2.0897555351257324,2.7887988090515137,-7.34675931930542,-5.009153366088867,-6.030925750732422,-4.488895893096924,-2.9574520587921143,0.09677491337060928,-4.105429172515869,-20.039554595947266,-18.409326553344727,-17.922760009765625,-19.987751007080078,-8.479440689086914,1.9780348539352417,-7.421607971191406,-5.890140533447266,-6.2829437255859375,-31.49793243408203,-15.002445220947266,1.9364498853683472,-14.320456504821777,-19.805679321289062],[-10.805337905883789,-37.729278564453125,-9.092609405517578,2.4354941844940186,-3.756690263748169,0.6342204809188843,-2.612478017807007,-17.499496459960938,-21.36945152282715,-38.579811096191406,-11.065591812133789,-24.64715576171875,0.32312092185020447,-14.442512512207031,8.425107955932617,-17.07149887084961,-8.346959114074707,-16.71977996826172,2.0897555351257324,2.7887988090515137,-7.34675931930542,-5.009153366088867,-6.030925750732422,-4.488895893096924,-2.9574520587921143,0.09677491337060928,-4.105429172515869,-20.039554595947266,-18.409326553344727,-17.922760009765625,-19.987751007080078,-8.479440689086914,1.9780348539352417,-7.421607971191406,-5.890140533447266,-6.2829437255859375,-31.49793243408203,-15.002445220947266,1.9364498853683472,-14.320456504821777,-19.805679321289062],[-10.805337905883789,-37.729278564453125,-9.092609405517578,2.4354941844940186,-3.756690263748169,0.6342204809188843,-2.612478017807007,-17.499496459960938,-21.36945152282715,-38.579811096191406,-11.065591812133789,-24.64715576171875,0.32312092185020447,-14.442512512207031,8.425107955932617,-17.07149887084961,-8.346959114074707,-16.71977996826172,2.0897555351257324,2.7887988090515137,-7.34675931930542,-5.009153366088867,-6.030925750732422,-4.488895893096924,-2.9574520587921143,0.09677491337060928,-4.105429172515869,-20.039554595947266,-18.409326553344727,-17.922760009765625,-19.987751007080078,-8.479440689086914,1.9780348539352417,-7.421607971191406,-5.890140533447266,-6.2829437255859375,-31.49793243408203,-15.002445220947266,1.9364498853683472,-14.320456504821777,-19.805679321289062],[-10.805337905883789,-37.729278564453125,-9.092609405517578,2.4354941844940186,-3.756690263748169,0.6342204809188843,-2.612478017807007,-17.499496459960938,-21.36945152282715,-38.579811096191406,-11.065591812133789,-24.64715576171875,0.32312092185020447,-14.442512512207031,8.425107955932617,-17.07149887084961,-8.346959114074707,-16.71977996826172,2.0897555351257324,2.7887988090515137,-7.34675931930542,-5.009153366088867,-6.030925750732422,-4.488895893096924,-2.9574520587921143,0.09677491337060928,-4.105429172515869,-20.039554595947266,-18.409326553344727,-17.922760009765625,-19.987751007080078,-8.479440689086914,1.9780348539352417,-7.421607971191406,-5.890140533447266,-6.2829437255859375,-31.49793243408203,-15.002445220947266,1.9364498853683472,-14.320456504821777,-19.805679321289062],[-10.805337905883789,-37.729278564453125,-9.092609405517578,2.4354941844940186,-3.756690263748169,0.6342204809188843,-2.612478017807007,-17.499496459960938,-21.36945152282715,-38.579811096191406,-11.065591812133789,-24.64715576171875,0.32312092185020447,-14.442512512207031,8.425107955932617,-17.07149887084961,-8.346959114074707,-16.71977996826172,2.0897555351257324,2.7887988090515137,-7.34675931930542,-5.009153366088867,-6.030925750732422,-4.488895893096924,-2.9574520587921143,0.09677491337060928,-4.105429172515869,-20.039554595947266,-18.409326553344727,-17.922760009765625,-19.987751007080078,-8.479440689086914,1.9780348539352417,-7.421607971191406,-5.890140533447266,-6.2829437255859375,-31.49793243408203,-15.002445220947266,1.9364498853683472,-14.320456504821777,-19.805679321289062],[-10.805337905883789,-37.729278564453125,-9.092609405517578,2.4354941844940186,-3.756690263748169,0.6342204809188843,-2.612478017807007,-17.499496459960938,-21.36945152282715,-38.579811096191406,-11.065591812133789,-24.64715576171875,0.32312092185020447,-14.442512512207031,8.425107955932617,-17.07149887084961,-8.346959114074707,-16.71977996826172,2.0897555351257324,2.7887988090515137,-7.34675931930542,-5.009153366088867,-6.030925750732422,-4.488895893096924,-2.9574520587921143,0.09677491337060928,-4.105429172515869,-20.039554595947266,-18.409326553344727,-17.922760009765625,-19.987751007080078,-8.479440689086914,1.9780348539352417,-7.421607971191406,-5.890140533447266,-6.2829437255859375,-31.49793243408203,-15.002445220947266,1.9364498853683472,-14.320456504821777,-19.805679321289062],[-10.805337905883789,-37.729278564453125,-9.092609405517578,2.4354941844940186,-3.756690263748169,0.6342204809188843,-2.612478017807007,-17.499496459960938,-21.36945152282715,-38.579811096191406,-11.065591812133789,-24.64715576171875,0.32312092185020447,-14.442512512207031,8.425107955932617,-17.07149887084961,-8.346959114074707,-16.71977996826172,2.0897555351257324,2.7887988090515137,-7.34675931930542,-5.009153366088867,-6.030925750732422,-4.488895893096924,-2.9574520587921143,0.09677491337060928,-4.105429172515869,-20.039554595947266,-18.409326553344727,-17.922760009765625,-19.987751007080078,-8.479440689086914,1.9780348539352417,-7.421607971191406,-5.890140533447266,-6.2829437255859375,-31.49793243408203,-15.002445220947266,1.9364498853683472,-14.320456504821777,-19.805679321289062],[-10.805337905883789,-37.729278564453125,-9.092609405517578,2.4354941844940186,-3.756690263748169,0.6342204809188843,-2.612478017807007,-17.499496459960938,-21.36945152282715,-38.579811096191406,-11.065591812133789,-24.64715576171875,0.32312092185020447,-14.442512512207031,8.425107955932617,-17.07149887084961,-8.346959114074707,-16.71977996826172,2.0897555351257324,2.7887988090515137,-7.34675931930542,-5.009153366088867,-6.030925750732422,-4.488895893096924,-2.9574520587921143,0.09677491337060928,-4.105429172515869,-20.039554595947266,-18.409326553344727,-17.922760009765625,-19.987751007080078,-8.479440689086914,1.9780348539352417,-7.421607971191406,-5.890140533447266,-6.2829437255859375,-31.49793243408203,-15.002445220947266,1.9364498853683472,-14.320456504821777,-19.805679321289062],[-10.805337905883789,-37.729278564453125,-9.092609405517578,2.4354941844940186,-3.756690263748169,0.6342204809188843,-2.612478017807007,-17.499496459960938,-21.36945152282715,-38.579811096191406,-11.065591812133789,-24.64715576171875,0.32312092185020447,-14.442512512207031,8.425107955932617,-17.07149887084961,-8.346959114074707,-16.71977996826172,2.0897555351257324,2.7887988090515137,-7.34675931930542,-5.009153366088867,-6.030925750732422,-4.488895893096924,-2.9574520587921143,0.09677491337060928,-4.105429172515869,-20.039554595947266,-18.409326553344727,-17.922760009765625,-19.987751007080078,-8.479440689086914,1.9780348539352417,-7.421607971191406,-5.890140533447266,-6.2829437255859375,-31.49793243408203,-15.002445220947266,1.9364498853683472,-14.320456504821777,-19.805679321289062],[-10.805337905883789,-37.729278564453125,-9.092609405517578,2.4354941844940186,-3.756690263748169,0.6342204809188843,-2.612478017807007,-17.499496459960938,-21.36945152282715,-38.579811096191406,-11.065591812133789,-24.64715576171875,0.32312092185020447,-14.442512512207031,8.425107955932617,-17.07149887084961,-8.346959114074707,-16.71977996826172,2.0897555351257324,2.7887988090515137,-7.34675931930542,-5.009153366088867,-6.030925750732422,-4.488895893096924,-2.9574520587921143,0.09677491337060928,-4.105429172515869,-20.039554595947266,-18.409326553344727,-17.922760009765625,-19.987751007080078,-8.479440689086914,1.9780348539352417,-7.421607971191406,-5.890140533447266,-6.2829437255859375,-31.49793243408203,-15.002445220947266,1.9364498853683472,-14.320456504821777,-19.805679321289062],[-10.805337905883789,-37.729278564453125,-9.092609405517578,2.4354941844940186,-3.756690263748169,0.6342204809188843,-2.612478017807007,-17.499496459960938,-21.36945152282715,-38.579811096191406,-11.065591812133789,-24.64715576171875,0.32312092185020447,-14.442512512207031,8.425107955932617,-17.07149887084961,-8.346959114074707,-16.71977996826172,2.0897555351257324,2.7887988090515137,-7.34675931930542,-5.009153366088867,-6.030925750732422,-4.488895893096924,-2.9574520587921143,0.09677491337060928,-4.105429172515869,-20.039554595947266,-18.409326553344727,-17.922760009765625,-19.987751007080078,-8.479440689086914,1.9780348539352417,-7.421607971191406,-5.890140533447266,-6.2829437255859375,-31.49793243408203,-15.002445220947266,1.9364498853683472,-14.320456504821777,-19.805679321289062],[-10.805337905883789,-37.729278564453125,-9.092609405517578,2.4354941844940186,-3.756690263748169,0.6342204809188843,-2.612478017807007,-17.499496459960938,-21.36945152282715,-38.579811096191406,-11.065591812133789,-24.64715576171875,0.32312092185020447,-14.442512512207031,8.425107955932617,-17.07149887084961,-8.346959114074707,-16.71977996826172,2.0897555351257324,2.7887988090515137,-7.34675931930542,-5.009153366088867,-6.030925750732422,-4.488895893096924,-2.9574520587921143,0.09677491337060928,-4.105429172515869,-20.039554595947266,-18.409326553344727,-17.922760009765625,-19.987751007080078,-8.479440689086914,1.9780348539352417,-7.421607971191406,-5.890140533447266,-6.2829437255859375,-31.49793243408203,-15.002445220947266,1.9364498853683472,-14.320456504821777,-19.805679321289062],[-10.805337905883789,-37.729278564453125,-9.092609405517578,2.4354941844940186,-3.756690263748169,0.6342204809188843,-2.612478017807007,-17.499496459960938,-21.36945152282715,-38.579811096191406,-11.065591812133789,-24.64715576171875,0.32312092185020447,-14.442512512207031,8.425107955932617,-17.07149887084961,-8.346959114074707,-16.71977996826172,2.0897555351257324,2.7887988090515137,-7.34675931930542,-5.009153366088867,-6.030925750732422,-4.488895893096924,-2.9574520587921143,0.09677491337060928,-4.105429172515869,-20.039554595947266,-18.409326553344727,-17.922760009765625,-19.987751007080078,-8.479440689086914,1.9780348539352417,-7.421607971191406,-5.890140533447266,-6.2829437255859375,-31.49793243408203,-15.002445220947266,1.9364498853683472,-14.320456504821777,-19.805679321289062],[-10.805337905883789,-37.729278564453125,-9.092609405517578,2.4354941844940186,-3.756690263748169,0.6342204809188843,-2.612478017807007,-17.499496459960938,-21.36945152282715,-38.579811096191406,-11.065591812133789,-24.64715576171875,0.32312092185020447,-14.442512512207031,8.425107955932617,-17.07149887084961,-8.346959114074707,-16.71977996826172,2.0897555351257324,2.7887988090515137,-7.34675931930542,-5.009153366088867,-6.030925750732422,-4.488895893096924,-2.9574520587921143,0.09677491337060928,-4.105429172515869,-20.039554595947266,-18.409326553344727,-17.922760009765625,-19.987751007080078,-8.479440689086914,1.9780348539352417,-7.421607971191406,-5.890140533447266,-6.2829437255859375,-31.49793243408203,-15.002445220947266,1.9364498853683472,-14.320456504821777,-19.805679321289062],[-10.805337905883789,-37.729278564453125,-9.092609405517578,2.4354941844940186,-3.756690263748169,0.6342204809188843,-2.612478017807007,-17.499496459960938,-21.36945152282715,-38.579811096191406,-11.065591812133789,-24.64715576171875,0.32312092185020447,-14.442512512207031,8.425107955932617,-17.07149887084961,-8.346959114074707,-16.71977996826172,2.0897555351257324,2.7887988090515137,-7.34675931930542,-5.009153366088867,-6.030925750732422,-4.488895893096924,-2.9574520587921143,0.09677491337060928,-4.105429172515869,-20.039554595947266,-18.409326553344727,-17.922760009765625,-19.987751007080078,-8.479440689086914,1.9780348539352417,-7.421607971191406,-5.890140533447266,-6.2829437255859375,-31.49793243408203,-15.002445220947266,1.9364498853683472,-14.320456504821777,-19.805679321289062],[-10.805337905883789,-37.729278564453125,-9.092609405517578,2.4354941844940186,-3.756690263748169,0.6342204809188843,-2.612478017807007,-17.499496459960938,-21.36945152282715,-38.579811096191406,-11.065591812133789,-24.64715576171875,0.32312092185020447,-14.442512512207031,8.425107955932617,-17.07149887084961,-8.346959114074707,-16.71977996826172,2.0897555351257324,2.7887988090515137,-7.34675931930542,-5.009153366088867,-6.030925750732422,-4.488895893096924,-2.9574520587921143,0.09677491337060928,-4.105429172515869,-20.039554595947266,-18.409326553344727,-17.922760009765625,-19.987751007080078,-8.479440689086914,1.9780348539352417,-7.421607971191406,-5.890140533447266,-6.2829437255859375,-31.49793243408203,-15.002445220947266,1.9364498853683472,-14.320456504821777,-19.805679321289062],[-10.805337905883789,-37.729278564453125,-9.092609405517578,2.4354941844940186,-3.756690263748169,0.6342204809188843,-2.612478017807007,-17.499496459960938,-21.36945152282715,-38.579811096191406,-11.065591812133789,-24.64715576171875,0.32312092185020447,-14.442512512207031,8.425107955932617,-17.07149887084961,-8.346959114074707,-16.71977996826172,2.0897555351257324,2.7887988090515137,-7.34675931930542,-5.009153366088867,-6.030925750732422,-4.488895893096924,-2.9574520587921143,0.09677491337060928,-4.105429172515869,-20.039554595947266,-18.409326553344727,-17.922760009765625,-19.987751007080078,-8.479440689086914,1.9780348539352417,-7.421607971191406,-5.890140533447266,-6.2829437255859375,-31.49793243408203,-15.002445220947266,1.9364498853683472,-14.320456504821777,-19.805679321289062],[-10.805337905883789,-37.729278564453125,-9.092609405517578,2.4354941844940186,-3.756690263748169,0.6342204809188843,-2.612478017807007,-17.499496459960938,-21.36945152282715,-38.579811096191406,-11.065591812133789,-24.64715576171875,0.32312092185020447,-14.442512512207031,8.425107955932617,-17.07149887084961,-8.346959114074707,-16.71977996826172,2.0897555351257324,2.7887988090515137,-7.34675931930542,-5.009153366088867,-6.030925750732422,-4.488895893096924,-2.9574520587921143,0.09677491337060928,-4.105429172515869,-20.039554595947266,-18.409326553344727,-17.922760009765625,-19.987751007080078,-8.479440689086914,1.9780348539352417,-7.421607971191406,-5.890140533447266,-6.2829437255859375,-31.49793243408203,-15.002445220947266,1.9364498853683472,-14.320456504821777,-19.805679321289062],[-10.805337905883789,-37.729278564453125,-9.092609405517578,2.4354941844940186,-3.756690263748169,0.6342204809188843,-2.612478017807007,-17.499496459960938,-21.36945152282715,-38.579811096191406,-11.065591812133789,-24.64715576171875,0.32312092185020447,-14.442512512207031,8.425107955932617,-17.07149887084961,-8.346959114074707,-16.71977996826172,2.0897555351257324,2.7887988090515137,-7.34675931930542,-5.009153366088867,-6.030925750732422,-4.488895893096924,-2.9574520587921143,0.09677491337060928,-4.105429172515869,-20.039554595947266,-18.409326553344727,-17.922760009765625,-19.987751007080078,-8.479440689086914,1.9780348539352417,-7.421607971191406,-5.890140533447266,-6.2829437255859375,-31.49793243408203,-15.002445220947266,1.9364498853683472,-14.320456504821777,-19.805679321289062],[-10.805337905883789,-37.729278564453125,-9.092609405517578,2.4354941844940186,-3.756690263748169,0.6342204809188843,-2.612478017807007,-17.499496459960938,-21.36945152282715,-38.579811096191406,-11.065591812133789,-24.64715576171875,0.32312092185020447,-14.442512512207031,8.425107955932617,-17.07149887084961,-8.346959114074707,-16.71977996826172,2.0897555351257324,2.7887988090515137,-7.34675931930542,-5.009153366088867,-6.030925750732422,-4.488895893096924,-2.9574520587921143,0.09677491337060928,-4.105429172515869,-20.039554595947266,-18.409326553344727,-17.922760009765625,-19.987751007080078,-8.479440689086914,1.9780348539352417,-7.421607971191406,-5.890140533447266,-6.2829437255859375,-31.49793243408203,-15.002445220947266,1.9364498853683472,-14.320456504821777,-19.805679321289062],[-10.805337905883789,-37.729278564453125,-9.092609405517578,2.4354941844940186,-3.756690263748169,0.6342204809188843,-2.612478017807007,-17.499496459960938,-21.36945152282715,-38.579811096191406,-11.065591812133789,-24.64715576171875,0.32312092185020447,-14.442512512207031,8.425107955932617,-17.07149887084961,-8.346959114074707,-16.71977996826172,2.0897555351257324,2.7887988090515137,-7.34675931930542,-5.009153366088867,-6.030925750732422,-4.488895893096924,-2.9574520587921143,0.09677491337060928,-4.105429172515869,-20.039554595947266,-18.409326553344727,-17.922760009765625,-19.987751007080078,-8.479440689086914,1.9780348539352417,-7.421607971191406,-5.890140533447266,-6.2829437255859375,-31.49793243408203,-15.002445220947266,1.9364498853683472,-14.320456504821777,-19.805679321289062],[-10.805337905883789,-37.729278564453125,-9.092609405517578,2.4354941844940186,-3.756690263748169,0.6342204809188843,-2.612478017807007,-17.499496459960938,-21.36945152282715,-38.579811096191406,-11.065591812133789,-24.64715576171875,0.32312092185020447,-14.442512512207031,8.425107955932617,-17.07149887084961,-8.346959114074707,-16.71977996826172,2.0897555351257324,2.7887988090515137,-7.34675931930542,-5.009153366088867,-6.030925750732422,-4.488895893096924,-2.9574520587921143,0.09677491337060928,-4.105429172515869,-20.039554595947266,-18.409326553344727,-17.922760009765625,-19.987751007080078,-8.479440689086914,1.9780348539352417,-7.421607971191406,-5.890140533447266,-6.2829437255859375,-31.49793243408203,-15.002445220947266,1.9364498853683472,-14.320456504821777,-19.805679321289062],[-10.805337905883789,-37.729278564453125,-9.092609405517578,2.4354941844940186,-3.756690263748169,0.6342204809188843,-2.612478017807007,-17.499496459960938,-21.36945152282715,-38.579811096191406,-11.065591812133789,-24.64715576171875,0.32312092185020447,-14.442512512207031,8.425107955932617,-17.07149887084961,-8.346959114074707,-16.71977996826172,2.0897555351257324,2.7887988090515137,-7.34675931930542,-5.009153366088867,-6.030925750732422,-4.488895893096924,-2.9574520587921143,0.09677491337060928,-4.105429172515869,-20.039554595947266,-18.409326553344727,-17.922760009765625,-19.987751007080078,-8.479440689086914,1.9780348539352417,-7.421607971191406,-5.890140533447266,-6.2829437255859375,-31.49793243408203,-15.002445220947266,1.9364498853683472,-14.320456504821777,-19.805679321289062],[-10.805337905883789,-37.729278564453125,-9.092609405517578,2.4354941844940186,-3.756690263748169,0.6342204809188843,-2.612478017807007,-17.499496459960938,-21.36945152282715,-38.579811096191406,-11.065591812133789,-24.64715576171875,0.32312092185020447,-14.442512512207031,8.425107955932617,-17.07149887084961,-8.346959114074707,-16.71977996826172,2.0897555351257324,2.7887988090515137,-7.34675931930542,-5.009153366088867,-6.030925750732422,-4.488895893096924,-2.9574520587921143,0.09677491337060928,-4.105429172515869,-20.039554595947266,-18.409326553344727,-17.922760009765625,-19.987751007080078,-8.479440689086914,1.9780348539352417,-7.421607971191406,-5.890140533447266,-6.2829437255859375,-31.49793243408203,-15.002445220947266,1.9364498853683472,-14.320456504821777,-19.805679321289062],[-10.805337905883789,-37.729278564453125,-9.092609405517578,2.4354941844940186,-3.756690263748169,0.6342204809188843,-2.612478017807007,-17.499496459960938,-21.36945152282715,-38.579811096191406,-11.065591812133789,-24.64715576171875,0.32312092185020447,-14.442512512207031,8.425107955932617,-17.07149887084961,-8.346959114074707,-16.71977996826172,2.0897555351257324,2.7887988090515137,-7.34675931930542,-5.009153366088867,-6.030925750732422,-4.488895893096924,-2.9574520587921143,0.09677491337060928,-4.105429172515869,-20.039554595947266,-18.409326553344727,-17.922760009765625,-19.987751007080078,-8.479440689086914,1.9780348539352417,-7.421607971191406,-5.890140533447266,-6.2829437255859375,-31.49793243408203,-15.002445220947266,1.9364498853683472,-14.320456504821777,-19.805679321289062],[-10.805337905883789,-37.729278564453125,-9.092609405517578,2.4354941844940186,-3.756690263748169,0.6342204809188843,-2.612478017807007,-17.499496459960938,-21.36945152282715,-38.579811096191406,-11.065591812133789,-24.64715576171875,0.32312092185020447,-14.442512512207031,8.425107955932617,-17.07149887084961,-8.346959114074707,-16.71977996826172,2.0897555351257324,2.7887988090515137,-7.34675931930542,-5.009153366088867,-6.030925750732422,-4.488895893096924,-2.9574520587921143,0.09677491337060928,-4.105429172515869,-20.039554595947266,-18.409326553344727,-17.922760009765625,-19.987751007080078,-8.479440689086914,1.9780348539352417,-7.421607971191406,-5.890140533447266,-6.2829437255859375,-31.49793243408203,-15.002445220947266,1.9364498853683472,-14.320456504821777,-19.805679321289062],[-10.805337905883789,-37.729278564453125,-9.092609405517578,2.4354941844940186,-3.756690263748169,0.6342204809188843,-2.612478017807007,-17.499496459960938,-21.36945152282715,-38.579811096191406,-11.065591812133789,-24.64715576171875,0.32312092185020447,-14.442512512207031,8.425107955932617,-17.07149887084961,-8.346959114074707,-16.71977996826172,2.0897555351257324,2.7887988090515137,-7.34675931930542,-5.009153366088867,-6.030925750732422,-4.488895893096924,-2.9574520587921143,0.09677491337060928,-4.105429172515869,-20.039554595947266,-18.409326553344727,-17.922760009765625,-19.987751007080078,-8.479440689086914,1.9780348539352417,-7.421607971191406,-5.890140533447266,-6.2829437255859375,-31.49793243408203,-15.002445220947266,1.9364498853683472,-14.320456504821777,-19.805679321289062],[-10.805337905883789,-37.729278564453125,-9.092609405517578,2.4354941844940186,-3.756690263748169,0.6342204809188843,-2.612478017807007,-17.499496459960938,-21.36945152282715,-38.579811096191406,-11.065591812133789,-24.64715576171875,0.32312092185020447,-14.442512512207031,8.425107955932617,-17.07149887084961,-8.346959114074707,-16.71977996826172,2.0897555351257324,2.7887988090515137,-7.34675931930542,-5.009153366088867,-6.030925750732422,-4.488895893096924,-2.9574520587921143,0.09677491337060928,-4.105429172515869,-20.039554595947266,-18.409326553344727,-17.922760009765625,-19.987751007080078,-8.479440689086914,1.9780348539352417,-7.421607971191406,-5.890140533447266,-6.2829437255859375,-31.49793243408203,-15.002445220947266,1.9364498853683472,-14.320456504821777,-19.805679321289062],[-10.805337905883789,-37.729278564453125,-9.092609405517578,2.4354941844940186,-3.756690263748169,0.6342204809188843,-2.612478017807007,-17.499496459960938,-21.36945152282715,-38.579811096191406,-11.065591812133789,-24.64715576171875,0.32312092185020447,-14.442512512207031,8.425107955932617,-17.07149887084961,-8.346959114074707,-16.71977996826172,2.0897555351257324,2.7887988090515137,-7.34675931930542,-5.009153366088867,-6.030925750732422,-4.488895893096924,-2.9574520587921143,0.09677491337060928,-4.105429172515869,-20.039554595947266,-18.409326553344727,-17.922760009765625,-19.987751007080078,-8.479440689086914,1.9780348539352417,-7.421607971191406,-5.890140533447266,-6.2829437255859375,-31.49793243408203,-15.002445220947266,1.9364498853683472,-14.320456504821777,-19.805679321289062],[-10.805337905883789,-37.729278564453125,-9.092609405517578,2.4354941844940186,-3.756690263748169,0.6342204809188843,-2.612478017807007,-17.499496459960938,-21.36945152282715,-38.579811096191406,-11.065591812133789,-24.64715576171875,0.32312092185020447,-14.442512512207031,8.425107955932617,-17.07149887084961,-8.346959114074707,-16.71977996826172,2.0897555351257324,2.7887988090515137,-7.34675931930542,-5.009153366088867,-6.030925750732422,-4.488895893096924,-2.9574520587921143,0.09677491337060928,-4.105429172515869,-20.039554595947266,-18.409326553344727,-17.922760009765625,-19.987751007080078,-8.479440689086914,1.9780348539352417,-7.421607971191406,-5.890140533447266,-6.2829437255859375,-31.49793243408203,-15.002445220947266,1.9364498853683472,-14.320456504821777,-19.805679321289062],[-10.805337905883789,-37.729278564453125,-9.092609405517578,2.4354941844940186,-3.756690263748169,0.6342204809188843,-2.612478017807007,-17.499496459960938,-21.36945152282715,-38.579811096191406,-11.065591812133789,-24.64715576171875,0.32312092185020447,-14.442512512207031,8.425107955932617,-17.07149887084961,-8.346959114074707,-16.71977996826172,2.0897555351257324,2.7887988090515137,-7.34675931930542,-5.009153366088867,-6.030925750732422,-4.488895893096924,-2.9574520587921143,0.09677491337060928,-4.105429172515869,-20.039554595947266,-18.409326553344727,-17.922760009765625,-19.987751007080078,-8.479440689086914,1.9780348539352417,-7.421607971191406,-5.890140533447266,-6.2829437255859375,-31.49793243408203,-15.002445220947266,1.9364498853683472,-14.320456504821777,-19.805679321289062],[-10.805337905883789,-37.729278564453125,-9.092609405517578,2.4354941844940186,-3.756690263748169,0.6342204809188843,-2.612478017807007,-17.499496459960938,-21.36945152282715,-38.579811096191406,-11.065591812133789,-24.64715576171875,0.32312092185020447,-14.442512512207031,8.425107955932617,-17.07149887084961,-8.346959114074707,-16.71977996826172,2.0897555351257324,2.7887988090515137,-7.34675931930542,-5.009153366088867,-6.030925750732422,-4.488895893096924,-2.9574520587921143,0.09677491337060928,-4.105429172515869,-20.039554595947266,-18.409326553344727,-17.922760009765625,-19.987751007080078,-8.479440689086914,1.9780348539352417,-7.421607971191406,-5.890140533447266,-6.2829437255859375,-31.49793243408203,-15.002445220947266,1.9364498853683472,-14.320456504821777,-19.805679321289062]],\"y\":[[-31.845539093017578,-31.845539093017578,-31.845539093017578,-31.845539093017578,-31.845539093017578,-31.845539093017578,-31.845539093017578,-31.845539093017578,-31.845539093017578,-31.845539093017578,-31.845539093017578,-31.845539093017578,-31.845539093017578,-31.845539093017578,-31.845539093017578,-31.845539093017578,-31.845539093017578,-31.845539093017578,-31.845539093017578,-31.845539093017578,-31.845539093017578,-31.845539093017578,-31.845539093017578,-31.845539093017578,-31.845539093017578,-31.845539093017578,-31.845539093017578,-31.845539093017578,-31.845539093017578,-31.845539093017578,-31.845539093017578,-31.845539093017578,-31.845539093017578,-31.845539093017578,-31.845539093017578,-31.845539093017578,-31.845539093017578,-31.845539093017578,-31.845539093017578,-31.845539093017578,-31.845539093017578],[-17.023630142211914,-17.023630142211914,-17.023630142211914,-17.023630142211914,-17.023630142211914,-17.023630142211914,-17.023630142211914,-17.023630142211914,-17.023630142211914,-17.023630142211914,-17.023630142211914,-17.023630142211914,-17.023630142211914,-17.023630142211914,-17.023630142211914,-17.023630142211914,-17.023630142211914,-17.023630142211914,-17.023630142211914,-17.023630142211914,-17.023630142211914,-17.023630142211914,-17.023630142211914,-17.023630142211914,-17.023630142211914,-17.023630142211914,-17.023630142211914,-17.023630142211914,-17.023630142211914,-17.023630142211914,-17.023630142211914,-17.023630142211914,-17.023630142211914,-17.023630142211914,-17.023630142211914,-17.023630142211914,-17.023630142211914,-17.023630142211914,-17.023630142211914,-17.023630142211914,-17.023630142211914],[-42.40993118286133,-42.40993118286133,-42.40993118286133,-42.40993118286133,-42.40993118286133,-42.40993118286133,-42.40993118286133,-42.40993118286133,-42.40993118286133,-42.40993118286133,-42.40993118286133,-42.40993118286133,-42.40993118286133,-42.40993118286133,-42.40993118286133,-42.40993118286133,-42.40993118286133,-42.40993118286133,-42.40993118286133,-42.40993118286133,-42.40993118286133,-42.40993118286133,-42.40993118286133,-42.40993118286133,-42.40993118286133,-42.40993118286133,-42.40993118286133,-42.40993118286133,-42.40993118286133,-42.40993118286133,-42.40993118286133,-42.40993118286133,-42.40993118286133,-42.40993118286133,-42.40993118286133,-42.40993118286133,-42.40993118286133,-42.40993118286133,-42.40993118286133,-42.40993118286133,-42.40993118286133],[-47.498512268066406,-47.498512268066406,-47.498512268066406,-47.498512268066406,-47.498512268066406,-47.498512268066406,-47.498512268066406,-47.498512268066406,-47.498512268066406,-47.498512268066406,-47.498512268066406,-47.498512268066406,-47.498512268066406,-47.498512268066406,-47.498512268066406,-47.498512268066406,-47.498512268066406,-47.498512268066406,-47.498512268066406,-47.498512268066406,-47.498512268066406,-47.498512268066406,-47.498512268066406,-47.498512268066406,-47.498512268066406,-47.498512268066406,-47.498512268066406,-47.498512268066406,-47.498512268066406,-47.498512268066406,-47.498512268066406,-47.498512268066406,-47.498512268066406,-47.498512268066406,-47.498512268066406,-47.498512268066406,-47.498512268066406,-47.498512268066406,-47.498512268066406,-47.498512268066406,-47.498512268066406],[-45.93674087524414,-45.93674087524414,-45.93674087524414,-45.93674087524414,-45.93674087524414,-45.93674087524414,-45.93674087524414,-45.93674087524414,-45.93674087524414,-45.93674087524414,-45.93674087524414,-45.93674087524414,-45.93674087524414,-45.93674087524414,-45.93674087524414,-45.93674087524414,-45.93674087524414,-45.93674087524414,-45.93674087524414,-45.93674087524414,-45.93674087524414,-45.93674087524414,-45.93674087524414,-45.93674087524414,-45.93674087524414,-45.93674087524414,-45.93674087524414,-45.93674087524414,-45.93674087524414,-45.93674087524414,-45.93674087524414,-45.93674087524414,-45.93674087524414,-45.93674087524414,-45.93674087524414,-45.93674087524414,-45.93674087524414,-45.93674087524414,-45.93674087524414,-45.93674087524414,-45.93674087524414],[-45.05571365356445,-45.05571365356445,-45.05571365356445,-45.05571365356445,-45.05571365356445,-45.05571365356445,-45.05571365356445,-45.05571365356445,-45.05571365356445,-45.05571365356445,-45.05571365356445,-45.05571365356445,-45.05571365356445,-45.05571365356445,-45.05571365356445,-45.05571365356445,-45.05571365356445,-45.05571365356445,-45.05571365356445,-45.05571365356445,-45.05571365356445,-45.05571365356445,-45.05571365356445,-45.05571365356445,-45.05571365356445,-45.05571365356445,-45.05571365356445,-45.05571365356445,-45.05571365356445,-45.05571365356445,-45.05571365356445,-45.05571365356445,-45.05571365356445,-45.05571365356445,-45.05571365356445,-45.05571365356445,-45.05571365356445,-45.05571365356445,-45.05571365356445,-45.05571365356445,-45.05571365356445],[-47.71696472167969,-47.71696472167969,-47.71696472167969,-47.71696472167969,-47.71696472167969,-47.71696472167969,-47.71696472167969,-47.71696472167969,-47.71696472167969,-47.71696472167969,-47.71696472167969,-47.71696472167969,-47.71696472167969,-47.71696472167969,-47.71696472167969,-47.71696472167969,-47.71696472167969,-47.71696472167969,-47.71696472167969,-47.71696472167969,-47.71696472167969,-47.71696472167969,-47.71696472167969,-47.71696472167969,-47.71696472167969,-47.71696472167969,-47.71696472167969,-47.71696472167969,-47.71696472167969,-47.71696472167969,-47.71696472167969,-47.71696472167969,-47.71696472167969,-47.71696472167969,-47.71696472167969,-47.71696472167969,-47.71696472167969,-47.71696472167969,-47.71696472167969,-47.71696472167969,-47.71696472167969],[-41.21554183959961,-41.21554183959961,-41.21554183959961,-41.21554183959961,-41.21554183959961,-41.21554183959961,-41.21554183959961,-41.21554183959961,-41.21554183959961,-41.21554183959961,-41.21554183959961,-41.21554183959961,-41.21554183959961,-41.21554183959961,-41.21554183959961,-41.21554183959961,-41.21554183959961,-41.21554183959961,-41.21554183959961,-41.21554183959961,-41.21554183959961,-41.21554183959961,-41.21554183959961,-41.21554183959961,-41.21554183959961,-41.21554183959961,-41.21554183959961,-41.21554183959961,-41.21554183959961,-41.21554183959961,-41.21554183959961,-41.21554183959961,-41.21554183959961,-41.21554183959961,-41.21554183959961,-41.21554183959961,-41.21554183959961,-41.21554183959961,-41.21554183959961,-41.21554183959961,-41.21554183959961],[-38.414485931396484,-38.414485931396484,-38.414485931396484,-38.414485931396484,-38.414485931396484,-38.414485931396484,-38.414485931396484,-38.414485931396484,-38.414485931396484,-38.414485931396484,-38.414485931396484,-38.414485931396484,-38.414485931396484,-38.414485931396484,-38.414485931396484,-38.414485931396484,-38.414485931396484,-38.414485931396484,-38.414485931396484,-38.414485931396484,-38.414485931396484,-38.414485931396484,-38.414485931396484,-38.414485931396484,-38.414485931396484,-38.414485931396484,-38.414485931396484,-38.414485931396484,-38.414485931396484,-38.414485931396484,-38.414485931396484,-38.414485931396484,-38.414485931396484,-38.414485931396484,-38.414485931396484,-38.414485931396484,-38.414485931396484,-38.414485931396484,-38.414485931396484,-38.414485931396484,-38.414485931396484],[-20.72736358642578,-20.72736358642578,-20.72736358642578,-20.72736358642578,-20.72736358642578,-20.72736358642578,-20.72736358642578,-20.72736358642578,-20.72736358642578,-20.72736358642578,-20.72736358642578,-20.72736358642578,-20.72736358642578,-20.72736358642578,-20.72736358642578,-20.72736358642578,-20.72736358642578,-20.72736358642578,-20.72736358642578,-20.72736358642578,-20.72736358642578,-20.72736358642578,-20.72736358642578,-20.72736358642578,-20.72736358642578,-20.72736358642578,-20.72736358642578,-20.72736358642578,-20.72736358642578,-20.72736358642578,-20.72736358642578,-20.72736358642578,-20.72736358642578,-20.72736358642578,-20.72736358642578,-20.72736358642578,-20.72736358642578,-20.72736358642578,-20.72736358642578,-20.72736358642578,-20.72736358642578],[-35.389774322509766,-35.389774322509766,-35.389774322509766,-35.389774322509766,-35.389774322509766,-35.389774322509766,-35.389774322509766,-35.389774322509766,-35.389774322509766,-35.389774322509766,-35.389774322509766,-35.389774322509766,-35.389774322509766,-35.389774322509766,-35.389774322509766,-35.389774322509766,-35.389774322509766,-35.389774322509766,-35.389774322509766,-35.389774322509766,-35.389774322509766,-35.389774322509766,-35.389774322509766,-35.389774322509766,-35.389774322509766,-35.389774322509766,-35.389774322509766,-35.389774322509766,-35.389774322509766,-35.389774322509766,-35.389774322509766,-35.389774322509766,-35.389774322509766,-35.389774322509766,-35.389774322509766,-35.389774322509766,-35.389774322509766,-35.389774322509766,-35.389774322509766,-35.389774322509766,-35.389774322509766],[-33.7019157409668,-33.7019157409668,-33.7019157409668,-33.7019157409668,-33.7019157409668,-33.7019157409668,-33.7019157409668,-33.7019157409668,-33.7019157409668,-33.7019157409668,-33.7019157409668,-33.7019157409668,-33.7019157409668,-33.7019157409668,-33.7019157409668,-33.7019157409668,-33.7019157409668,-33.7019157409668,-33.7019157409668,-33.7019157409668,-33.7019157409668,-33.7019157409668,-33.7019157409668,-33.7019157409668,-33.7019157409668,-33.7019157409668,-33.7019157409668,-33.7019157409668,-33.7019157409668,-33.7019157409668,-33.7019157409668,-33.7019157409668,-33.7019157409668,-33.7019157409668,-33.7019157409668,-33.7019157409668,-33.7019157409668,-33.7019157409668,-33.7019157409668,-33.7019157409668,-33.7019157409668],[-44.78915786743164,-44.78915786743164,-44.78915786743164,-44.78915786743164,-44.78915786743164,-44.78915786743164,-44.78915786743164,-44.78915786743164,-44.78915786743164,-44.78915786743164,-44.78915786743164,-44.78915786743164,-44.78915786743164,-44.78915786743164,-44.78915786743164,-44.78915786743164,-44.78915786743164,-44.78915786743164,-44.78915786743164,-44.78915786743164,-44.78915786743164,-44.78915786743164,-44.78915786743164,-44.78915786743164,-44.78915786743164,-44.78915786743164,-44.78915786743164,-44.78915786743164,-44.78915786743164,-44.78915786743164,-44.78915786743164,-44.78915786743164,-44.78915786743164,-44.78915786743164,-44.78915786743164,-44.78915786743164,-44.78915786743164,-44.78915786743164,-44.78915786743164,-44.78915786743164,-44.78915786743164],[-30.74164581298828,-30.74164581298828,-30.74164581298828,-30.74164581298828,-30.74164581298828,-30.74164581298828,-30.74164581298828,-30.74164581298828,-30.74164581298828,-30.74164581298828,-30.74164581298828,-30.74164581298828,-30.74164581298828,-30.74164581298828,-30.74164581298828,-30.74164581298828,-30.74164581298828,-30.74164581298828,-30.74164581298828,-30.74164581298828,-30.74164581298828,-30.74164581298828,-30.74164581298828,-30.74164581298828,-30.74164581298828,-30.74164581298828,-30.74164581298828,-30.74164581298828,-30.74164581298828,-30.74164581298828,-30.74164581298828,-30.74164581298828,-30.74164581298828,-30.74164581298828,-30.74164581298828,-30.74164581298828,-30.74164581298828,-30.74164581298828,-30.74164581298828,-30.74164581298828,-30.74164581298828],[-43.7183952331543,-43.7183952331543,-43.7183952331543,-43.7183952331543,-43.7183952331543,-43.7183952331543,-43.7183952331543,-43.7183952331543,-43.7183952331543,-43.7183952331543,-43.7183952331543,-43.7183952331543,-43.7183952331543,-43.7183952331543,-43.7183952331543,-43.7183952331543,-43.7183952331543,-43.7183952331543,-43.7183952331543,-43.7183952331543,-43.7183952331543,-43.7183952331543,-43.7183952331543,-43.7183952331543,-43.7183952331543,-43.7183952331543,-43.7183952331543,-43.7183952331543,-43.7183952331543,-43.7183952331543,-43.7183952331543,-43.7183952331543,-43.7183952331543,-43.7183952331543,-43.7183952331543,-43.7183952331543,-43.7183952331543,-43.7183952331543,-43.7183952331543,-43.7183952331543,-43.7183952331543],[-41.560096740722656,-41.560096740722656,-41.560096740722656,-41.560096740722656,-41.560096740722656,-41.560096740722656,-41.560096740722656,-41.560096740722656,-41.560096740722656,-41.560096740722656,-41.560096740722656,-41.560096740722656,-41.560096740722656,-41.560096740722656,-41.560096740722656,-41.560096740722656,-41.560096740722656,-41.560096740722656,-41.560096740722656,-41.560096740722656,-41.560096740722656,-41.560096740722656,-41.560096740722656,-41.560096740722656,-41.560096740722656,-41.560096740722656,-41.560096740722656,-41.560096740722656,-41.560096740722656,-41.560096740722656,-41.560096740722656,-41.560096740722656,-41.560096740722656,-41.560096740722656,-41.560096740722656,-41.560096740722656,-41.560096740722656,-41.560096740722656,-41.560096740722656,-41.560096740722656,-41.560096740722656],[-41.52228927612305,-41.52228927612305,-41.52228927612305,-41.52228927612305,-41.52228927612305,-41.52228927612305,-41.52228927612305,-41.52228927612305,-41.52228927612305,-41.52228927612305,-41.52228927612305,-41.52228927612305,-41.52228927612305,-41.52228927612305,-41.52228927612305,-41.52228927612305,-41.52228927612305,-41.52228927612305,-41.52228927612305,-41.52228927612305,-41.52228927612305,-41.52228927612305,-41.52228927612305,-41.52228927612305,-41.52228927612305,-41.52228927612305,-41.52228927612305,-41.52228927612305,-41.52228927612305,-41.52228927612305,-41.52228927612305,-41.52228927612305,-41.52228927612305,-41.52228927612305,-41.52228927612305,-41.52228927612305,-41.52228927612305,-41.52228927612305,-41.52228927612305,-41.52228927612305,-41.52228927612305],[-36.82938766479492,-36.82938766479492,-36.82938766479492,-36.82938766479492,-36.82938766479492,-36.82938766479492,-36.82938766479492,-36.82938766479492,-36.82938766479492,-36.82938766479492,-36.82938766479492,-36.82938766479492,-36.82938766479492,-36.82938766479492,-36.82938766479492,-36.82938766479492,-36.82938766479492,-36.82938766479492,-36.82938766479492,-36.82938766479492,-36.82938766479492,-36.82938766479492,-36.82938766479492,-36.82938766479492,-36.82938766479492,-36.82938766479492,-36.82938766479492,-36.82938766479492,-36.82938766479492,-36.82938766479492,-36.82938766479492,-36.82938766479492,-36.82938766479492,-36.82938766479492,-36.82938766479492,-36.82938766479492,-36.82938766479492,-36.82938766479492,-36.82938766479492,-36.82938766479492,-36.82938766479492],[-48.679805755615234,-48.679805755615234,-48.679805755615234,-48.679805755615234,-48.679805755615234,-48.679805755615234,-48.679805755615234,-48.679805755615234,-48.679805755615234,-48.679805755615234,-48.679805755615234,-48.679805755615234,-48.679805755615234,-48.679805755615234,-48.679805755615234,-48.679805755615234,-48.679805755615234,-48.679805755615234,-48.679805755615234,-48.679805755615234,-48.679805755615234,-48.679805755615234,-48.679805755615234,-48.679805755615234,-48.679805755615234,-48.679805755615234,-48.679805755615234,-48.679805755615234,-48.679805755615234,-48.679805755615234,-48.679805755615234,-48.679805755615234,-48.679805755615234,-48.679805755615234,-48.679805755615234,-48.679805755615234,-48.679805755615234,-48.679805755615234,-48.679805755615234,-48.679805755615234,-48.679805755615234],[-47.72362518310547,-47.72362518310547,-47.72362518310547,-47.72362518310547,-47.72362518310547,-47.72362518310547,-47.72362518310547,-47.72362518310547,-47.72362518310547,-47.72362518310547,-47.72362518310547,-47.72362518310547,-47.72362518310547,-47.72362518310547,-47.72362518310547,-47.72362518310547,-47.72362518310547,-47.72362518310547,-47.72362518310547,-47.72362518310547,-47.72362518310547,-47.72362518310547,-47.72362518310547,-47.72362518310547,-47.72362518310547,-47.72362518310547,-47.72362518310547,-47.72362518310547,-47.72362518310547,-47.72362518310547,-47.72362518310547,-47.72362518310547,-47.72362518310547,-47.72362518310547,-47.72362518310547,-47.72362518310547,-47.72362518310547,-47.72362518310547,-47.72362518310547,-47.72362518310547,-47.72362518310547],[-44.469844818115234,-44.469844818115234,-44.469844818115234,-44.469844818115234,-44.469844818115234,-44.469844818115234,-44.469844818115234,-44.469844818115234,-44.469844818115234,-44.469844818115234,-44.469844818115234,-44.469844818115234,-44.469844818115234,-44.469844818115234,-44.469844818115234,-44.469844818115234,-44.469844818115234,-44.469844818115234,-44.469844818115234,-44.469844818115234,-44.469844818115234,-44.469844818115234,-44.469844818115234,-44.469844818115234,-44.469844818115234,-44.469844818115234,-44.469844818115234,-44.469844818115234,-44.469844818115234,-44.469844818115234,-44.469844818115234,-44.469844818115234,-44.469844818115234,-44.469844818115234,-44.469844818115234,-44.469844818115234,-44.469844818115234,-44.469844818115234,-44.469844818115234,-44.469844818115234,-44.469844818115234],[-38.855140686035156,-38.855140686035156,-38.855140686035156,-38.855140686035156,-38.855140686035156,-38.855140686035156,-38.855140686035156,-38.855140686035156,-38.855140686035156,-38.855140686035156,-38.855140686035156,-38.855140686035156,-38.855140686035156,-38.855140686035156,-38.855140686035156,-38.855140686035156,-38.855140686035156,-38.855140686035156,-38.855140686035156,-38.855140686035156,-38.855140686035156,-38.855140686035156,-38.855140686035156,-38.855140686035156,-38.855140686035156,-38.855140686035156,-38.855140686035156,-38.855140686035156,-38.855140686035156,-38.855140686035156,-38.855140686035156,-38.855140686035156,-38.855140686035156,-38.855140686035156,-38.855140686035156,-38.855140686035156,-38.855140686035156,-38.855140686035156,-38.855140686035156,-38.855140686035156,-38.855140686035156],[-39.39299392700195,-39.39299392700195,-39.39299392700195,-39.39299392700195,-39.39299392700195,-39.39299392700195,-39.39299392700195,-39.39299392700195,-39.39299392700195,-39.39299392700195,-39.39299392700195,-39.39299392700195,-39.39299392700195,-39.39299392700195,-39.39299392700195,-39.39299392700195,-39.39299392700195,-39.39299392700195,-39.39299392700195,-39.39299392700195,-39.39299392700195,-39.39299392700195,-39.39299392700195,-39.39299392700195,-39.39299392700195,-39.39299392700195,-39.39299392700195,-39.39299392700195,-39.39299392700195,-39.39299392700195,-39.39299392700195,-39.39299392700195,-39.39299392700195,-39.39299392700195,-39.39299392700195,-39.39299392700195,-39.39299392700195,-39.39299392700195,-39.39299392700195,-39.39299392700195,-39.39299392700195],[-37.4988899230957,-37.4988899230957,-37.4988899230957,-37.4988899230957,-37.4988899230957,-37.4988899230957,-37.4988899230957,-37.4988899230957,-37.4988899230957,-37.4988899230957,-37.4988899230957,-37.4988899230957,-37.4988899230957,-37.4988899230957,-37.4988899230957,-37.4988899230957,-37.4988899230957,-37.4988899230957,-37.4988899230957,-37.4988899230957,-37.4988899230957,-37.4988899230957,-37.4988899230957,-37.4988899230957,-37.4988899230957,-37.4988899230957,-37.4988899230957,-37.4988899230957,-37.4988899230957,-37.4988899230957,-37.4988899230957,-37.4988899230957,-37.4988899230957,-37.4988899230957,-37.4988899230957,-37.4988899230957,-37.4988899230957,-37.4988899230957,-37.4988899230957,-37.4988899230957,-37.4988899230957],[-47.07664108276367,-47.07664108276367,-47.07664108276367,-47.07664108276367,-47.07664108276367,-47.07664108276367,-47.07664108276367,-47.07664108276367,-47.07664108276367,-47.07664108276367,-47.07664108276367,-47.07664108276367,-47.07664108276367,-47.07664108276367,-47.07664108276367,-47.07664108276367,-47.07664108276367,-47.07664108276367,-47.07664108276367,-47.07664108276367,-47.07664108276367,-47.07664108276367,-47.07664108276367,-47.07664108276367,-47.07664108276367,-47.07664108276367,-47.07664108276367,-47.07664108276367,-47.07664108276367,-47.07664108276367,-47.07664108276367,-47.07664108276367,-47.07664108276367,-47.07664108276367,-47.07664108276367,-47.07664108276367,-47.07664108276367,-47.07664108276367,-47.07664108276367,-47.07664108276367,-47.07664108276367],[-48.29534149169922,-48.29534149169922,-48.29534149169922,-48.29534149169922,-48.29534149169922,-48.29534149169922,-48.29534149169922,-48.29534149169922,-48.29534149169922,-48.29534149169922,-48.29534149169922,-48.29534149169922,-48.29534149169922,-48.29534149169922,-48.29534149169922,-48.29534149169922,-48.29534149169922,-48.29534149169922,-48.29534149169922,-48.29534149169922,-48.29534149169922,-48.29534149169922,-48.29534149169922,-48.29534149169922,-48.29534149169922,-48.29534149169922,-48.29534149169922,-48.29534149169922,-48.29534149169922,-48.29534149169922,-48.29534149169922,-48.29534149169922,-48.29534149169922,-48.29534149169922,-48.29534149169922,-48.29534149169922,-48.29534149169922,-48.29534149169922,-48.29534149169922,-48.29534149169922,-48.29534149169922],[-44.6097297668457,-44.6097297668457,-44.6097297668457,-44.6097297668457,-44.6097297668457,-44.6097297668457,-44.6097297668457,-44.6097297668457,-44.6097297668457,-44.6097297668457,-44.6097297668457,-44.6097297668457,-44.6097297668457,-44.6097297668457,-44.6097297668457,-44.6097297668457,-44.6097297668457,-44.6097297668457,-44.6097297668457,-44.6097297668457,-44.6097297668457,-44.6097297668457,-44.6097297668457,-44.6097297668457,-44.6097297668457,-44.6097297668457,-44.6097297668457,-44.6097297668457,-44.6097297668457,-44.6097297668457,-44.6097297668457,-44.6097297668457,-44.6097297668457,-44.6097297668457,-44.6097297668457,-44.6097297668457,-44.6097297668457,-44.6097297668457,-44.6097297668457,-44.6097297668457,-44.6097297668457],[-25.59579849243164,-25.59579849243164,-25.59579849243164,-25.59579849243164,-25.59579849243164,-25.59579849243164,-25.59579849243164,-25.59579849243164,-25.59579849243164,-25.59579849243164,-25.59579849243164,-25.59579849243164,-25.59579849243164,-25.59579849243164,-25.59579849243164,-25.59579849243164,-25.59579849243164,-25.59579849243164,-25.59579849243164,-25.59579849243164,-25.59579849243164,-25.59579849243164,-25.59579849243164,-25.59579849243164,-25.59579849243164,-25.59579849243164,-25.59579849243164,-25.59579849243164,-25.59579849243164,-25.59579849243164,-25.59579849243164,-25.59579849243164,-25.59579849243164,-25.59579849243164,-25.59579849243164,-25.59579849243164,-25.59579849243164,-25.59579849243164,-25.59579849243164,-25.59579849243164,-25.59579849243164],[-33.136783599853516,-33.136783599853516,-33.136783599853516,-33.136783599853516,-33.136783599853516,-33.136783599853516,-33.136783599853516,-33.136783599853516,-33.136783599853516,-33.136783599853516,-33.136783599853516,-33.136783599853516,-33.136783599853516,-33.136783599853516,-33.136783599853516,-33.136783599853516,-33.136783599853516,-33.136783599853516,-33.136783599853516,-33.136783599853516,-33.136783599853516,-33.136783599853516,-33.136783599853516,-33.136783599853516,-33.136783599853516,-33.136783599853516,-33.136783599853516,-33.136783599853516,-33.136783599853516,-33.136783599853516,-33.136783599853516,-33.136783599853516,-33.136783599853516,-33.136783599853516,-33.136783599853516,-33.136783599853516,-33.136783599853516,-33.136783599853516,-33.136783599853516,-33.136783599853516,-33.136783599853516],[-33.446537017822266,-33.446537017822266,-33.446537017822266,-33.446537017822266,-33.446537017822266,-33.446537017822266,-33.446537017822266,-33.446537017822266,-33.446537017822266,-33.446537017822266,-33.446537017822266,-33.446537017822266,-33.446537017822266,-33.446537017822266,-33.446537017822266,-33.446537017822266,-33.446537017822266,-33.446537017822266,-33.446537017822266,-33.446537017822266,-33.446537017822266,-33.446537017822266,-33.446537017822266,-33.446537017822266,-33.446537017822266,-33.446537017822266,-33.446537017822266,-33.446537017822266,-33.446537017822266,-33.446537017822266,-33.446537017822266,-33.446537017822266,-33.446537017822266,-33.446537017822266,-33.446537017822266,-33.446537017822266,-33.446537017822266,-33.446537017822266,-33.446537017822266,-33.446537017822266,-33.446537017822266],[-27.5658016204834,-27.5658016204834,-27.5658016204834,-27.5658016204834,-27.5658016204834,-27.5658016204834,-27.5658016204834,-27.5658016204834,-27.5658016204834,-27.5658016204834,-27.5658016204834,-27.5658016204834,-27.5658016204834,-27.5658016204834,-27.5658016204834,-27.5658016204834,-27.5658016204834,-27.5658016204834,-27.5658016204834,-27.5658016204834,-27.5658016204834,-27.5658016204834,-27.5658016204834,-27.5658016204834,-27.5658016204834,-27.5658016204834,-27.5658016204834,-27.5658016204834,-27.5658016204834,-27.5658016204834,-27.5658016204834,-27.5658016204834,-27.5658016204834,-27.5658016204834,-27.5658016204834,-27.5658016204834,-27.5658016204834,-27.5658016204834,-27.5658016204834,-27.5658016204834,-27.5658016204834],[-44.1061897277832,-44.1061897277832,-44.1061897277832,-44.1061897277832,-44.1061897277832,-44.1061897277832,-44.1061897277832,-44.1061897277832,-44.1061897277832,-44.1061897277832,-44.1061897277832,-44.1061897277832,-44.1061897277832,-44.1061897277832,-44.1061897277832,-44.1061897277832,-44.1061897277832,-44.1061897277832,-44.1061897277832,-44.1061897277832,-44.1061897277832,-44.1061897277832,-44.1061897277832,-44.1061897277832,-44.1061897277832,-44.1061897277832,-44.1061897277832,-44.1061897277832,-44.1061897277832,-44.1061897277832,-44.1061897277832,-44.1061897277832,-44.1061897277832,-44.1061897277832,-44.1061897277832,-44.1061897277832,-44.1061897277832,-44.1061897277832,-44.1061897277832,-44.1061897277832,-44.1061897277832],[-47.67965316772461,-47.67965316772461,-47.67965316772461,-47.67965316772461,-47.67965316772461,-47.67965316772461,-47.67965316772461,-47.67965316772461,-47.67965316772461,-47.67965316772461,-47.67965316772461,-47.67965316772461,-47.67965316772461,-47.67965316772461,-47.67965316772461,-47.67965316772461,-47.67965316772461,-47.67965316772461,-47.67965316772461,-47.67965316772461,-47.67965316772461,-47.67965316772461,-47.67965316772461,-47.67965316772461,-47.67965316772461,-47.67965316772461,-47.67965316772461,-47.67965316772461,-47.67965316772461,-47.67965316772461,-47.67965316772461,-47.67965316772461,-47.67965316772461,-47.67965316772461,-47.67965316772461,-47.67965316772461,-47.67965316772461,-47.67965316772461,-47.67965316772461,-47.67965316772461,-47.67965316772461],[-41.101600646972656,-41.101600646972656,-41.101600646972656,-41.101600646972656,-41.101600646972656,-41.101600646972656,-41.101600646972656,-41.101600646972656,-41.101600646972656,-41.101600646972656,-41.101600646972656,-41.101600646972656,-41.101600646972656,-41.101600646972656,-41.101600646972656,-41.101600646972656,-41.101600646972656,-41.101600646972656,-41.101600646972656,-41.101600646972656,-41.101600646972656,-41.101600646972656,-41.101600646972656,-41.101600646972656,-41.101600646972656,-41.101600646972656,-41.101600646972656,-41.101600646972656,-41.101600646972656,-41.101600646972656,-41.101600646972656,-41.101600646972656,-41.101600646972656,-41.101600646972656,-41.101600646972656,-41.101600646972656,-41.101600646972656,-41.101600646972656,-41.101600646972656,-41.101600646972656,-41.101600646972656],[-41.05727767944336,-41.05727767944336,-41.05727767944336,-41.05727767944336,-41.05727767944336,-41.05727767944336,-41.05727767944336,-41.05727767944336,-41.05727767944336,-41.05727767944336,-41.05727767944336,-41.05727767944336,-41.05727767944336,-41.05727767944336,-41.05727767944336,-41.05727767944336,-41.05727767944336,-41.05727767944336,-41.05727767944336,-41.05727767944336,-41.05727767944336,-41.05727767944336,-41.05727767944336,-41.05727767944336,-41.05727767944336,-41.05727767944336,-41.05727767944336,-41.05727767944336,-41.05727767944336,-41.05727767944336,-41.05727767944336,-41.05727767944336,-41.05727767944336,-41.05727767944336,-41.05727767944336,-41.05727767944336,-41.05727767944336,-41.05727767944336,-41.05727767944336,-41.05727767944336,-41.05727767944336],[-46.61212921142578,-46.61212921142578,-46.61212921142578,-46.61212921142578,-46.61212921142578,-46.61212921142578,-46.61212921142578,-46.61212921142578,-46.61212921142578,-46.61212921142578,-46.61212921142578,-46.61212921142578,-46.61212921142578,-46.61212921142578,-46.61212921142578,-46.61212921142578,-46.61212921142578,-46.61212921142578,-46.61212921142578,-46.61212921142578,-46.61212921142578,-46.61212921142578,-46.61212921142578,-46.61212921142578,-46.61212921142578,-46.61212921142578,-46.61212921142578,-46.61212921142578,-46.61212921142578,-46.61212921142578,-46.61212921142578,-46.61212921142578,-46.61212921142578,-46.61212921142578,-46.61212921142578,-46.61212921142578,-46.61212921142578,-46.61212921142578,-46.61212921142578,-46.61212921142578,-46.61212921142578],[-30.615341186523438,-30.615341186523438,-30.615341186523438,-30.615341186523438,-30.615341186523438,-30.615341186523438,-30.615341186523438,-30.615341186523438,-30.615341186523438,-30.615341186523438,-30.615341186523438,-30.615341186523438,-30.615341186523438,-30.615341186523438,-30.615341186523438,-30.615341186523438,-30.615341186523438,-30.615341186523438,-30.615341186523438,-30.615341186523438,-30.615341186523438,-30.615341186523438,-30.615341186523438,-30.615341186523438,-30.615341186523438,-30.615341186523438,-30.615341186523438,-30.615341186523438,-30.615341186523438,-30.615341186523438,-30.615341186523438,-30.615341186523438,-30.615341186523438,-30.615341186523438,-30.615341186523438,-30.615341186523438,-30.615341186523438,-30.615341186523438,-30.615341186523438,-30.615341186523438,-30.615341186523438],[-31.07367515563965,-31.07367515563965,-31.07367515563965,-31.07367515563965,-31.07367515563965,-31.07367515563965,-31.07367515563965,-31.07367515563965,-31.07367515563965,-31.07367515563965,-31.07367515563965,-31.07367515563965,-31.07367515563965,-31.07367515563965,-31.07367515563965,-31.07367515563965,-31.07367515563965,-31.07367515563965,-31.07367515563965,-31.07367515563965,-31.07367515563965,-31.07367515563965,-31.07367515563965,-31.07367515563965,-31.07367515563965,-31.07367515563965,-31.07367515563965,-31.07367515563965,-31.07367515563965,-31.07367515563965,-31.07367515563965,-31.07367515563965,-31.07367515563965,-31.07367515563965,-31.07367515563965,-31.07367515563965,-31.07367515563965,-31.07367515563965,-31.07367515563965,-31.07367515563965,-31.07367515563965],[-48.20662307739258,-48.20662307739258,-48.20662307739258,-48.20662307739258,-48.20662307739258,-48.20662307739258,-48.20662307739258,-48.20662307739258,-48.20662307739258,-48.20662307739258,-48.20662307739258,-48.20662307739258,-48.20662307739258,-48.20662307739258,-48.20662307739258,-48.20662307739258,-48.20662307739258,-48.20662307739258,-48.20662307739258,-48.20662307739258,-48.20662307739258,-48.20662307739258,-48.20662307739258,-48.20662307739258,-48.20662307739258,-48.20662307739258,-48.20662307739258,-48.20662307739258,-48.20662307739258,-48.20662307739258,-48.20662307739258,-48.20662307739258,-48.20662307739258,-48.20662307739258,-48.20662307739258,-48.20662307739258,-48.20662307739258,-48.20662307739258,-48.20662307739258,-48.20662307739258,-48.20662307739258],[-41.091583251953125,-41.091583251953125,-41.091583251953125,-41.091583251953125,-41.091583251953125,-41.091583251953125,-41.091583251953125,-41.091583251953125,-41.091583251953125,-41.091583251953125,-41.091583251953125,-41.091583251953125,-41.091583251953125,-41.091583251953125,-41.091583251953125,-41.091583251953125,-41.091583251953125,-41.091583251953125,-41.091583251953125,-41.091583251953125,-41.091583251953125,-41.091583251953125,-41.091583251953125,-41.091583251953125,-41.091583251953125,-41.091583251953125,-41.091583251953125,-41.091583251953125,-41.091583251953125,-41.091583251953125,-41.091583251953125,-41.091583251953125,-41.091583251953125,-41.091583251953125,-41.091583251953125,-41.091583251953125,-41.091583251953125,-41.091583251953125,-41.091583251953125,-41.091583251953125,-41.091583251953125],[-37.840187072753906,-37.840187072753906,-37.840187072753906,-37.840187072753906,-37.840187072753906,-37.840187072753906,-37.840187072753906,-37.840187072753906,-37.840187072753906,-37.840187072753906,-37.840187072753906,-37.840187072753906,-37.840187072753906,-37.840187072753906,-37.840187072753906,-37.840187072753906,-37.840187072753906,-37.840187072753906,-37.840187072753906,-37.840187072753906,-37.840187072753906,-37.840187072753906,-37.840187072753906,-37.840187072753906,-37.840187072753906,-37.840187072753906,-37.840187072753906,-37.840187072753906,-37.840187072753906,-37.840187072753906,-37.840187072753906,-37.840187072753906,-37.840187072753906,-37.840187072753906,-37.840187072753906,-37.840187072753906,-37.840187072753906,-37.840187072753906,-37.840187072753906,-37.840187072753906,-37.840187072753906]],\"z\":[-24.23977279663086,-17.128454208374023,-6.535207271575928,4.27197790145874,6.509524822235107,-7.184056758880615,2.235870599746704,8.27584171295166,4.033866882324219,-2.392547369003296,-15.944342613220215,-11.827692031860352,-6.617502689361572,-26.646982192993164,-3.1448447704315186,9.729559898376465,-11.153026580810547,-5.1875786781311035,5.413745403289795,7.971642017364502,-0.18605059385299683,-15.564414978027344,-12.474129676818848,-15.090561866760254,3.691462993621826,0.7102673649787903,-0.6560985445976257,-29.465900421142578,-20.114748001098633,-20.24866485595703,-26.284530639648438,0.10903578996658325,3.674560070037842,-11.635180473327637,-9.626431465148926,2.574803590774536,0.9227818250656128,-25.619373321533203,5.355257511138916,2.3838067054748535,3.218309164047241],\"type\":\"surface\"}],                        {\"template\":{\"data\":{\"histogram2dcontour\":[{\"type\":\"histogram2dcontour\",\"colorbar\":{\"outlinewidth\":0,\"ticks\":\"\"},\"colorscale\":[[0.0,\"#0d0887\"],[0.1111111111111111,\"#46039f\"],[0.2222222222222222,\"#7201a8\"],[0.3333333333333333,\"#9c179e\"],[0.4444444444444444,\"#bd3786\"],[0.5555555555555556,\"#d8576b\"],[0.6666666666666666,\"#ed7953\"],[0.7777777777777778,\"#fb9f3a\"],[0.8888888888888888,\"#fdca26\"],[1.0,\"#f0f921\"]]}],\"choropleth\":[{\"type\":\"choropleth\",\"colorbar\":{\"outlinewidth\":0,\"ticks\":\"\"}}],\"histogram2d\":[{\"type\":\"histogram2d\",\"colorbar\":{\"outlinewidth\":0,\"ticks\":\"\"},\"colorscale\":[[0.0,\"#0d0887\"],[0.1111111111111111,\"#46039f\"],[0.2222222222222222,\"#7201a8\"],[0.3333333333333333,\"#9c179e\"],[0.4444444444444444,\"#bd3786\"],[0.5555555555555556,\"#d8576b\"],[0.6666666666666666,\"#ed7953\"],[0.7777777777777778,\"#fb9f3a\"],[0.8888888888888888,\"#fdca26\"],[1.0,\"#f0f921\"]]}],\"heatmap\":[{\"type\":\"heatmap\",\"colorbar\":{\"outlinewidth\":0,\"ticks\":\"\"},\"colorscale\":[[0.0,\"#0d0887\"],[0.1111111111111111,\"#46039f\"],[0.2222222222222222,\"#7201a8\"],[0.3333333333333333,\"#9c179e\"],[0.4444444444444444,\"#bd3786\"],[0.5555555555555556,\"#d8576b\"],[0.6666666666666666,\"#ed7953\"],[0.7777777777777778,\"#fb9f3a\"],[0.8888888888888888,\"#fdca26\"],[1.0,\"#f0f921\"]]}],\"heatmapgl\":[{\"type\":\"heatmapgl\",\"colorbar\":{\"outlinewidth\":0,\"ticks\":\"\"},\"colorscale\":[[0.0,\"#0d0887\"],[0.1111111111111111,\"#46039f\"],[0.2222222222222222,\"#7201a8\"],[0.3333333333333333,\"#9c179e\"],[0.4444444444444444,\"#bd3786\"],[0.5555555555555556,\"#d8576b\"],[0.6666666666666666,\"#ed7953\"],[0.7777777777777778,\"#fb9f3a\"],[0.8888888888888888,\"#fdca26\"],[1.0,\"#f0f921\"]]}],\"contourcarpet\":[{\"type\":\"contourcarpet\",\"colorbar\":{\"outlinewidth\":0,\"ticks\":\"\"}}],\"contour\":[{\"type\":\"contour\",\"colorbar\":{\"outlinewidth\":0,\"ticks\":\"\"},\"colorscale\":[[0.0,\"#0d0887\"],[0.1111111111111111,\"#46039f\"],[0.2222222222222222,\"#7201a8\"],[0.3333333333333333,\"#9c179e\"],[0.4444444444444444,\"#bd3786\"],[0.5555555555555556,\"#d8576b\"],[0.6666666666666666,\"#ed7953\"],[0.7777777777777778,\"#fb9f3a\"],[0.8888888888888888,\"#fdca26\"],[1.0,\"#f0f921\"]]}],\"surface\":[{\"type\":\"surface\",\"colorbar\":{\"outlinewidth\":0,\"ticks\":\"\"},\"colorscale\":[[0.0,\"#0d0887\"],[0.1111111111111111,\"#46039f\"],[0.2222222222222222,\"#7201a8\"],[0.3333333333333333,\"#9c179e\"],[0.4444444444444444,\"#bd3786\"],[0.5555555555555556,\"#d8576b\"],[0.6666666666666666,\"#ed7953\"],[0.7777777777777778,\"#fb9f3a\"],[0.8888888888888888,\"#fdca26\"],[1.0,\"#f0f921\"]]}],\"mesh3d\":[{\"type\":\"mesh3d\",\"colorbar\":{\"outlinewidth\":0,\"ticks\":\"\"}}],\"scatter\":[{\"fillpattern\":{\"fillmode\":\"overlay\",\"size\":10,\"solidity\":0.2},\"type\":\"scatter\"}],\"parcoords\":[{\"type\":\"parcoords\",\"line\":{\"colorbar\":{\"outlinewidth\":0,\"ticks\":\"\"}}}],\"scatterpolargl\":[{\"type\":\"scatterpolargl\",\"marker\":{\"colorbar\":{\"outlinewidth\":0,\"ticks\":\"\"}}}],\"bar\":[{\"error_x\":{\"color\":\"#2a3f5f\"},\"error_y\":{\"color\":\"#2a3f5f\"},\"marker\":{\"line\":{\"color\":\"#E5ECF6\",\"width\":0.5},\"pattern\":{\"fillmode\":\"overlay\",\"size\":10,\"solidity\":0.2}},\"type\":\"bar\"}],\"scattergeo\":[{\"type\":\"scattergeo\",\"marker\":{\"colorbar\":{\"outlinewidth\":0,\"ticks\":\"\"}}}],\"scatterpolar\":[{\"type\":\"scatterpolar\",\"marker\":{\"colorbar\":{\"outlinewidth\":0,\"ticks\":\"\"}}}],\"histogram\":[{\"marker\":{\"pattern\":{\"fillmode\":\"overlay\",\"size\":10,\"solidity\":0.2}},\"type\":\"histogram\"}],\"scattergl\":[{\"type\":\"scattergl\",\"marker\":{\"colorbar\":{\"outlinewidth\":0,\"ticks\":\"\"}}}],\"scatter3d\":[{\"type\":\"scatter3d\",\"line\":{\"colorbar\":{\"outlinewidth\":0,\"ticks\":\"\"}},\"marker\":{\"colorbar\":{\"outlinewidth\":0,\"ticks\":\"\"}}}],\"scattermapbox\":[{\"type\":\"scattermapbox\",\"marker\":{\"colorbar\":{\"outlinewidth\":0,\"ticks\":\"\"}}}],\"scatterternary\":[{\"type\":\"scatterternary\",\"marker\":{\"colorbar\":{\"outlinewidth\":0,\"ticks\":\"\"}}}],\"scattercarpet\":[{\"type\":\"scattercarpet\",\"marker\":{\"colorbar\":{\"outlinewidth\":0,\"ticks\":\"\"}}}],\"carpet\":[{\"aaxis\":{\"endlinecolor\":\"#2a3f5f\",\"gridcolor\":\"white\",\"linecolor\":\"white\",\"minorgridcolor\":\"white\",\"startlinecolor\":\"#2a3f5f\"},\"baxis\":{\"endlinecolor\":\"#2a3f5f\",\"gridcolor\":\"white\",\"linecolor\":\"white\",\"minorgridcolor\":\"white\",\"startlinecolor\":\"#2a3f5f\"},\"type\":\"carpet\"}],\"table\":[{\"cells\":{\"fill\":{\"color\":\"#EBF0F8\"},\"line\":{\"color\":\"white\"}},\"header\":{\"fill\":{\"color\":\"#C8D4E3\"},\"line\":{\"color\":\"white\"}},\"type\":\"table\"}],\"barpolar\":[{\"marker\":{\"line\":{\"color\":\"#E5ECF6\",\"width\":0.5},\"pattern\":{\"fillmode\":\"overlay\",\"size\":10,\"solidity\":0.2}},\"type\":\"barpolar\"}],\"pie\":[{\"automargin\":true,\"type\":\"pie\"}]},\"layout\":{\"autotypenumbers\":\"strict\",\"colorway\":[\"#636efa\",\"#EF553B\",\"#00cc96\",\"#ab63fa\",\"#FFA15A\",\"#19d3f3\",\"#FF6692\",\"#B6E880\",\"#FF97FF\",\"#FECB52\"],\"font\":{\"color\":\"#2a3f5f\"},\"hovermode\":\"closest\",\"hoverlabel\":{\"align\":\"left\"},\"paper_bgcolor\":\"white\",\"plot_bgcolor\":\"#E5ECF6\",\"polar\":{\"bgcolor\":\"#E5ECF6\",\"angularaxis\":{\"gridcolor\":\"white\",\"linecolor\":\"white\",\"ticks\":\"\"},\"radialaxis\":{\"gridcolor\":\"white\",\"linecolor\":\"white\",\"ticks\":\"\"}},\"ternary\":{\"bgcolor\":\"#E5ECF6\",\"aaxis\":{\"gridcolor\":\"white\",\"linecolor\":\"white\",\"ticks\":\"\"},\"baxis\":{\"gridcolor\":\"white\",\"linecolor\":\"white\",\"ticks\":\"\"},\"caxis\":{\"gridcolor\":\"white\",\"linecolor\":\"white\",\"ticks\":\"\"}},\"coloraxis\":{\"colorbar\":{\"outlinewidth\":0,\"ticks\":\"\"}},\"colorscale\":{\"sequential\":[[0.0,\"#0d0887\"],[0.1111111111111111,\"#46039f\"],[0.2222222222222222,\"#7201a8\"],[0.3333333333333333,\"#9c179e\"],[0.4444444444444444,\"#bd3786\"],[0.5555555555555556,\"#d8576b\"],[0.6666666666666666,\"#ed7953\"],[0.7777777777777778,\"#fb9f3a\"],[0.8888888888888888,\"#fdca26\"],[1.0,\"#f0f921\"]],\"sequentialminus\":[[0.0,\"#0d0887\"],[0.1111111111111111,\"#46039f\"],[0.2222222222222222,\"#7201a8\"],[0.3333333333333333,\"#9c179e\"],[0.4444444444444444,\"#bd3786\"],[0.5555555555555556,\"#d8576b\"],[0.6666666666666666,\"#ed7953\"],[0.7777777777777778,\"#fb9f3a\"],[0.8888888888888888,\"#fdca26\"],[1.0,\"#f0f921\"]],\"diverging\":[[0,\"#8e0152\"],[0.1,\"#c51b7d\"],[0.2,\"#de77ae\"],[0.3,\"#f1b6da\"],[0.4,\"#fde0ef\"],[0.5,\"#f7f7f7\"],[0.6,\"#e6f5d0\"],[0.7,\"#b8e186\"],[0.8,\"#7fbc41\"],[0.9,\"#4d9221\"],[1,\"#276419\"]]},\"xaxis\":{\"gridcolor\":\"white\",\"linecolor\":\"white\",\"ticks\":\"\",\"title\":{\"standoff\":15},\"zerolinecolor\":\"white\",\"automargin\":true,\"zerolinewidth\":2},\"yaxis\":{\"gridcolor\":\"white\",\"linecolor\":\"white\",\"ticks\":\"\",\"title\":{\"standoff\":15},\"zerolinecolor\":\"white\",\"automargin\":true,\"zerolinewidth\":2},\"scene\":{\"xaxis\":{\"backgroundcolor\":\"#E5ECF6\",\"gridcolor\":\"white\",\"linecolor\":\"white\",\"showbackground\":true,\"ticks\":\"\",\"zerolinecolor\":\"white\",\"gridwidth\":2},\"yaxis\":{\"backgroundcolor\":\"#E5ECF6\",\"gridcolor\":\"white\",\"linecolor\":\"white\",\"showbackground\":true,\"ticks\":\"\",\"zerolinecolor\":\"white\",\"gridwidth\":2},\"zaxis\":{\"backgroundcolor\":\"#E5ECF6\",\"gridcolor\":\"white\",\"linecolor\":\"white\",\"showbackground\":true,\"ticks\":\"\",\"zerolinecolor\":\"white\",\"gridwidth\":2}},\"shapedefaults\":{\"line\":{\"color\":\"#2a3f5f\"}},\"annotationdefaults\":{\"arrowcolor\":\"#2a3f5f\",\"arrowhead\":0,\"arrowwidth\":1},\"geo\":{\"bgcolor\":\"white\",\"landcolor\":\"#E5ECF6\",\"subunitcolor\":\"white\",\"showland\":true,\"showlakes\":true,\"lakecolor\":\"white\"},\"title\":{\"x\":0.05},\"mapbox\":{\"style\":\"light\"}}},\"scene\":{\"aspectmode\":\"cube\"}},                        {\"responsive\": true}                    ).then(function(){\n",
              "                            \n",
              "var gd = document.getElementById('d0690da2-ba24-4833-bdb5-500dfbe3f08e');\n",
              "var x = new MutationObserver(function (mutations, observer) {{\n",
              "        var display = window.getComputedStyle(gd).display;\n",
              "        if (!display || display === 'none') {{\n",
              "            console.log([gd, 'removed!']);\n",
              "            Plotly.purge(gd);\n",
              "            observer.disconnect();\n",
              "        }}\n",
              "}});\n",
              "\n",
              "// Listen for the removal of the full notebook cells\n",
              "var notebookContainer = gd.closest('#notebook-container');\n",
              "if (notebookContainer) {{\n",
              "    x.observe(notebookContainer, {childList: true});\n",
              "}}\n",
              "\n",
              "// Listen for the clearing of the current output cell\n",
              "var outputEl = gd.closest('.output');\n",
              "if (outputEl) {{\n",
              "    x.observe(outputEl, {childList: true});\n",
              "}}\n",
              "\n",
              "                        })                };                            </script>        </div>\n",
              "</body>\n",
              "</html>"
            ]
          },
          "metadata": {},
          "output_type": "display_data"
        }
      ],
      "source": [
        "import plotly.graph_objects as go\n",
        "\n",
        "x = xdata\n",
        "y = ydata\n",
        "X, Y = np.meshgrid(x, y)\n",
        "Z = zdata\n",
        "\n",
        "\n",
        "# Create a 3D surface plot\n",
        "fig = go.Figure(data=[go.Surface(z=Z, x=X, y=Y)])\n",
        "\n",
        "# Update the layout for better interactivity\n",
        "fig.update_layout(scene=dict(aspectmode='cube'))\n",
        "\n",
        "# Show the plot\n",
        "fig.show()"
      ]
    },
    {
      "cell_type": "code",
      "execution_count": null,
      "metadata": {
        "id": "HPTiS-7fXuwQ"
      },
      "outputs": [],
      "source": [
        "# Data for three-dimensional scattered points\n",
        "zdata=encoded_imgs_3D[:, 2]\n",
        "ydata=encoded_imgs_3D[:, 1]\n",
        "xdata=encoded_imgs_3D[:, 0]\n",
        "\n",
        "data_plot=[xdata,ydata,zdata,y_train]\n",
        "data_plot=np.transpose(data_plot)"
      ]
    },
    {
      "cell_type": "code",
      "execution_count": null,
      "metadata": {
        "id": "epzdjrLYY96M"
      },
      "outputs": [],
      "source": [
        "data_plot=pd.DataFrame(data_plot)\n",
        "data_plot.columns = ['xdata','ydata','zdata','y_train']"
      ]
    },
    {
      "cell_type": "code",
      "execution_count": null,
      "metadata": {
        "colab": {
          "base_uri": "https://localhost:8080/",
          "height": 542
        },
        "id": "XUV5rCT2QZD5",
        "outputId": "ace09fc8-eeab-453c-e8be-6399b6185ac4"
      },
      "outputs": [
        {
          "output_type": "display_data",
          "data": {
            "text/html": [
              "<html>\n",
              "<head><meta charset=\"utf-8\" /></head>\n",
              "<body>\n",
              "    <div>            <script src=\"https://cdnjs.cloudflare.com/ajax/libs/mathjax/2.7.5/MathJax.js?config=TeX-AMS-MML_SVG\"></script><script type=\"text/javascript\">if (window.MathJax && window.MathJax.Hub && window.MathJax.Hub.Config) {window.MathJax.Hub.Config({SVG: {font: \"STIX-Web\"}});}</script>                <script type=\"text/javascript\">window.PlotlyConfig = {MathJaxConfig: 'local'};</script>\n",
              "        <script charset=\"utf-8\" src=\"https://cdn.plot.ly/plotly-2.24.1.min.js\"></script>                <div id=\"2a906351-a7db-4a77-a9bf-f7dc9cdbb3dc\" class=\"plotly-graph-div\" style=\"height:525px; width:100%;\"></div>            <script type=\"text/javascript\">                                    window.PLOTLYENV=window.PLOTLYENV || {};                                    if (document.getElementById(\"2a906351-a7db-4a77-a9bf-f7dc9cdbb3dc\")) {                    Plotly.newPlot(                        \"2a906351-a7db-4a77-a9bf-f7dc9cdbb3dc\",                        [{\"hovertemplate\":\"xdata=%{x}\\u003cbr\\u003eydata=%{y}\\u003cbr\\u003ezdata=%{z}\\u003cbr\\u003ey_train=%{marker.color}\\u003cextra\\u003e\\u003c\\u002fextra\\u003e\",\"legendgroup\":\"\",\"marker\":{\"color\":[50.0,50.0,31.0,37.0,2.0,71.0,29.0,50.0,18.0,50.0,50.0,50.0,68.0,50.0,50.0,76.0,50.0,50.0,50.0,50.0,50.0,50.0,50.0,47.0,50.0,50.0,50.0,38.0,22.0,38.0,60.0,50.0,50.0,50.0,1.0,50.0,50.0,22.0,50.0,50.0,50.0,78.0,50.0,50.0,72.0,50.0,59.0,22.0,50.0,54.0,50.0,50.0,50.0,50.0,50.0,50.0,50.0,47.0,22.0,55.0,61.0,38.0,34.0,8.0,73.0,48.0,38.0,81.0,50.0,50.0,50.0,50.0,73.0,50.0,50.0,50.0,20.0,50.0,33.0,50.0,22.0,6.0,21.0,50.0,50.0,50.0,50.0,50.0,50.0,35.0,50.0,73.0,1.0,28.0,50.0,50.0,50.0,50.0,59.0,50.0,23.0,38.0,50.0,31.0,50.0,66.0,42.0,38.0,50.0,50.0,50.0,50.0,50.0,50.0,53.0,31.0,50.0,50.0,50.0,9.0,50.0,50.0,18.0,50.0,50.0,50.0,31.0,50.0,3.0,65.0,40.0,50.0,78.0,50.0,27.0,50.0,34.0,50.0,57.0,14.0,20.0,50.0,50.0,50.0,50.0,50.0,29.0,50.0,31.0,50.0,50.0,50.0,29.0,50.0,50.0,50.0,50.0,50.0,59.0,50.0,50.0,50.0,50.0,50.0,14.0,3.0,50.0,3.0,50.0,50.0,50.0,67.0,50.0,38.0,50.0,59.0,50.0,50.0,50.0,50.0,50.0,50.0,50.0,64.0,50.0,33.0,0.0,31.0,50.0,50.0,50.0,50.0,31.0,50.0,30.0,50.0,77.0,59.0,50.0,50.0,26.0,50.0,33.0,22.0,33.0,78.0,50.0,48.0,33.0,50.0,50.0,11.0,70.0,50.0,38.0,50.0,38.0,59.0,58.0,38.0,67.0,50.0,27.0,50.0,50.0,50.0,50.0,57.0,64.0,67.0,29.0,50.0,18.0,50.0,50.0,33.0,50.0,50.0,33.0,50.0,50.0,50.0,22.0,50.0,50.0,19.0,52.0,52.0,50.0,33.0,50.0,38.0,50.0,36.0,50.0,38.0,33.0,50.0,33.0,50.0,50.0,14.0,30.0,50.0,50.0,41.0,50.0,50.0,69.0,50.0,29.0,50.0,50.0,50.0,13.0,50.0,50.0,22.0,50.0,50.0,50.0,29.0,50.0,50.0,50.0,43.0,50.0,14.0,50.0,50.0,50.0,50.0,50.0,12.0,59.0,43.0,50.0,50.0,33.0,50.0,79.0,50.0,50.0,50.0,31.0,50.0,44.0,50.0,29.0,50.0,50.0,50.0,50.0,78.0,78.0,50.0,33.0,49.0,50.0,50.0,50.0,3.0,39.0,20.0,32.0,50.0,50.0,76.0,26.0,50.0,50.0,77.0,78.0,50.0,50.0,50.0,31.0,50.0,5.0,50.0,33.0,50.0,50.0,50.0,50.0,50.0,50.0,27.0,56.0,31.0,50.0,31.0,51.0,50.0,55.0,50.0,50.0,50.0,50.0,50.0,50.0,50.0,50.0,50.0,50.0,14.0,50.0,22.0,50.0,32.0,67.0,32.0,57.0,50.0],\"coloraxis\":\"coloraxis\",\"symbol\":\"circle\"},\"mode\":\"markers\",\"name\":\"\",\"scene\":\"scene\",\"showlegend\":false,\"x\":[-0.33856400847435,-1.7924764156341553,0.08771763741970062,-0.3869377672672272,-1.9208464622497559,-0.3335537314414978,-0.45177701115608215,-3.289344549179077,0.004591245669871569,-1.1223762035369873,0.24962377548217773,-0.6986823678016663,-0.528158962726593,-1.9028273820877075,1.2340245246887207,0.09057153016328812,0.30920296907424927,-0.9292910695075989,0.29293787479400635,0.9024033546447754,-3.259892225265503,0.6277740001678467,-0.19744721055030823,-1.4469575881958008,-0.7540286183357239,-0.283695787191391,-1.5573521852493286,1.7576713562011719,-0.052531931549310684,-0.4719931185245514,1.4263346195220947,0.7833064198493958,0.857220470905304,0.9227123260498047,-0.049754396080970764,1.3073399066925049,1.366733193397522,0.32713884115219116,-0.8308638334274292,0.1963978260755539,-1.7360563278198242,-1.2536416053771973,-1.0583791732788086,-0.43182504177093506,0.06229909509420395,-0.4419557452201843,-1.176410436630249,-0.1313709169626236,-1.7087159156799316,-0.319877564907074,0.1458427906036377,-0.000924715306609869,-1.7035571336746216,-1.1113046407699585,0.1561468541622162,-0.4433997571468353,0.02622774988412857,-0.0844559371471405,0.2655046582221985,0.5317143201828003,0.5314153432846069,-0.17420916259288788,0.1877606064081192,-0.3158003091812134,-0.409096896648407,-0.6305126547813416,-0.14562548696994781,-0.30829742550849915,-0.2344440072774887,0.3686283230781555,-1.7193145751953125,-1.3711316585540771,0.5613272190093994,-1.2332658767700195,-1.1322463750839233,0.6710368990898132,-0.5064009428024292,0.19704842567443848,-2.1050198078155518,1.226721167564392,0.8580285906791687,0.692244827747345,-0.1772204041481018,1.7194037437438965,-1.1495357751846313,0.16249659657478333,-0.5873411893844604,0.21513037383556366,-0.18716716766357422,0.5373125076293945,-1.336129903793335,-0.3736892640590668,-1.184662103652954,-0.615604043006897,-0.049423009157180786,-0.32553839683532715,0.6294716000556946,-0.2862365245819092,0.9068551659584045,1.1398628950119019,0.6207017302513123,-0.5821513533592224,-0.8691431283950806,-0.109187550842762,-0.5453707575798035,-3.1323351860046387,0.8448615670204163,-0.4110608696937561,-1.7644078731536865,0.054321933537721634,1.0959491729736328,-0.5800577998161316,0.3627435266971588,-3.6023988723754883,0.029355090111494064,0.21098431944847107,0.749839723110199,-1.6628572940826416,0.34361934661865234,0.24474062025547028,-0.4249740242958069,-0.1344546675682068,0.4740007519721985,1.266575574874878,-0.3831641972064972,-2.220231533050537,-2.7306108474731445,-0.41183316707611084,1.45546293258667,-0.5862997174263,0.5113649368286133,-1.21584153175354,-2.1450018882751465,0.15422388911247253,-0.08577601611614227,-0.9561134576797485,0.704630434513092,-0.250134140253067,-0.5058392286300659,-1.7011886835098267,1.9972658157348633,0.7099747061729431,-0.8734546303749084,0.01297466829419136,0.8012505173683167,0.4613052308559418,0.17894095182418823,0.46486198902130127,0.5739023089408875,-1.5069360733032227,-0.47250381112098694,-1.1940875053405762,-0.5523117184638977,0.4456753134727478,-0.07470913231372833,0.8809872269630432,0.45170700550079346,-0.21701207756996155,0.6521748304367065,0.21680288016796112,-0.16877876222133636,-0.7620715498924255,-0.5816865563392639,-0.053883206099271774,0.20046555995941162,1.7174493074417114,-2.555345058441162,2.2532033920288086,-0.19460630416870117,0.5785979628562927,-2.924337387084961,0.4959182143211365,-1.9651192426681519,0.34420642256736755,-0.3937414288520813,1.3643054962158203,-0.8282646536827087,2.2198214530944824,0.34691768884658813,-1.1913896799087524,-0.9248852729797363,-1.0431725978851318,2.1122562885284424,1.9991388320922852,-1.0227693319320679,0.2430681586265564,-2.962876319885254,0.566645085811615,-0.360430508852005,0.1361253261566162,0.5900507569313049,0.10618678480386734,-0.26843518018722534,-1.2866146564483643,-1.8304495811462402,-0.5843285918235779,0.46638745069503784,0.18976005911827087,-1.4436382055282593,1.2793266773223877,-0.8215437531471252,-1.3092753887176514,-1.2805888652801514,0.4625692069530487,-0.28360283374786377,-0.8180096745491028,1.3027433156967163,0.204635888338089,-0.13687755167484283,1.6302107572555542,-1.9244170188903809,0.6584814190864563,-1.628434658050537,0.10628165304660797,0.15216822922229767,0.8014575242996216,0.15434007346630096,0.733034074306488,-0.044046346098184586,3.013223648071289,0.9343196153640747,-0.15390439331531525,0.67320716381073,-0.15476369857788086,-1.155732274055481,0.5543429255485535,-0.8068065047264099,-1.6788532733917236,0.7526890635490417,0.9520642161369324,0.3857518434524536,-0.7371662259101868,-0.8141384124755859,-0.537647545337677,0.40216365456581116,-2.288457155227661,-0.10213983803987503,-2.399991273880005,0.09964451938867569,-0.4654422700405121,-0.12027642875909805,1.0264248847961426,0.2222582846879959,0.148701012134552,-0.6175780296325684,-1.7046270370483398,0.1006137877702713,1.2684757709503174,1.9957809448242188,0.5848760008811951,1.6757885217666626,-0.6799666881561279,1.447084903717041,-2.851628303527832,4.1538286209106445,-0.031948432326316833,0.0018275934271514416,-1.0214115381240845,-0.05330629274249077,-1.7415882349014282,-1.4805513620376587,-1.2688055038452148,-0.5074262022972107,-0.6937429308891296,-0.8273500204086304,-1.3005534410476685,-0.7877289652824402,-0.4776307940483093,0.43705645203590393,-2.930055618286133,0.41443315148353577,0.43423181772232056,-0.27878302335739136,-1.6980165243148804,1.3677117824554443,-0.17728808522224426,-0.38170725107192993,-0.9971449375152588,-0.6616671681404114,0.27955201268196106,-0.5721706748008728,-2.2191503047943115,1.0011403560638428,1.1415419578552246,-1.5249254703521729,-0.09935764968395233,-1.4565626382827759,-0.4428979456424713,1.07988703250885,0.5012839436531067,-1.6569304466247559,-2.851888656616211,-2.020803451538086,-0.5796599388122559,0.17050671577453613,0.1928972601890564,-0.6083607077598572,-4.761270046234131,-0.7934996485710144,-2.22599458694458,0.7216607332229614,1.279197096824646,0.9548115134239197,2.0775609016418457,-1.7002161741256714,-0.27904218435287476,-0.713473379611969,0.8016467690467834,-3.1538684368133545,-0.3694351315498352,-0.2075260877609253,-0.651192843914032,-0.4994025230407715,1.011417269706726,0.1396125704050064,-1.1277425289154053,0.13575461506843567,-2.595393657684326,-0.3521527051925659,0.015311498194932938,0.7269218564033508,1.8412059545516968,-2.3317666053771973,-1.6210200786590576,1.6849515438079834,1.3937833309173584,-0.47893625497817993,-0.3574160635471344,-1.1629620790481567,-1.1708931922912598,-0.07244519889354706,0.21012373268604279,-0.9567639827728271,0.5821027159690857,-0.45736679434776306,-0.5531571507453918,-0.6803573966026306,-0.6465709805488586,0.6795350313186646,0.04639600217342377,-1.9030708074569702,2.3095972537994385,-0.12627333402633667,-0.3323259949684143,-0.0848163366317749,-0.020991329103708267,0.12330476939678192,-0.7522662281990051,-1.145750641822815,2.5158708095550537,-0.280644953250885,0.5297726392745972,-2.767993211746216,0.26890432834625244,-1.408136248588562,-0.09887238591909409,-0.7058730721473694,-1.8630166053771973,0.2924986779689789,0.06699816137552261,0.30313241481781006,-1.1056067943572998,-1.0339536666870117,-0.45908236503601074,-0.42135268449783325,-1.724649429321289,-1.383421540260315,-0.35355454683303833,-0.2700278162956238,1.0041029453277588,1.3844380378723145,1.7561655044555664,-0.46145614981651306,1.610942006111145],\"y\":[-0.38295823335647583,-1.6524187326431274,0.18878580629825592,-0.5615027546882629,-0.09028003364801407,-0.8105931878089905,-1.2764581441879272,0.4861004948616028,0.3523086607456207,-0.07502391189336777,1.1703301668167114,-0.7167747616767883,-0.08671244233846664,-0.3010692000389099,-2.1908011436462402,-3.1160290241241455,-2.220526695251465,-1.100854754447937,-0.13314788043498993,0.6755037903785706,0.13899600505828857,-1.0002905130386353,-3.20965576171875,-0.6394215226173401,0.9857081770896912,1.4432331323623657,-0.12137135118246078,-0.9078049063682556,0.09843148291110992,-0.16312478482723236,0.02293064445257187,0.7514919638633728,-0.532698929309845,-0.06527800858020782,-0.2666970491409302,-4.249884605407715,0.403944194316864,-0.68388432264328,0.44503021240234375,-1.7848001718521118,1.1975446939468384,1.5005719661712646,-0.3973662555217743,-0.7038108110427856,-1.065828561782837,-0.14900363981723785,0.5970383286476135,0.4340178370475769,-0.8761107921600342,-0.9661548733711243,0.5277002453804016,0.7047765254974365,-0.8813472390174866,-0.6781917214393616,0.3664349913597107,-0.8659427762031555,0.13472746312618256,0.6493018269538879,0.8507477045059204,-0.3222936987876892,-0.35787928104400635,0.05241880193352699,-0.19338294863700867,-0.21896503865718842,3.3903229236602783,-0.2228187471628189,-0.12252805382013321,-1.782354474067688,0.09234638512134552,0.16091670095920563,-0.6961338520050049,-1.3026553392410278,-0.6827928423881531,-1.4331223964691162,-1.595718264579773,-2.0777509212493896,-2.4739651679992676,-1.1385456323623657,1.6247116327285767,-0.9720891118049622,1.4319833517074585,0.1521197408437729,0.04928869009017944,-4.082614898681641,-1.3047064542770386,-0.45438432693481445,-2.3657913208007812,-2.4604544639587402,0.22841475903987885,2.2854695320129395,-2.135707139968872,-0.1840055137872696,0.4341522455215454,-0.5871142745018005,-1.0750484466552734,-1.4457770586013794,1.7663124799728394,-0.3476982116699219,0.6139929890632629,0.7966025471687317,-0.47652941942214966,1.0651226043701172,-1.578696608543396,0.08052416145801544,-1.1954835653305054,-0.27689123153686523,0.36037179827690125,-0.31795817613601685,0.27518779039382935,-0.7792930006980896,1.6159402132034302,0.7021444439888,-1.4456149339675903,1.7354658842086792,-1.5548417568206787,0.20103706419467926,-1.2829424142837524,-5.4705586433410645,-3.2170588970184326,1.795827865600586,0.5834999680519104,0.5809275507926941,2.417543649673462,1.7101202011108398,-0.6441437005996704,-0.310585081577301,1.0303288698196411,-1.0019272565841675,0.8617709279060364,-0.01799130067229271,-3.1907546520233154,0.3118891417980194,-0.664330244064331,1.2520250082015991,-0.29550355672836304,-0.6400112509727478,0.4531111717224121,0.6284552216529846,0.4068398177623749,0.6098374128341675,-2.0499043464660645,0.08812499046325684,2.3457417488098145,0.6396139860153198,0.11023512482643127,-0.32803183794021606,0.8751557469367981,0.5635841488838196,-0.6163641810417175,0.2116270810365677,-2.717461109161377,1.6707910299301147,-1.9420216083526611,1.0807493925094604,1.1758038997650146,0.11693350225687027,-0.29466867446899414,0.22436176240444183,-2.0785610675811768,0.2766247093677521,-0.0017100239638239145,-0.05558646097779274,1.511788010597229,0.3743085563182831,-0.3237120807170868,0.9373151659965515,0.4910680055618286,0.37288135290145874,0.9441955089569092,-1.5084542036056519,0.7054609656333923,-1.0911173820495605,0.8571614623069763,0.7822709679603577,-0.336401104927063,0.2994470000267029,-0.012505438178777695,-0.9711424112319946,0.2907378077507019,-0.3560884892940521,0.4160115122795105,-0.019870277494192123,0.5519754886627197,-0.1337766796350479,0.28292328119277954,-1.106605052947998,-2.3232345581054688,-0.5791128277778625,1.2877031564712524,0.5840930938720703,0.5130735635757446,-0.3276529312133789,0.8326455354690552,0.11283028870820999,-0.44905221462249756,-0.22783471643924713,1.115591287612915,0.015575931407511234,-2.9940319061279297,-0.5021607279777527,1.0165373086929321,-0.685745894908905,1.2154053449630737,-0.17216691374778748,0.469694048166275,-0.046347834169864655,-1.3168672323226929,-0.07306088507175446,-0.8183031678199768,-0.17545358836650848,2.5000059604644775,1.8486738204956055,0.08860257267951965,1.2937806844711304,-0.2991023063659668,0.8773046731948853,1.5642201900482178,-1.3579539060592651,-1.2463668584823608,-0.7234563231468201,-0.11954642832279205,-1.60281503200531,0.3773396909236908,-0.13434511423110962,1.9973481893539429,0.22062020003795624,-0.19186431169509888,-0.9738865494728088,1.9569119215011597,-0.3916487991809845,-4.23898458480835,-1.4826056957244873,-0.8798582553863525,-0.21697984635829926,1.6623269319534302,-1.0063120126724243,-1.0390361547470093,-2.031193256378174,0.017638757824897766,-0.7652422189712524,0.03854668512940407,-2.067709445953369,-0.8922160267829895,0.7917447686195374,0.7718963027000427,-1.6553900241851807,-1.0856724977493286,0.3157810866832733,-1.4017397165298462,-0.8093303442001343,-0.8625369071960449,-0.20236147940158844,-0.15989626944065094,-0.6929956674575806,-0.559188187122345,-1.188708782196045,-0.6626946330070496,-0.28548383712768555,-0.5856066346168518,-1.6218873262405396,1.5465954542160034,-0.46059274673461914,-0.21737439930438995,-0.1840181201696396,-0.32313376665115356,-0.5498005747795105,-0.6482727527618408,1.3174806833267212,-1.2570828199386597,-2.58427095413208,-0.7638039588928223,0.06282537430524826,0.10834292322397232,-3.7158656120300293,-1.746559739112854,-0.2880392372608185,0.5069935321807861,-0.6645050644874573,0.1377532035112381,-0.6315087676048279,-0.16902971267700195,-2.1443495750427246,-3.9322612285614014,0.4249997138977051,-3.1424269676208496,0.18278348445892334,0.6954357028007507,-1.3514872789382935,-1.0497790575027466,2.8167076110839844,0.2588197588920593,-1.6091474294662476,-2.463139057159424,1.4847890138626099,0.5376456379890442,-0.3977867662906647,0.3620835244655609,0.22503560781478882,0.18057061731815338,1.598326563835144,-0.4205858111381531,-0.5616438984870911,-2.0269546508789062,2.4964406490325928,0.3898163139820099,-1.2264666557312012,0.0063585760071873665,-0.977053701877594,-1.3868907690048218,-1.9111655950546265,-0.25166869163513184,1.380996584892273,-1.2339366674423218,-0.8260521292686462,1.7704861164093018,2.0693492889404297,-0.009145363233983517,-3.867971420288086,-2.036954402923584,-0.5051765441894531,-1.2903646230697632,2.0201351642608643,0.08734200149774551,-0.42252713441848755,-0.6190711259841919,-1.8784571886062622,0.32610929012298584,0.09388411790132523,-0.36956819891929626,1.2247660160064697,-1.4501436948776245,-0.24649055302143097,2.2370121479034424,0.5176538825035095,-1.942370057106018,0.5031666159629822,-0.2602230906486511,-0.7631296515464783,-1.6124687194824219,0.08105991780757904,-1.2710247039794922,0.6456522345542908,0.4076688289642334,2.2516369819641113,-0.11804411560297012,0.08507958054542542,0.8338520526885986,0.33392828702926636,-2.5323572158813477,1.8176451921463013,-0.15294258296489716,0.14163847267627716,-0.32367753982543945,-1.9778320789337158,-0.42392265796661377,1.1224734783172607,0.42750242352485657,-3.0176949501037598,0.13387103378772736,-1.8016774654388428,0.5316168069839478,0.8227155208587646,1.0440882444381714,0.40651512145996094,-3.4184670448303223,-1.5178571939468384,-5.014800071716309,-0.16212163865566254,-0.5954698324203491,-1.0791560411453247,1.1725811958312988,-2.4423012733459473,-1.00090754032135,-0.11553645133972168],\"z\":[-0.4960609972476959,0.13086748123168945,0.005677339620888233,-2.469223976135254,-3.2864370346069336,-2.671827793121338,0.5710567235946655,-0.9048154354095459,-0.01863897778093815,0.41688549518585205,1.6803566217422485,-0.9154278039932251,-2.420314311981201,0.8400663733482361,-0.5608220100402832,-0.38722527027130127,0.6344118118286133,-0.14123763144016266,0.937941312789917,-0.24227598309516907,-1.8223191499710083,0.5364967584609985,-3.1168947219848633,-0.36263400316238403,-0.5784034132957458,1.1254971027374268,1.7891504764556885,-2.6954755783081055,-2.137970447540283,-2.601804733276367,0.6848095655441284,-0.8079590797424316,0.09512602537870407,-0.7984346151351929,-0.5496175289154053,2.9947962760925293,-1.2195855379104614,-3.1904146671295166,0.4283178746700287,-0.17368167638778687,0.9085326194763184,-2.2074294090270996,0.9464256763458252,1.8656936883926392,0.8912543058395386,-0.2493000477552414,-2.256692886352539,-2.7627434730529785,0.1229168027639389,-1.0628920793533325,-1.6472073793411255,0.6364731192588806,1.7608283758163452,-0.10417786985635757,1.6465721130371094,0.01838693581521511,0.2802322506904602,-0.26032280921936035,-2.391767978668213,-1.2761820554733276,-0.05450647324323654,-0.09522546827793121,-0.5862281918525696,-1.0859607458114624,0.9652533531188965,-0.8913856744766235,-0.8990296125411987,0.7268952131271362,0.49756431579589844,-0.3066730797290802,3.884687662124634,0.07897480577230453,1.4653221368789673,1.0824154615402222,-1.0147119760513306,-1.5485795736312866,-0.5165151357650757,-0.41356801986694336,-2.625032901763916,-0.5161306858062744,-1.2242940664291382,-0.07588480412960052,-1.6789002418518066,0.18691672384738922,0.433546245098114,-0.08702701330184937,-1.9095158576965332,2.3242428302764893,-0.06984898447990417,2.5940122604370117,2.583024024963379,-0.8322744369506836,-1.380895733833313,0.46276605129241943,0.946736216545105,-0.5731652975082397,1.0046414136886597,-0.34483301639556885,0.766887903213501,0.08353596925735474,-1.681731104850769,-2.4785401821136475,0.10751473158597946,-3.4620890617370605,-1.7054857015609741,1.6296387910842896,-4.099790573120117,-1.780239224433899,-0.7202579379081726,0.04952526092529297,-0.6218377351760864,-0.004227913916110992,0.38568729162216187,0.17011505365371704,-2.8269100189208984,-0.08916713297367096,0.1872132420539856,-0.36187970638275146,1.613228440284729,-1.09040367603302,-3.0075135231018066,0.14158575236797333,-0.01643998734652996,0.016076238825917244,1.3438397645950317,0.21246562898159027,-3.606132984161377,-0.35470277070999146,0.7056914567947388,-1.61453378200531,-1.558484435081482,-0.70695960521698,-0.7329779863357544,-0.1554875522851944,-0.5191611051559448,1.5238133668899536,-0.3447780907154083,0.6081379652023315,-0.6305838823318481,-1.4734009504318237,-0.29704782366752625,1.0755348205566406,-1.057957410812378,-1.2057653665542603,0.5651483535766602,0.2584819197654724,-0.08292238414287567,0.17738822102546692,-0.8796179890632629,0.5598301291465759,0.5989179611206055,-0.23693259060382843,-0.2805349826812744,-0.33420661091804504,0.2219633311033249,0.15387985110282898,2.187420606613159,-0.29025939106941223,-0.4226488471031189,0.6910923719406128,0.12340721487998962,0.06822112947702408,0.3964325785636902,1.0618451833724976,0.04681327939033508,-0.9384857416152954,1.996313452720642,-2.5633902549743652,-0.30648601055145264,0.9005314707756042,-0.02716875448822975,-1.165709376335144,0.20400720834732056,0.3676786720752716,0.16510146856307983,-0.37319663166999817,-0.31183356046676636,1.3170902729034424,0.04161570966243744,-0.4735803008079529,-0.21949061751365662,-1.3290735483169556,-0.0840492844581604,-1.0257939100265503,1.360653042793274,-1.9242008924484253,1.1101295948028564,-0.5838354229927063,-1.4890046119689941,2.7273051738739014,-1.156166911125183,-0.2371981143951416,-0.6783365607261658,-1.8435441255569458,-0.12951961159706116,1.005784273147583,0.46269091963768005,-0.4920285940170288,-1.7264692783355713,-0.11627816408872604,-1.2363370656967163,0.5803696513175964,-0.3934084177017212,-0.2659384608268738,-0.8714392185211182,-2.5863804817199707,0.07568791508674622,0.08166034519672394,-1.9680665731430054,3.6144094467163086,-0.2821594476699829,-3.6546974182128906,1.2052208185195923,-0.9782581925392151,-0.7742919921875,-1.9476126432418823,-2.8946726322174072,-0.12932157516479492,-1.931960105895996,-2.368802309036255,-0.31558725237846375,2.337174892425537,-0.5835292339324951,0.309184730052948,0.4156281352043152,-1.2712053060531616,1.972610354423523,-0.3495289385318756,-2.3234405517578125,-1.5116108655929565,0.7830352187156677,-0.3163471221923828,-1.6056784391403198,0.606982409954071,-0.2566349506378174,-0.6956607103347778,3.4166312217712402,-1.931458830833435,-0.23121866583824158,-0.10836161673069,0.930719256401062,0.43202871084213257,-0.7844308614730835,1.0502763986587524,1.0152064561843872,-2.4790353775024414,-2.4391918182373047,-2.6828150749206543,-1.4949907064437866,-0.11567510664463043,0.23790517449378967,-1.357074499130249,-1.8082184791564941,-1.8673069477081299,0.30531561374664307,0.2629680037498474,-2.0976052284240723,-0.5861122012138367,-0.9399827718734741,-2.5194406509399414,-1.311572551727295,-2.578345537185669,-3.279982566833496,0.4212467670440674,-0.8294260501861572,-1.3504999876022339,0.22820624709129333,-0.17156469821929932,-2.4599099159240723,-1.238366961479187,0.16144253313541412,0.3320575952529907,0.5273847579956055,0.7270366549491882,-2.459268808364868,0.2905482351779938,0.46568000316619873,-1.7460565567016602,0.21011221408843994,0.7782309055328369,-0.5811212062835693,1.7855011224746704,-1.1625523567199707,1.6267516613006592,1.7803945541381836,-0.9418247938156128,-0.27526307106018066,-1.4035381078720093,0.7830298542976379,-1.529415488243103,-0.030533473938703537,-0.3696163296699524,0.18515779078006744,-1.0062307119369507,0.00398758240044117,-1.829653263092041,-1.149330973625183,0.9635229110717773,-2.5793042182922363,-1.0088919401168823,-2.3575174808502197,-1.1253743171691895,3.2592735290527344,0.5281407833099365,-2.05808162689209,1.3564680814743042,-0.3576129674911499,-1.1956168413162231,2.74465012550354,1.1960030794143677,-0.31968048214912415,-4.460068225860596,1.2762597799301147,-3.7268950939178467,-1.9553176164627075,1.122538447380066,0.6717380285263062,1.019800066947937,0.17821022868156433,0.5036553144454956,-0.5689586997032166,-2.025529623031616,-2.264653205871582,-0.619172990322113,-0.6151436567306519,1.172362208366394,0.9218603372573853,-0.7488269805908203,-2.3924131393432617,1.549275517463684,0.17462174594402313,-1.2850143909454346,-2.8173904418945312,-0.11791788041591644,-0.8536070585250854,-1.4806705713272095,-0.3059760332107544,-0.12875238060951233,-1.9661473035812378,-0.6537917852401733,-1.0747318267822266,2.0511550903320312,-0.22731134295463562,0.07659295201301575,1.5342520475387573,0.07017782330513,-0.9513120651245117,-0.593853771686554,0.047410689294338226,-1.0676229000091553,-0.5100629329681396,-2.622286796569824,-0.45660802721977234,-0.7204990386962891,-0.0870145782828331,-0.3535446524620056,2.0158190727233887,-0.8632662296295166,-0.8200600147247314,1.609365701675415,-0.45881709456443787,-0.774384081363678,0.26384687423706055,-0.2681341767311096,3.621138095855713,-0.6249567270278931,2.296478033065796,-0.9325295090675354,-1.5830657482147217,-1.5575752258300781,-2.0992684364318848,-1.3956021070480347,-0.7039192914962769,0.039635397493839264],\"type\":\"scatter3d\"}],                        {\"template\":{\"data\":{\"histogram2dcontour\":[{\"type\":\"histogram2dcontour\",\"colorbar\":{\"outlinewidth\":0,\"ticks\":\"\"},\"colorscale\":[[0.0,\"#0d0887\"],[0.1111111111111111,\"#46039f\"],[0.2222222222222222,\"#7201a8\"],[0.3333333333333333,\"#9c179e\"],[0.4444444444444444,\"#bd3786\"],[0.5555555555555556,\"#d8576b\"],[0.6666666666666666,\"#ed7953\"],[0.7777777777777778,\"#fb9f3a\"],[0.8888888888888888,\"#fdca26\"],[1.0,\"#f0f921\"]]}],\"choropleth\":[{\"type\":\"choropleth\",\"colorbar\":{\"outlinewidth\":0,\"ticks\":\"\"}}],\"histogram2d\":[{\"type\":\"histogram2d\",\"colorbar\":{\"outlinewidth\":0,\"ticks\":\"\"},\"colorscale\":[[0.0,\"#0d0887\"],[0.1111111111111111,\"#46039f\"],[0.2222222222222222,\"#7201a8\"],[0.3333333333333333,\"#9c179e\"],[0.4444444444444444,\"#bd3786\"],[0.5555555555555556,\"#d8576b\"],[0.6666666666666666,\"#ed7953\"],[0.7777777777777778,\"#fb9f3a\"],[0.8888888888888888,\"#fdca26\"],[1.0,\"#f0f921\"]]}],\"heatmap\":[{\"type\":\"heatmap\",\"colorbar\":{\"outlinewidth\":0,\"ticks\":\"\"},\"colorscale\":[[0.0,\"#0d0887\"],[0.1111111111111111,\"#46039f\"],[0.2222222222222222,\"#7201a8\"],[0.3333333333333333,\"#9c179e\"],[0.4444444444444444,\"#bd3786\"],[0.5555555555555556,\"#d8576b\"],[0.6666666666666666,\"#ed7953\"],[0.7777777777777778,\"#fb9f3a\"],[0.8888888888888888,\"#fdca26\"],[1.0,\"#f0f921\"]]}],\"heatmapgl\":[{\"type\":\"heatmapgl\",\"colorbar\":{\"outlinewidth\":0,\"ticks\":\"\"},\"colorscale\":[[0.0,\"#0d0887\"],[0.1111111111111111,\"#46039f\"],[0.2222222222222222,\"#7201a8\"],[0.3333333333333333,\"#9c179e\"],[0.4444444444444444,\"#bd3786\"],[0.5555555555555556,\"#d8576b\"],[0.6666666666666666,\"#ed7953\"],[0.7777777777777778,\"#fb9f3a\"],[0.8888888888888888,\"#fdca26\"],[1.0,\"#f0f921\"]]}],\"contourcarpet\":[{\"type\":\"contourcarpet\",\"colorbar\":{\"outlinewidth\":0,\"ticks\":\"\"}}],\"contour\":[{\"type\":\"contour\",\"colorbar\":{\"outlinewidth\":0,\"ticks\":\"\"},\"colorscale\":[[0.0,\"#0d0887\"],[0.1111111111111111,\"#46039f\"],[0.2222222222222222,\"#7201a8\"],[0.3333333333333333,\"#9c179e\"],[0.4444444444444444,\"#bd3786\"],[0.5555555555555556,\"#d8576b\"],[0.6666666666666666,\"#ed7953\"],[0.7777777777777778,\"#fb9f3a\"],[0.8888888888888888,\"#fdca26\"],[1.0,\"#f0f921\"]]}],\"surface\":[{\"type\":\"surface\",\"colorbar\":{\"outlinewidth\":0,\"ticks\":\"\"},\"colorscale\":[[0.0,\"#0d0887\"],[0.1111111111111111,\"#46039f\"],[0.2222222222222222,\"#7201a8\"],[0.3333333333333333,\"#9c179e\"],[0.4444444444444444,\"#bd3786\"],[0.5555555555555556,\"#d8576b\"],[0.6666666666666666,\"#ed7953\"],[0.7777777777777778,\"#fb9f3a\"],[0.8888888888888888,\"#fdca26\"],[1.0,\"#f0f921\"]]}],\"mesh3d\":[{\"type\":\"mesh3d\",\"colorbar\":{\"outlinewidth\":0,\"ticks\":\"\"}}],\"scatter\":[{\"fillpattern\":{\"fillmode\":\"overlay\",\"size\":10,\"solidity\":0.2},\"type\":\"scatter\"}],\"parcoords\":[{\"type\":\"parcoords\",\"line\":{\"colorbar\":{\"outlinewidth\":0,\"ticks\":\"\"}}}],\"scatterpolargl\":[{\"type\":\"scatterpolargl\",\"marker\":{\"colorbar\":{\"outlinewidth\":0,\"ticks\":\"\"}}}],\"bar\":[{\"error_x\":{\"color\":\"#2a3f5f\"},\"error_y\":{\"color\":\"#2a3f5f\"},\"marker\":{\"line\":{\"color\":\"#E5ECF6\",\"width\":0.5},\"pattern\":{\"fillmode\":\"overlay\",\"size\":10,\"solidity\":0.2}},\"type\":\"bar\"}],\"scattergeo\":[{\"type\":\"scattergeo\",\"marker\":{\"colorbar\":{\"outlinewidth\":0,\"ticks\":\"\"}}}],\"scatterpolar\":[{\"type\":\"scatterpolar\",\"marker\":{\"colorbar\":{\"outlinewidth\":0,\"ticks\":\"\"}}}],\"histogram\":[{\"marker\":{\"pattern\":{\"fillmode\":\"overlay\",\"size\":10,\"solidity\":0.2}},\"type\":\"histogram\"}],\"scattergl\":[{\"type\":\"scattergl\",\"marker\":{\"colorbar\":{\"outlinewidth\":0,\"ticks\":\"\"}}}],\"scatter3d\":[{\"type\":\"scatter3d\",\"line\":{\"colorbar\":{\"outlinewidth\":0,\"ticks\":\"\"}},\"marker\":{\"colorbar\":{\"outlinewidth\":0,\"ticks\":\"\"}}}],\"scattermapbox\":[{\"type\":\"scattermapbox\",\"marker\":{\"colorbar\":{\"outlinewidth\":0,\"ticks\":\"\"}}}],\"scatterternary\":[{\"type\":\"scatterternary\",\"marker\":{\"colorbar\":{\"outlinewidth\":0,\"ticks\":\"\"}}}],\"scattercarpet\":[{\"type\":\"scattercarpet\",\"marker\":{\"colorbar\":{\"outlinewidth\":0,\"ticks\":\"\"}}}],\"carpet\":[{\"aaxis\":{\"endlinecolor\":\"#2a3f5f\",\"gridcolor\":\"white\",\"linecolor\":\"white\",\"minorgridcolor\":\"white\",\"startlinecolor\":\"#2a3f5f\"},\"baxis\":{\"endlinecolor\":\"#2a3f5f\",\"gridcolor\":\"white\",\"linecolor\":\"white\",\"minorgridcolor\":\"white\",\"startlinecolor\":\"#2a3f5f\"},\"type\":\"carpet\"}],\"table\":[{\"cells\":{\"fill\":{\"color\":\"#EBF0F8\"},\"line\":{\"color\":\"white\"}},\"header\":{\"fill\":{\"color\":\"#C8D4E3\"},\"line\":{\"color\":\"white\"}},\"type\":\"table\"}],\"barpolar\":[{\"marker\":{\"line\":{\"color\":\"#E5ECF6\",\"width\":0.5},\"pattern\":{\"fillmode\":\"overlay\",\"size\":10,\"solidity\":0.2}},\"type\":\"barpolar\"}],\"pie\":[{\"automargin\":true,\"type\":\"pie\"}]},\"layout\":{\"autotypenumbers\":\"strict\",\"colorway\":[\"#636efa\",\"#EF553B\",\"#00cc96\",\"#ab63fa\",\"#FFA15A\",\"#19d3f3\",\"#FF6692\",\"#B6E880\",\"#FF97FF\",\"#FECB52\"],\"font\":{\"color\":\"#2a3f5f\"},\"hovermode\":\"closest\",\"hoverlabel\":{\"align\":\"left\"},\"paper_bgcolor\":\"white\",\"plot_bgcolor\":\"#E5ECF6\",\"polar\":{\"bgcolor\":\"#E5ECF6\",\"angularaxis\":{\"gridcolor\":\"white\",\"linecolor\":\"white\",\"ticks\":\"\"},\"radialaxis\":{\"gridcolor\":\"white\",\"linecolor\":\"white\",\"ticks\":\"\"}},\"ternary\":{\"bgcolor\":\"#E5ECF6\",\"aaxis\":{\"gridcolor\":\"white\",\"linecolor\":\"white\",\"ticks\":\"\"},\"baxis\":{\"gridcolor\":\"white\",\"linecolor\":\"white\",\"ticks\":\"\"},\"caxis\":{\"gridcolor\":\"white\",\"linecolor\":\"white\",\"ticks\":\"\"}},\"coloraxis\":{\"colorbar\":{\"outlinewidth\":0,\"ticks\":\"\"}},\"colorscale\":{\"sequential\":[[0.0,\"#0d0887\"],[0.1111111111111111,\"#46039f\"],[0.2222222222222222,\"#7201a8\"],[0.3333333333333333,\"#9c179e\"],[0.4444444444444444,\"#bd3786\"],[0.5555555555555556,\"#d8576b\"],[0.6666666666666666,\"#ed7953\"],[0.7777777777777778,\"#fb9f3a\"],[0.8888888888888888,\"#fdca26\"],[1.0,\"#f0f921\"]],\"sequentialminus\":[[0.0,\"#0d0887\"],[0.1111111111111111,\"#46039f\"],[0.2222222222222222,\"#7201a8\"],[0.3333333333333333,\"#9c179e\"],[0.4444444444444444,\"#bd3786\"],[0.5555555555555556,\"#d8576b\"],[0.6666666666666666,\"#ed7953\"],[0.7777777777777778,\"#fb9f3a\"],[0.8888888888888888,\"#fdca26\"],[1.0,\"#f0f921\"]],\"diverging\":[[0,\"#8e0152\"],[0.1,\"#c51b7d\"],[0.2,\"#de77ae\"],[0.3,\"#f1b6da\"],[0.4,\"#fde0ef\"],[0.5,\"#f7f7f7\"],[0.6,\"#e6f5d0\"],[0.7,\"#b8e186\"],[0.8,\"#7fbc41\"],[0.9,\"#4d9221\"],[1,\"#276419\"]]},\"xaxis\":{\"gridcolor\":\"white\",\"linecolor\":\"white\",\"ticks\":\"\",\"title\":{\"standoff\":15},\"zerolinecolor\":\"white\",\"automargin\":true,\"zerolinewidth\":2},\"yaxis\":{\"gridcolor\":\"white\",\"linecolor\":\"white\",\"ticks\":\"\",\"title\":{\"standoff\":15},\"zerolinecolor\":\"white\",\"automargin\":true,\"zerolinewidth\":2},\"scene\":{\"xaxis\":{\"backgroundcolor\":\"#E5ECF6\",\"gridcolor\":\"white\",\"linecolor\":\"white\",\"showbackground\":true,\"ticks\":\"\",\"zerolinecolor\":\"white\",\"gridwidth\":2},\"yaxis\":{\"backgroundcolor\":\"#E5ECF6\",\"gridcolor\":\"white\",\"linecolor\":\"white\",\"showbackground\":true,\"ticks\":\"\",\"zerolinecolor\":\"white\",\"gridwidth\":2},\"zaxis\":{\"backgroundcolor\":\"#E5ECF6\",\"gridcolor\":\"white\",\"linecolor\":\"white\",\"showbackground\":true,\"ticks\":\"\",\"zerolinecolor\":\"white\",\"gridwidth\":2}},\"shapedefaults\":{\"line\":{\"color\":\"#2a3f5f\"}},\"annotationdefaults\":{\"arrowcolor\":\"#2a3f5f\",\"arrowhead\":0,\"arrowwidth\":1},\"geo\":{\"bgcolor\":\"white\",\"landcolor\":\"#E5ECF6\",\"subunitcolor\":\"white\",\"showland\":true,\"showlakes\":true,\"lakecolor\":\"white\"},\"title\":{\"x\":0.05},\"mapbox\":{\"style\":\"light\"}}},\"scene\":{\"domain\":{\"x\":[0.0,1.0],\"y\":[0.0,1.0]},\"xaxis\":{\"title\":{\"text\":\"xdata\"}},\"yaxis\":{\"title\":{\"text\":\"ydata\"}},\"zaxis\":{\"title\":{\"text\":\"zdata\"}}},\"coloraxis\":{\"colorbar\":{\"title\":{\"text\":\"y_train\"}},\"colorscale\":[[0.0,\"#0d0887\"],[0.1111111111111111,\"#46039f\"],[0.2222222222222222,\"#7201a8\"],[0.3333333333333333,\"#9c179e\"],[0.4444444444444444,\"#bd3786\"],[0.5555555555555556,\"#d8576b\"],[0.6666666666666666,\"#ed7953\"],[0.7777777777777778,\"#fb9f3a\"],[0.8888888888888888,\"#fdca26\"],[1.0,\"#f0f921\"]]},\"legend\":{\"tracegroupgap\":0},\"margin\":{\"t\":60}},                        {\"responsive\": true}                    ).then(function(){\n",
              "                            \n",
              "var gd = document.getElementById('2a906351-a7db-4a77-a9bf-f7dc9cdbb3dc');\n",
              "var x = new MutationObserver(function (mutations, observer) {{\n",
              "        var display = window.getComputedStyle(gd).display;\n",
              "        if (!display || display === 'none') {{\n",
              "            console.log([gd, 'removed!']);\n",
              "            Plotly.purge(gd);\n",
              "            observer.disconnect();\n",
              "        }}\n",
              "}});\n",
              "\n",
              "// Listen for the removal of the full notebook cells\n",
              "var notebookContainer = gd.closest('#notebook-container');\n",
              "if (notebookContainer) {{\n",
              "    x.observe(notebookContainer, {childList: true});\n",
              "}}\n",
              "\n",
              "// Listen for the clearing of the current output cell\n",
              "var outputEl = gd.closest('.output');\n",
              "if (outputEl) {{\n",
              "    x.observe(outputEl, {childList: true});\n",
              "}}\n",
              "\n",
              "                        })                };                            </script>        </div>\n",
              "</body>\n",
              "</html>"
            ]
          },
          "metadata": {}
        }
      ],
      "source": [
        "import plotly.express as px\n",
        "df = data_plot\n",
        "fig = px.scatter_3d(df, x='xdata', y='ydata', z='zdata',\n",
        "              color='y_train')\n",
        "fig.show()"
      ]
    },
    {
      "cell_type": "code",
      "execution_count": null,
      "metadata": {
        "id": "7Copz9X7I8Qc"
      },
      "outputs": [],
      "source": [
        "xdata=np.array(xdata)\n",
        "ydata=np.array(ydata)\n",
        "zdata=np.array(zdata)"
      ]
    },
    {
      "cell_type": "code",
      "execution_count": null,
      "metadata": {
        "colab": {
          "base_uri": "https://localhost:8080/"
        },
        "id": "qof1mmfIQY9y",
        "outputId": "2e1a837a-edb6-4099-8c07-be764a37de17"
      },
      "outputs": [
        {
          "data": {
            "text/plain": [
              "(array([ 28,  86,  91, 141]),)"
            ]
          },
          "execution_count": 179,
          "metadata": {},
          "output_type": "execute_result"
        }
      ],
      "source": [
        "# cluster 1\n",
        "np.where((xdata>-9.01) & (xdata<-8.30) & (ydata<-13.69) & (ydata>-14.24 ) & (zdata<-22.94) & (zdata>-23.81))"
      ]
    },
    {
      "cell_type": "code",
      "execution_count": null,
      "metadata": {
        "colab": {
          "base_uri": "https://localhost:8080/"
        },
        "id": "PF8Mh9jvQYyi",
        "outputId": "a7573121-6a70-4a35-a9cf-085e0a7ae331"
      },
      "outputs": [
        {
          "data": {
            "text/plain": [
              "(array([ 10,  19, 138, 176, 180]),)"
            ]
          },
          "execution_count": 182,
          "metadata": {},
          "output_type": "execute_result"
        }
      ],
      "source": [
        "# cluster 2\n",
        "np.where((xdata>-14.27) & (xdata<-13.63) & (ydata<-13.59) & (ydata>-14.62 ) & (zdata<-19.33) & (zdata>-19.69))"
      ]
    },
    {
      "cell_type": "code",
      "execution_count": null,
      "metadata": {
        "colab": {
          "base_uri": "https://localhost:8080/"
        },
        "id": "A--4zGaIQYt-",
        "outputId": "8fad15e7-e0d8-496d-c396-abca1776b198"
      },
      "outputs": [
        {
          "data": {
            "text/plain": [
              "(array([  0,   2,  27,  54,  64,  69,  81,  84, 104, 110, 124, 146, 161,\n",
              "        163, 169, 205, 207]),)"
            ]
          },
          "execution_count": 183,
          "metadata": {},
          "output_type": "execute_result"
        }
      ],
      "source": [
        "# cluster 3\n",
        "np.where((xdata>-20.86) & (xdata<-19.95) & (ydata<-6.44) & (ydata>-8.62) & (zdata<-16.77) & (zdata>-17.37))"
      ]
    },
    {
      "cell_type": "code",
      "execution_count": null,
      "metadata": {
        "colab": {
          "base_uri": "https://localhost:8080/"
        },
        "id": "jjbbvudCQYqx",
        "outputId": "7e87235e-c1b4-4145-9083-63d7f3bdc315"
      },
      "outputs": [
        {
          "data": {
            "text/plain": [
              "(array([153]),)"
            ]
          },
          "execution_count": 215,
          "metadata": {},
          "output_type": "execute_result"
        }
      ],
      "source": [
        "# cluster 4\n",
        "np.where( (np.round(xdata,2)==-20.77) & (np.round(ydata,2)==-6.81) & (np.round(zdata,2)==-16.42))"
      ]
    },
    {
      "cell_type": "markdown",
      "metadata": {
        "id": "S141VDTa_l35"
      },
      "source": [
        "## Clustering in 3D"
      ]
    },
    {
      "cell_type": "code",
      "execution_count": null,
      "metadata": {
        "id": "UXwrPXunt-JJ"
      },
      "outputs": [],
      "source": [
        "# Import necessary libraries\n",
        "import numpy as np\n",
        "from sklearn.cluster import KMeans\n",
        "import plotly.graph_objects as go"
      ]
    },
    {
      "cell_type": "code",
      "execution_count": null,
      "metadata": {
        "id": "kYV2I6n84fk9"
      },
      "outputs": [],
      "source": [
        "data=np.stack((xdata,ydata,zdata))"
      ]
    },
    {
      "cell_type": "code",
      "execution_count": null,
      "metadata": {
        "colab": {
          "base_uri": "https://localhost:8080/"
        },
        "id": "o8YLaJ8J6_cU",
        "outputId": "a7480f02-0b0d-4841-ebc5-080257fd6a24"
      },
      "outputs": [
        {
          "data": {
            "text/plain": [
              "(41, 3)"
            ]
          },
          "execution_count": 111,
          "metadata": {},
          "output_type": "execute_result"
        }
      ],
      "source": [
        "data.shape"
      ]
    },
    {
      "cell_type": "code",
      "execution_count": null,
      "metadata": {
        "id": "oiJqBAqj6-Gk"
      },
      "outputs": [],
      "source": [
        "data=pd.DataFrame(np.transpose(data))"
      ]
    },
    {
      "cell_type": "code",
      "execution_count": null,
      "metadata": {
        "id": "HgGGTvnt7JwC"
      },
      "outputs": [],
      "source": [
        "data=np.array(data)"
      ]
    },
    {
      "cell_type": "code",
      "execution_count": null,
      "metadata": {
        "colab": {
          "base_uri": "https://localhost:8080/",
          "height": 631
        },
        "id": "eK6UHoN5_rIl",
        "outputId": "b8d80e1f-1879-472c-fea0-230b7a745798"
      },
      "outputs": [
        {
          "name": "stderr",
          "output_type": "stream",
          "text": [
            "/usr/local/lib/python3.10/dist-packages/sklearn/cluster/_kmeans.py:870: FutureWarning:\n",
            "\n",
            "The default value of `n_init` will change from 10 to 'auto' in 1.4. Set the value of `n_init` explicitly to suppress the warning\n",
            "\n"
          ]
        },
        {
          "data": {
            "text/html": [
              "<html>\n",
              "<head><meta charset=\"utf-8\" /></head>\n",
              "<body>\n",
              "    <div>            <script src=\"https://cdnjs.cloudflare.com/ajax/libs/mathjax/2.7.5/MathJax.js?config=TeX-AMS-MML_SVG\"></script><script type=\"text/javascript\">if (window.MathJax && window.MathJax.Hub && window.MathJax.Hub.Config) {window.MathJax.Hub.Config({SVG: {font: \"STIX-Web\"}});}</script>                <script type=\"text/javascript\">window.PlotlyConfig = {MathJaxConfig: 'local'};</script>\n",
              "        <script charset=\"utf-8\" src=\"https://cdn.plot.ly/plotly-2.24.1.min.js\"></script>                <div id=\"c8c9f146-1b5a-4175-92d7-cb1e133e6f3e\" class=\"plotly-graph-div\" style=\"height:525px; width:100%;\"></div>            <script type=\"text/javascript\">                                    window.PLOTLYENV=window.PLOTLYENV || {};                                    if (document.getElementById(\"c8c9f146-1b5a-4175-92d7-cb1e133e6f3e\")) {                    Plotly.newPlot(                        \"c8c9f146-1b5a-4175-92d7-cb1e133e6f3e\",                        [{\"marker\":{\"color\":[1,2,4,6,6,8,6,3,3,9,4,7,8,1,8,3,4,7,6,6,0,4,4,4,6,6,0,1,1,1,1,0,6,4,4,0,5,1,6,3,3],\"size\":5},\"mode\":\"markers\",\"x\":[-10.805337905883789,-37.729278564453125,-9.092609405517578,2.4354941844940186,-3.756690263748169,0.6342204809188843,-2.612478017807007,-17.499496459960938,-21.36945152282715,-38.579811096191406,-11.065591812133789,-24.64715576171875,0.32312092185020447,-14.442512512207031,8.425107955932617,-17.07149887084961,-8.346959114074707,-16.71977996826172,2.0897555351257324,2.7887988090515137,-7.34675931930542,-5.009153366088867,-6.030925750732422,-4.488895893096924,-2.9574520587921143,0.09677491337060928,-4.105429172515869,-20.039554595947266,-18.409326553344727,-17.922760009765625,-19.987751007080078,-8.479440689086914,1.9780348539352417,-7.421607971191406,-5.890140533447266,-6.2829437255859375,-31.49793243408203,-15.002445220947266,1.9364498853683472,-14.320456504821777,-19.805679321289062],\"y\":[-31.845539093017578,-17.023630142211914,-42.40993118286133,-47.498512268066406,-45.93674087524414,-45.05571365356445,-47.71696472167969,-41.21554183959961,-38.414485931396484,-20.72736358642578,-35.389774322509766,-33.7019157409668,-44.78915786743164,-30.74164581298828,-43.7183952331543,-41.560096740722656,-41.52228927612305,-36.82938766479492,-48.679805755615234,-47.72362518310547,-44.469844818115234,-38.855140686035156,-39.39299392700195,-37.4988899230957,-47.07664108276367,-48.29534149169922,-44.6097297668457,-25.59579849243164,-33.136783599853516,-33.446537017822266,-27.5658016204834,-44.1061897277832,-47.67965316772461,-41.101600646972656,-41.05727767944336,-46.61212921142578,-30.615341186523438,-31.07367515563965,-48.20662307739258,-41.091583251953125,-37.840187072753906],\"z\":[-24.23977279663086,-17.128454208374023,-6.535207271575928,4.27197790145874,6.509524822235107,-7.184056758880615,2.235870599746704,8.27584171295166,4.033866882324219,-2.392547369003296,-15.944342613220215,-11.827692031860352,-6.617502689361572,-26.646982192993164,-3.1448447704315186,9.729559898376465,-11.153026580810547,-5.1875786781311035,5.413745403289795,7.971642017364502,-0.18605059385299683,-15.564414978027344,-12.474129676818848,-15.090561866760254,3.691462993621826,0.7102673649787903,-0.6560985445976257,-29.465900421142578,-20.114748001098633,-20.24866485595703,-26.284530639648438,0.10903578996658325,3.674560070037842,-11.635180473327637,-9.626431465148926,2.574803590774536,0.9227818250656128,-25.619373321533203,5.355257511138916,2.3838067054748535,3.218309164047241],\"type\":\"scatter3d\"},{\"marker\":{\"color\":\"red\",\"size\":10,\"symbol\":\"cross\"},\"mode\":\"markers\",\"x\":[-6.553643226623535,-16.658527374267578,-37.729278564453125,-18.013317108154297,-7.168235778808594,-31.49793243408203,0.2220773696899414,-20.683467864990234,3.127483367919922,-38.579811096191406],\"y\":[-44.9494743347168,-30.486539840698242,-17.023630142211914,-40.02437973022461,-39.65348815917969,-30.615341186523438,-47.64598846435547,-35.26565170288086,-44.521087646484375,-20.72736358642578],\"z\":[0.46042299270629883,-24.659996032714844,-17.128454208374023,5.5282769203186035,-12.252911567687988,0.9227819442749023,4.426034450531006,-8.507635116577148,-5.648801326751709,-2.392547369003296],\"type\":\"scatter3d\"}],                        {\"template\":{\"data\":{\"histogram2dcontour\":[{\"type\":\"histogram2dcontour\",\"colorbar\":{\"outlinewidth\":0,\"ticks\":\"\"},\"colorscale\":[[0.0,\"#0d0887\"],[0.1111111111111111,\"#46039f\"],[0.2222222222222222,\"#7201a8\"],[0.3333333333333333,\"#9c179e\"],[0.4444444444444444,\"#bd3786\"],[0.5555555555555556,\"#d8576b\"],[0.6666666666666666,\"#ed7953\"],[0.7777777777777778,\"#fb9f3a\"],[0.8888888888888888,\"#fdca26\"],[1.0,\"#f0f921\"]]}],\"choropleth\":[{\"type\":\"choropleth\",\"colorbar\":{\"outlinewidth\":0,\"ticks\":\"\"}}],\"histogram2d\":[{\"type\":\"histogram2d\",\"colorbar\":{\"outlinewidth\":0,\"ticks\":\"\"},\"colorscale\":[[0.0,\"#0d0887\"],[0.1111111111111111,\"#46039f\"],[0.2222222222222222,\"#7201a8\"],[0.3333333333333333,\"#9c179e\"],[0.4444444444444444,\"#bd3786\"],[0.5555555555555556,\"#d8576b\"],[0.6666666666666666,\"#ed7953\"],[0.7777777777777778,\"#fb9f3a\"],[0.8888888888888888,\"#fdca26\"],[1.0,\"#f0f921\"]]}],\"heatmap\":[{\"type\":\"heatmap\",\"colorbar\":{\"outlinewidth\":0,\"ticks\":\"\"},\"colorscale\":[[0.0,\"#0d0887\"],[0.1111111111111111,\"#46039f\"],[0.2222222222222222,\"#7201a8\"],[0.3333333333333333,\"#9c179e\"],[0.4444444444444444,\"#bd3786\"],[0.5555555555555556,\"#d8576b\"],[0.6666666666666666,\"#ed7953\"],[0.7777777777777778,\"#fb9f3a\"],[0.8888888888888888,\"#fdca26\"],[1.0,\"#f0f921\"]]}],\"heatmapgl\":[{\"type\":\"heatmapgl\",\"colorbar\":{\"outlinewidth\":0,\"ticks\":\"\"},\"colorscale\":[[0.0,\"#0d0887\"],[0.1111111111111111,\"#46039f\"],[0.2222222222222222,\"#7201a8\"],[0.3333333333333333,\"#9c179e\"],[0.4444444444444444,\"#bd3786\"],[0.5555555555555556,\"#d8576b\"],[0.6666666666666666,\"#ed7953\"],[0.7777777777777778,\"#fb9f3a\"],[0.8888888888888888,\"#fdca26\"],[1.0,\"#f0f921\"]]}],\"contourcarpet\":[{\"type\":\"contourcarpet\",\"colorbar\":{\"outlinewidth\":0,\"ticks\":\"\"}}],\"contour\":[{\"type\":\"contour\",\"colorbar\":{\"outlinewidth\":0,\"ticks\":\"\"},\"colorscale\":[[0.0,\"#0d0887\"],[0.1111111111111111,\"#46039f\"],[0.2222222222222222,\"#7201a8\"],[0.3333333333333333,\"#9c179e\"],[0.4444444444444444,\"#bd3786\"],[0.5555555555555556,\"#d8576b\"],[0.6666666666666666,\"#ed7953\"],[0.7777777777777778,\"#fb9f3a\"],[0.8888888888888888,\"#fdca26\"],[1.0,\"#f0f921\"]]}],\"surface\":[{\"type\":\"surface\",\"colorbar\":{\"outlinewidth\":0,\"ticks\":\"\"},\"colorscale\":[[0.0,\"#0d0887\"],[0.1111111111111111,\"#46039f\"],[0.2222222222222222,\"#7201a8\"],[0.3333333333333333,\"#9c179e\"],[0.4444444444444444,\"#bd3786\"],[0.5555555555555556,\"#d8576b\"],[0.6666666666666666,\"#ed7953\"],[0.7777777777777778,\"#fb9f3a\"],[0.8888888888888888,\"#fdca26\"],[1.0,\"#f0f921\"]]}],\"mesh3d\":[{\"type\":\"mesh3d\",\"colorbar\":{\"outlinewidth\":0,\"ticks\":\"\"}}],\"scatter\":[{\"fillpattern\":{\"fillmode\":\"overlay\",\"size\":10,\"solidity\":0.2},\"type\":\"scatter\"}],\"parcoords\":[{\"type\":\"parcoords\",\"line\":{\"colorbar\":{\"outlinewidth\":0,\"ticks\":\"\"}}}],\"scatterpolargl\":[{\"type\":\"scatterpolargl\",\"marker\":{\"colorbar\":{\"outlinewidth\":0,\"ticks\":\"\"}}}],\"bar\":[{\"error_x\":{\"color\":\"#2a3f5f\"},\"error_y\":{\"color\":\"#2a3f5f\"},\"marker\":{\"line\":{\"color\":\"#E5ECF6\",\"width\":0.5},\"pattern\":{\"fillmode\":\"overlay\",\"size\":10,\"solidity\":0.2}},\"type\":\"bar\"}],\"scattergeo\":[{\"type\":\"scattergeo\",\"marker\":{\"colorbar\":{\"outlinewidth\":0,\"ticks\":\"\"}}}],\"scatterpolar\":[{\"type\":\"scatterpolar\",\"marker\":{\"colorbar\":{\"outlinewidth\":0,\"ticks\":\"\"}}}],\"histogram\":[{\"marker\":{\"pattern\":{\"fillmode\":\"overlay\",\"size\":10,\"solidity\":0.2}},\"type\":\"histogram\"}],\"scattergl\":[{\"type\":\"scattergl\",\"marker\":{\"colorbar\":{\"outlinewidth\":0,\"ticks\":\"\"}}}],\"scatter3d\":[{\"type\":\"scatter3d\",\"line\":{\"colorbar\":{\"outlinewidth\":0,\"ticks\":\"\"}},\"marker\":{\"colorbar\":{\"outlinewidth\":0,\"ticks\":\"\"}}}],\"scattermapbox\":[{\"type\":\"scattermapbox\",\"marker\":{\"colorbar\":{\"outlinewidth\":0,\"ticks\":\"\"}}}],\"scatterternary\":[{\"type\":\"scatterternary\",\"marker\":{\"colorbar\":{\"outlinewidth\":0,\"ticks\":\"\"}}}],\"scattercarpet\":[{\"type\":\"scattercarpet\",\"marker\":{\"colorbar\":{\"outlinewidth\":0,\"ticks\":\"\"}}}],\"carpet\":[{\"aaxis\":{\"endlinecolor\":\"#2a3f5f\",\"gridcolor\":\"white\",\"linecolor\":\"white\",\"minorgridcolor\":\"white\",\"startlinecolor\":\"#2a3f5f\"},\"baxis\":{\"endlinecolor\":\"#2a3f5f\",\"gridcolor\":\"white\",\"linecolor\":\"white\",\"minorgridcolor\":\"white\",\"startlinecolor\":\"#2a3f5f\"},\"type\":\"carpet\"}],\"table\":[{\"cells\":{\"fill\":{\"color\":\"#EBF0F8\"},\"line\":{\"color\":\"white\"}},\"header\":{\"fill\":{\"color\":\"#C8D4E3\"},\"line\":{\"color\":\"white\"}},\"type\":\"table\"}],\"barpolar\":[{\"marker\":{\"line\":{\"color\":\"#E5ECF6\",\"width\":0.5},\"pattern\":{\"fillmode\":\"overlay\",\"size\":10,\"solidity\":0.2}},\"type\":\"barpolar\"}],\"pie\":[{\"automargin\":true,\"type\":\"pie\"}]},\"layout\":{\"autotypenumbers\":\"strict\",\"colorway\":[\"#636efa\",\"#EF553B\",\"#00cc96\",\"#ab63fa\",\"#FFA15A\",\"#19d3f3\",\"#FF6692\",\"#B6E880\",\"#FF97FF\",\"#FECB52\"],\"font\":{\"color\":\"#2a3f5f\"},\"hovermode\":\"closest\",\"hoverlabel\":{\"align\":\"left\"},\"paper_bgcolor\":\"white\",\"plot_bgcolor\":\"#E5ECF6\",\"polar\":{\"bgcolor\":\"#E5ECF6\",\"angularaxis\":{\"gridcolor\":\"white\",\"linecolor\":\"white\",\"ticks\":\"\"},\"radialaxis\":{\"gridcolor\":\"white\",\"linecolor\":\"white\",\"ticks\":\"\"}},\"ternary\":{\"bgcolor\":\"#E5ECF6\",\"aaxis\":{\"gridcolor\":\"white\",\"linecolor\":\"white\",\"ticks\":\"\"},\"baxis\":{\"gridcolor\":\"white\",\"linecolor\":\"white\",\"ticks\":\"\"},\"caxis\":{\"gridcolor\":\"white\",\"linecolor\":\"white\",\"ticks\":\"\"}},\"coloraxis\":{\"colorbar\":{\"outlinewidth\":0,\"ticks\":\"\"}},\"colorscale\":{\"sequential\":[[0.0,\"#0d0887\"],[0.1111111111111111,\"#46039f\"],[0.2222222222222222,\"#7201a8\"],[0.3333333333333333,\"#9c179e\"],[0.4444444444444444,\"#bd3786\"],[0.5555555555555556,\"#d8576b\"],[0.6666666666666666,\"#ed7953\"],[0.7777777777777778,\"#fb9f3a\"],[0.8888888888888888,\"#fdca26\"],[1.0,\"#f0f921\"]],\"sequentialminus\":[[0.0,\"#0d0887\"],[0.1111111111111111,\"#46039f\"],[0.2222222222222222,\"#7201a8\"],[0.3333333333333333,\"#9c179e\"],[0.4444444444444444,\"#bd3786\"],[0.5555555555555556,\"#d8576b\"],[0.6666666666666666,\"#ed7953\"],[0.7777777777777778,\"#fb9f3a\"],[0.8888888888888888,\"#fdca26\"],[1.0,\"#f0f921\"]],\"diverging\":[[0,\"#8e0152\"],[0.1,\"#c51b7d\"],[0.2,\"#de77ae\"],[0.3,\"#f1b6da\"],[0.4,\"#fde0ef\"],[0.5,\"#f7f7f7\"],[0.6,\"#e6f5d0\"],[0.7,\"#b8e186\"],[0.8,\"#7fbc41\"],[0.9,\"#4d9221\"],[1,\"#276419\"]]},\"xaxis\":{\"gridcolor\":\"white\",\"linecolor\":\"white\",\"ticks\":\"\",\"title\":{\"standoff\":15},\"zerolinecolor\":\"white\",\"automargin\":true,\"zerolinewidth\":2},\"yaxis\":{\"gridcolor\":\"white\",\"linecolor\":\"white\",\"ticks\":\"\",\"title\":{\"standoff\":15},\"zerolinecolor\":\"white\",\"automargin\":true,\"zerolinewidth\":2},\"scene\":{\"xaxis\":{\"backgroundcolor\":\"#E5ECF6\",\"gridcolor\":\"white\",\"linecolor\":\"white\",\"showbackground\":true,\"ticks\":\"\",\"zerolinecolor\":\"white\",\"gridwidth\":2},\"yaxis\":{\"backgroundcolor\":\"#E5ECF6\",\"gridcolor\":\"white\",\"linecolor\":\"white\",\"showbackground\":true,\"ticks\":\"\",\"zerolinecolor\":\"white\",\"gridwidth\":2},\"zaxis\":{\"backgroundcolor\":\"#E5ECF6\",\"gridcolor\":\"white\",\"linecolor\":\"white\",\"showbackground\":true,\"ticks\":\"\",\"zerolinecolor\":\"white\",\"gridwidth\":2}},\"shapedefaults\":{\"line\":{\"color\":\"#2a3f5f\"}},\"annotationdefaults\":{\"arrowcolor\":\"#2a3f5f\",\"arrowhead\":0,\"arrowwidth\":1},\"geo\":{\"bgcolor\":\"white\",\"landcolor\":\"#E5ECF6\",\"subunitcolor\":\"white\",\"showland\":true,\"showlakes\":true,\"lakecolor\":\"white\"},\"title\":{\"x\":0.05},\"mapbox\":{\"style\":\"light\"}}}},                        {\"responsive\": true}                    ).then(function(){\n",
              "                            \n",
              "var gd = document.getElementById('c8c9f146-1b5a-4175-92d7-cb1e133e6f3e');\n",
              "var x = new MutationObserver(function (mutations, observer) {{\n",
              "        var display = window.getComputedStyle(gd).display;\n",
              "        if (!display || display === 'none') {{\n",
              "            console.log([gd, 'removed!']);\n",
              "            Plotly.purge(gd);\n",
              "            observer.disconnect();\n",
              "        }}\n",
              "}});\n",
              "\n",
              "// Listen for the removal of the full notebook cells\n",
              "var notebookContainer = gd.closest('#notebook-container');\n",
              "if (notebookContainer) {{\n",
              "    x.observe(notebookContainer, {childList: true});\n",
              "}}\n",
              "\n",
              "// Listen for the clearing of the current output cell\n",
              "var outputEl = gd.closest('.output');\n",
              "if (outputEl) {{\n",
              "    x.observe(outputEl, {childList: true});\n",
              "}}\n",
              "\n",
              "                        })                };                            </script>        </div>\n",
              "</body>\n",
              "</html>"
            ]
          },
          "metadata": {},
          "output_type": "display_data"
        }
      ],
      "source": [
        "\n",
        "# Define the number of clusters (k)\n",
        "k = 6\n",
        "\n",
        "# Initialize the K-means model\n",
        "kmeans = KMeans(n_clusters=k, random_state=0)\n",
        "\n",
        "# Fit the model to the data\n",
        "kmeans.fit(data)\n",
        "\n",
        "# Get cluster assignments and cluster centers\n",
        "labels = kmeans.labels_\n",
        "centers = kmeans.cluster_centers_\n",
        "\n",
        "# Create a 3D scatter plot\n",
        "fig = go.Figure(data=[go.Scatter3d(\n",
        "    x=xdata,\n",
        "    y=ydata,\n",
        "    z=zdata,\n",
        "    mode='markers',\n",
        "    marker=dict(color=labels, size=5),\n",
        ")])\n",
        "\n",
        "# Add cluster centers to the plot\n",
        "fig.add_trace(go.Scatter3d(\n",
        "    x=centers[:, 0],\n",
        "    y=centers[:, 1],\n",
        "    z=centers[:, 2],\n",
        "    mode='markers',\n",
        "    marker=dict(color='red', size=10, symbol='cross')\n",
        "))\n",
        "\n",
        "# Show the plot\n",
        "fig.show()\n"
      ]
    },
    {
      "cell_type": "markdown",
      "metadata": {
        "id": "e44c-ubSxaf1"
      },
      "source": [
        "## Exemples from Clusters"
      ]
    },
    {
      "cell_type": "code",
      "execution_count": null,
      "metadata": {
        "colab": {
          "base_uri": "https://localhost:8080/"
        },
        "id": "-kaqt9L3_rGS",
        "outputId": "8900b403-dc40-46b2-be1c-dce50810d5f9"
      },
      "outputs": [
        {
          "data": {
            "text/plain": [
              "(array([6]),)"
            ]
          },
          "execution_count": 141,
          "metadata": {},
          "output_type": "execute_result"
        }
      ],
      "source": [
        "# cluster 1\n",
        "np.where( (np.round(xdata,2)==-2.61) & (np.round(ydata,2)==-47.72) & (np.round(zdata,2)==2.24))"
      ]
    },
    {
      "cell_type": "code",
      "execution_count": null,
      "metadata": {
        "colab": {
          "base_uri": "https://localhost:8080/"
        },
        "id": "lKU-b42L_rD8",
        "outputId": "0da7b839-ade2-417a-c478-20573096de1d"
      },
      "outputs": [
        {
          "data": {
            "text/plain": [
              "(array([14]),)"
            ]
          },
          "execution_count": 125,
          "metadata": {},
          "output_type": "execute_result"
        }
      ],
      "source": [
        "# cluster 2\n",
        "np.where( (np.round(xdata,2)==8.43) & (np.round(ydata,2)==-43.72) & (np.round(zdata,2)==-3.14))"
      ]
    },
    {
      "cell_type": "code",
      "execution_count": null,
      "metadata": {
        "colab": {
          "base_uri": "https://localhost:8080/"
        },
        "id": "8QjNSDcU_rB-",
        "outputId": "e6dc5a30-c718-4faf-b59d-9c325e66b774"
      },
      "outputs": [
        {
          "data": {
            "text/plain": [
              "(array([21]),)"
            ]
          },
          "execution_count": 130,
          "metadata": {},
          "output_type": "execute_result"
        }
      ],
      "source": [
        "# cluster 3\n",
        "np.where( (np.round(xdata,2)==-5.01) & (np.round(ydata,2)==-38.86) & (np.round(zdata,2)==-15.56))"
      ]
    },
    {
      "cell_type": "code",
      "execution_count": null,
      "metadata": {
        "colab": {
          "base_uri": "https://localhost:8080/"
        },
        "id": "O2kIWPfN_q-7",
        "outputId": "54576370-7679-4b40-c96b-9fa75df07757"
      },
      "outputs": [
        {
          "data": {
            "text/plain": [
              "(array([7]),)"
            ]
          },
          "execution_count": 132,
          "metadata": {},
          "output_type": "execute_result"
        }
      ],
      "source": [
        "# cluster 4\n",
        "np.where( (np.round(xdata,2)==-17.50) & (np.round(ydata,2)==-41.22) & (np.round(zdata,2)==8.28))"
      ]
    },
    {
      "cell_type": "code",
      "execution_count": null,
      "metadata": {
        "colab": {
          "base_uri": "https://localhost:8080/"
        },
        "id": "kNwAvCsf_q8U",
        "outputId": "25328ebe-86cc-42a4-c213-6b2c58d8fff7"
      },
      "outputs": [
        {
          "data": {
            "text/plain": [
              "(array([13]),)"
            ]
          },
          "execution_count": 134,
          "metadata": {},
          "output_type": "execute_result"
        }
      ],
      "source": [
        "# cluster 5\n",
        "np.where( (np.round(xdata,2)==-14.44) & (np.round(ydata,2)==-30.74) & (np.round(zdata,2)==-26.65))"
      ]
    },
    {
      "cell_type": "code",
      "execution_count": null,
      "metadata": {
        "colab": {
          "base_uri": "https://localhost:8080/"
        },
        "id": "4d2J-lBS_q6X",
        "outputId": "9c69c062-f47c-46f2-ed51-33d6d91fb98b"
      },
      "outputs": [
        {
          "data": {
            "text/plain": [
              "(array([11]),)"
            ]
          },
          "execution_count": 136,
          "metadata": {},
          "output_type": "execute_result"
        }
      ],
      "source": [
        "# cluster 6\n",
        "np.where( (np.round(xdata,2)==-24.65) & (np.round(ydata,2)==-33.70) & (np.round(zdata,2)==-11.83))"
      ]
    },
    {
      "cell_type": "code",
      "execution_count": null,
      "metadata": {
        "colab": {
          "base_uri": "https://localhost:8080/"
        },
        "id": "FzHMONyL_q3t",
        "outputId": "46badb22-4792-44d5-d621-e4a6441a969f"
      },
      "outputs": [
        {
          "data": {
            "text/plain": [
              "(array([26]),)"
            ]
          },
          "execution_count": 139,
          "metadata": {},
          "output_type": "execute_result"
        }
      ],
      "source": [
        "# cluster 7\n",
        "np.where( (np.round(xdata,2)==-4.11) & (np.round(ydata,2)==-44.61) & (np.round(zdata,2)==-0.66))"
      ]
    },
    {
      "cell_type": "code",
      "execution_count": null,
      "metadata": {
        "colab": {
          "base_uri": "https://localhost:8080/"
        },
        "id": "xbQnAECq_q1k",
        "outputId": "f33e3ca8-c40f-409a-8ddf-e2c99af88ae2"
      },
      "outputs": [
        {
          "data": {
            "text/plain": [
              "(array([36]),)"
            ]
          },
          "execution_count": 140,
          "metadata": {},
          "output_type": "execute_result"
        }
      ],
      "source": [
        "# cluster 8\n",
        "np.where( (np.round(xdata,2)==-31.50) & (np.round(ydata,2)==-30.62) & (np.round(zdata,2)==0.92))"
      ]
    },
    {
      "cell_type": "code",
      "execution_count": null,
      "metadata": {
        "colab": {
          "base_uri": "https://localhost:8080/"
        },
        "id": "YAkqm2Zd_qzS",
        "outputId": "3f8be18b-30f1-493b-a30e-bd947ee4e063"
      },
      "outputs": [
        {
          "data": {
            "text/plain": [
              "(array([9]),)"
            ]
          },
          "execution_count": 142,
          "metadata": {},
          "output_type": "execute_result"
        }
      ],
      "source": [
        "# cluster 9\n",
        "np.where( (np.round(xdata,2)==-38.58) & (np.round(ydata,2)==-20.73) & (np.round(zdata,2)==-2.39))"
      ]
    },
    {
      "cell_type": "code",
      "execution_count": null,
      "metadata": {
        "colab": {
          "base_uri": "https://localhost:8080/"
        },
        "id": "800TBoib_qxB",
        "outputId": "e2470256-3911-49f1-e24f-f1117600c929"
      },
      "outputs": [
        {
          "data": {
            "text/plain": [
              "(array([1]),)"
            ]
          },
          "execution_count": 143,
          "metadata": {},
          "output_type": "execute_result"
        }
      ],
      "source": [
        "# cluster 10\n",
        "np.where( (np.round(xdata,2)==-37.73) & (np.round(ydata,2)==-17.02) & (np.round(zdata,2)==-17.13))"
      ]
    },
    {
      "cell_type": "code",
      "execution_count": null,
      "metadata": {
        "id": "b7t3JL7h_quF"
      },
      "outputs": [],
      "source": []
    },
    {
      "cell_type": "code",
      "execution_count": null,
      "metadata": {
        "id": "6StmbFjXt-E1"
      },
      "outputs": [],
      "source": []
    },
    {
      "cell_type": "code",
      "execution_count": null,
      "metadata": {
        "id": "nkHmo4B0LSYt"
      },
      "outputs": [],
      "source": []
    },
    {
      "cell_type": "code",
      "execution_count": null,
      "metadata": {
        "id": "gPBy2aquLST8"
      },
      "outputs": [],
      "source": []
    }
  ],
  "metadata": {
    "colab": {
      "machine_shape": "hm",
      "provenance": []
    },
    "kernelspec": {
      "display_name": "Python 3",
      "name": "python3"
    },
    "language_info": {
      "codemirror_mode": {
        "name": "ipython",
        "version": 3
      },
      "file_extension": ".py",
      "mimetype": "text/x-python",
      "name": "python",
      "nbconvert_exporter": "python",
      "pygments_lexer": "ipython3",
      "version": "3.7.6"
    }
  },
  "nbformat": 4,
  "nbformat_minor": 0
}